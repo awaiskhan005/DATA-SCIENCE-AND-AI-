{
  "cells": [
    {
      "cell_type": "markdown",
      "metadata": {
        "id": "view-in-github",
        "colab_type": "text"
      },
      "source": [
        "<a href=\"https://colab.research.google.com/github/awaiskhan005/DATA-SCIENCE-AND-AI-/blob/main/K_Nearest_Neighbors_with_Python.ipynb\" target=\"_parent\"><img src=\"https://colab.research.google.com/assets/colab-badge.svg\" alt=\"Open In Colab\"/></a>"
      ]
    },
    {
      "cell_type": "markdown",
      "metadata": {
        "id": "PGc1-LmNcMWK"
      },
      "source": []
    },
    {
      "cell_type": "markdown",
      "metadata": {
        "id": "aZlHCN2zcMWT"
      },
      "source": [
        "# K Nearest Neighbors with Python\n",
        "\n",
        "You've been given a classified data set from a company! They've hidden the feature column names but have given you the data and the target classes.\n",
        "\n",
        "We'll try to use KNN to create a model that directly predicts a class for a new data point based off of the features.\n",
        "\n",
        "Let's grab it and use it!"
      ]
    },
    {
      "cell_type": "markdown",
      "metadata": {
        "id": "i1WMbNKvcMWU"
      },
      "source": [
        "## Import Libraries\n",
        "\n"
      ]
    },
    {
      "cell_type": "code",
      "execution_count": 1,
      "metadata": {
        "collapsed": true,
        "id": "K7qQQl3ycMWV"
      },
      "outputs": [],
      "source": [
        "import pandas as pd\n",
        "import seaborn as sns\n",
        "import matplotlib.pyplot as plt\n",
        "import numpy as np\n",
        "%matplotlib inline"
      ]
    },
    {
      "cell_type": "markdown",
      "metadata": {
        "id": "ErbG-9HlcMWX"
      },
      "source": [
        "## Get the Data\n",
        "\n",
        "Set index_col=0 to use the first column as the index."
      ]
    },
    {
      "cell_type": "code",
      "execution_count": 3,
      "metadata": {
        "id": "383BO2oPcMWX"
      },
      "outputs": [],
      "source": [
        "df = pd.read_csv(\"/content/sample_data/Classified Data.txt\",index_col=0)"
      ]
    },
    {
      "cell_type": "code",
      "execution_count": 4,
      "metadata": {
        "id": "wtZ6qX61cMWY",
        "outputId": "ee5bfeb0-3d65-4216-f541-3f9cf418b1f6",
        "colab": {
          "base_uri": "https://localhost:8080/",
          "height": 206
        }
      },
      "outputs": [
        {
          "output_type": "execute_result",
          "data": {
            "text/plain": [
              "        WTT       PTI       EQW       SBI       LQE       QWG       FDJ  \\\n",
              "0  0.913917  1.162073  0.567946  0.755464  0.780862  0.352608  0.759697   \n",
              "1  0.635632  1.003722  0.535342  0.825645  0.924109  0.648450  0.675334   \n",
              "2  0.721360  1.201493  0.921990  0.855595  1.526629  0.720781  1.626351   \n",
              "3  1.234204  1.386726  0.653046  0.825624  1.142504  0.875128  1.409708   \n",
              "4  1.279491  0.949750  0.627280  0.668976  1.232537  0.703727  1.115596   \n",
              "\n",
              "        PJF       HQE       NXJ  TARGET CLASS  \n",
              "0  0.643798  0.879422  1.231409             1  \n",
              "1  1.013546  0.621552  1.492702             0  \n",
              "2  1.154483  0.957877  1.285597             0  \n",
              "3  1.380003  1.522692  1.153093             1  \n",
              "4  0.646691  1.463812  1.419167             1  "
            ],
            "text/html": [
              "\n",
              "  <div id=\"df-108506e0-3457-45d9-8af2-800991c258b2\" class=\"colab-df-container\">\n",
              "    <div>\n",
              "<style scoped>\n",
              "    .dataframe tbody tr th:only-of-type {\n",
              "        vertical-align: middle;\n",
              "    }\n",
              "\n",
              "    .dataframe tbody tr th {\n",
              "        vertical-align: top;\n",
              "    }\n",
              "\n",
              "    .dataframe thead th {\n",
              "        text-align: right;\n",
              "    }\n",
              "</style>\n",
              "<table border=\"1\" class=\"dataframe\">\n",
              "  <thead>\n",
              "    <tr style=\"text-align: right;\">\n",
              "      <th></th>\n",
              "      <th>WTT</th>\n",
              "      <th>PTI</th>\n",
              "      <th>EQW</th>\n",
              "      <th>SBI</th>\n",
              "      <th>LQE</th>\n",
              "      <th>QWG</th>\n",
              "      <th>FDJ</th>\n",
              "      <th>PJF</th>\n",
              "      <th>HQE</th>\n",
              "      <th>NXJ</th>\n",
              "      <th>TARGET CLASS</th>\n",
              "    </tr>\n",
              "  </thead>\n",
              "  <tbody>\n",
              "    <tr>\n",
              "      <th>0</th>\n",
              "      <td>0.913917</td>\n",
              "      <td>1.162073</td>\n",
              "      <td>0.567946</td>\n",
              "      <td>0.755464</td>\n",
              "      <td>0.780862</td>\n",
              "      <td>0.352608</td>\n",
              "      <td>0.759697</td>\n",
              "      <td>0.643798</td>\n",
              "      <td>0.879422</td>\n",
              "      <td>1.231409</td>\n",
              "      <td>1</td>\n",
              "    </tr>\n",
              "    <tr>\n",
              "      <th>1</th>\n",
              "      <td>0.635632</td>\n",
              "      <td>1.003722</td>\n",
              "      <td>0.535342</td>\n",
              "      <td>0.825645</td>\n",
              "      <td>0.924109</td>\n",
              "      <td>0.648450</td>\n",
              "      <td>0.675334</td>\n",
              "      <td>1.013546</td>\n",
              "      <td>0.621552</td>\n",
              "      <td>1.492702</td>\n",
              "      <td>0</td>\n",
              "    </tr>\n",
              "    <tr>\n",
              "      <th>2</th>\n",
              "      <td>0.721360</td>\n",
              "      <td>1.201493</td>\n",
              "      <td>0.921990</td>\n",
              "      <td>0.855595</td>\n",
              "      <td>1.526629</td>\n",
              "      <td>0.720781</td>\n",
              "      <td>1.626351</td>\n",
              "      <td>1.154483</td>\n",
              "      <td>0.957877</td>\n",
              "      <td>1.285597</td>\n",
              "      <td>0</td>\n",
              "    </tr>\n",
              "    <tr>\n",
              "      <th>3</th>\n",
              "      <td>1.234204</td>\n",
              "      <td>1.386726</td>\n",
              "      <td>0.653046</td>\n",
              "      <td>0.825624</td>\n",
              "      <td>1.142504</td>\n",
              "      <td>0.875128</td>\n",
              "      <td>1.409708</td>\n",
              "      <td>1.380003</td>\n",
              "      <td>1.522692</td>\n",
              "      <td>1.153093</td>\n",
              "      <td>1</td>\n",
              "    </tr>\n",
              "    <tr>\n",
              "      <th>4</th>\n",
              "      <td>1.279491</td>\n",
              "      <td>0.949750</td>\n",
              "      <td>0.627280</td>\n",
              "      <td>0.668976</td>\n",
              "      <td>1.232537</td>\n",
              "      <td>0.703727</td>\n",
              "      <td>1.115596</td>\n",
              "      <td>0.646691</td>\n",
              "      <td>1.463812</td>\n",
              "      <td>1.419167</td>\n",
              "      <td>1</td>\n",
              "    </tr>\n",
              "  </tbody>\n",
              "</table>\n",
              "</div>\n",
              "    <div class=\"colab-df-buttons\">\n",
              "\n",
              "  <div class=\"colab-df-container\">\n",
              "    <button class=\"colab-df-convert\" onclick=\"convertToInteractive('df-108506e0-3457-45d9-8af2-800991c258b2')\"\n",
              "            title=\"Convert this dataframe to an interactive table.\"\n",
              "            style=\"display:none;\">\n",
              "\n",
              "  <svg xmlns=\"http://www.w3.org/2000/svg\" height=\"24px\" viewBox=\"0 -960 960 960\">\n",
              "    <path d=\"M120-120v-720h720v720H120Zm60-500h600v-160H180v160Zm220 220h160v-160H400v160Zm0 220h160v-160H400v160ZM180-400h160v-160H180v160Zm440 0h160v-160H620v160ZM180-180h160v-160H180v160Zm440 0h160v-160H620v160Z\"/>\n",
              "  </svg>\n",
              "    </button>\n",
              "\n",
              "  <style>\n",
              "    .colab-df-container {\n",
              "      display:flex;\n",
              "      gap: 12px;\n",
              "    }\n",
              "\n",
              "    .colab-df-convert {\n",
              "      background-color: #E8F0FE;\n",
              "      border: none;\n",
              "      border-radius: 50%;\n",
              "      cursor: pointer;\n",
              "      display: none;\n",
              "      fill: #1967D2;\n",
              "      height: 32px;\n",
              "      padding: 0 0 0 0;\n",
              "      width: 32px;\n",
              "    }\n",
              "\n",
              "    .colab-df-convert:hover {\n",
              "      background-color: #E2EBFA;\n",
              "      box-shadow: 0px 1px 2px rgba(60, 64, 67, 0.3), 0px 1px 3px 1px rgba(60, 64, 67, 0.15);\n",
              "      fill: #174EA6;\n",
              "    }\n",
              "\n",
              "    .colab-df-buttons div {\n",
              "      margin-bottom: 4px;\n",
              "    }\n",
              "\n",
              "    [theme=dark] .colab-df-convert {\n",
              "      background-color: #3B4455;\n",
              "      fill: #D2E3FC;\n",
              "    }\n",
              "\n",
              "    [theme=dark] .colab-df-convert:hover {\n",
              "      background-color: #434B5C;\n",
              "      box-shadow: 0px 1px 3px 1px rgba(0, 0, 0, 0.15);\n",
              "      filter: drop-shadow(0px 1px 2px rgba(0, 0, 0, 0.3));\n",
              "      fill: #FFFFFF;\n",
              "    }\n",
              "  </style>\n",
              "\n",
              "    <script>\n",
              "      const buttonEl =\n",
              "        document.querySelector('#df-108506e0-3457-45d9-8af2-800991c258b2 button.colab-df-convert');\n",
              "      buttonEl.style.display =\n",
              "        google.colab.kernel.accessAllowed ? 'block' : 'none';\n",
              "\n",
              "      async function convertToInteractive(key) {\n",
              "        const element = document.querySelector('#df-108506e0-3457-45d9-8af2-800991c258b2');\n",
              "        const dataTable =\n",
              "          await google.colab.kernel.invokeFunction('convertToInteractive',\n",
              "                                                    [key], {});\n",
              "        if (!dataTable) return;\n",
              "\n",
              "        const docLinkHtml = 'Like what you see? Visit the ' +\n",
              "          '<a target=\"_blank\" href=https://colab.research.google.com/notebooks/data_table.ipynb>data table notebook</a>'\n",
              "          + ' to learn more about interactive tables.';\n",
              "        element.innerHTML = '';\n",
              "        dataTable['output_type'] = 'display_data';\n",
              "        await google.colab.output.renderOutput(dataTable, element);\n",
              "        const docLink = document.createElement('div');\n",
              "        docLink.innerHTML = docLinkHtml;\n",
              "        element.appendChild(docLink);\n",
              "      }\n",
              "    </script>\n",
              "  </div>\n",
              "\n",
              "\n",
              "<div id=\"df-a841dff4-53a2-4ce4-aa67-a659e93f0489\">\n",
              "  <button class=\"colab-df-quickchart\" onclick=\"quickchart('df-a841dff4-53a2-4ce4-aa67-a659e93f0489')\"\n",
              "            title=\"Suggest charts\"\n",
              "            style=\"display:none;\">\n",
              "\n",
              "<svg xmlns=\"http://www.w3.org/2000/svg\" height=\"24px\"viewBox=\"0 0 24 24\"\n",
              "     width=\"24px\">\n",
              "    <g>\n",
              "        <path d=\"M19 3H5c-1.1 0-2 .9-2 2v14c0 1.1.9 2 2 2h14c1.1 0 2-.9 2-2V5c0-1.1-.9-2-2-2zM9 17H7v-7h2v7zm4 0h-2V7h2v10zm4 0h-2v-4h2v4z\"/>\n",
              "    </g>\n",
              "</svg>\n",
              "  </button>\n",
              "\n",
              "<style>\n",
              "  .colab-df-quickchart {\n",
              "      --bg-color: #E8F0FE;\n",
              "      --fill-color: #1967D2;\n",
              "      --hover-bg-color: #E2EBFA;\n",
              "      --hover-fill-color: #174EA6;\n",
              "      --disabled-fill-color: #AAA;\n",
              "      --disabled-bg-color: #DDD;\n",
              "  }\n",
              "\n",
              "  [theme=dark] .colab-df-quickchart {\n",
              "      --bg-color: #3B4455;\n",
              "      --fill-color: #D2E3FC;\n",
              "      --hover-bg-color: #434B5C;\n",
              "      --hover-fill-color: #FFFFFF;\n",
              "      --disabled-bg-color: #3B4455;\n",
              "      --disabled-fill-color: #666;\n",
              "  }\n",
              "\n",
              "  .colab-df-quickchart {\n",
              "    background-color: var(--bg-color);\n",
              "    border: none;\n",
              "    border-radius: 50%;\n",
              "    cursor: pointer;\n",
              "    display: none;\n",
              "    fill: var(--fill-color);\n",
              "    height: 32px;\n",
              "    padding: 0;\n",
              "    width: 32px;\n",
              "  }\n",
              "\n",
              "  .colab-df-quickchart:hover {\n",
              "    background-color: var(--hover-bg-color);\n",
              "    box-shadow: 0 1px 2px rgba(60, 64, 67, 0.3), 0 1px 3px 1px rgba(60, 64, 67, 0.15);\n",
              "    fill: var(--button-hover-fill-color);\n",
              "  }\n",
              "\n",
              "  .colab-df-quickchart-complete:disabled,\n",
              "  .colab-df-quickchart-complete:disabled:hover {\n",
              "    background-color: var(--disabled-bg-color);\n",
              "    fill: var(--disabled-fill-color);\n",
              "    box-shadow: none;\n",
              "  }\n",
              "\n",
              "  .colab-df-spinner {\n",
              "    border: 2px solid var(--fill-color);\n",
              "    border-color: transparent;\n",
              "    border-bottom-color: var(--fill-color);\n",
              "    animation:\n",
              "      spin 1s steps(1) infinite;\n",
              "  }\n",
              "\n",
              "  @keyframes spin {\n",
              "    0% {\n",
              "      border-color: transparent;\n",
              "      border-bottom-color: var(--fill-color);\n",
              "      border-left-color: var(--fill-color);\n",
              "    }\n",
              "    20% {\n",
              "      border-color: transparent;\n",
              "      border-left-color: var(--fill-color);\n",
              "      border-top-color: var(--fill-color);\n",
              "    }\n",
              "    30% {\n",
              "      border-color: transparent;\n",
              "      border-left-color: var(--fill-color);\n",
              "      border-top-color: var(--fill-color);\n",
              "      border-right-color: var(--fill-color);\n",
              "    }\n",
              "    40% {\n",
              "      border-color: transparent;\n",
              "      border-right-color: var(--fill-color);\n",
              "      border-top-color: var(--fill-color);\n",
              "    }\n",
              "    60% {\n",
              "      border-color: transparent;\n",
              "      border-right-color: var(--fill-color);\n",
              "    }\n",
              "    80% {\n",
              "      border-color: transparent;\n",
              "      border-right-color: var(--fill-color);\n",
              "      border-bottom-color: var(--fill-color);\n",
              "    }\n",
              "    90% {\n",
              "      border-color: transparent;\n",
              "      border-bottom-color: var(--fill-color);\n",
              "    }\n",
              "  }\n",
              "</style>\n",
              "\n",
              "  <script>\n",
              "    async function quickchart(key) {\n",
              "      const quickchartButtonEl =\n",
              "        document.querySelector('#' + key + ' button');\n",
              "      quickchartButtonEl.disabled = true;  // To prevent multiple clicks.\n",
              "      quickchartButtonEl.classList.add('colab-df-spinner');\n",
              "      try {\n",
              "        const charts = await google.colab.kernel.invokeFunction(\n",
              "            'suggestCharts', [key], {});\n",
              "      } catch (error) {\n",
              "        console.error('Error during call to suggestCharts:', error);\n",
              "      }\n",
              "      quickchartButtonEl.classList.remove('colab-df-spinner');\n",
              "      quickchartButtonEl.classList.add('colab-df-quickchart-complete');\n",
              "    }\n",
              "    (() => {\n",
              "      let quickchartButtonEl =\n",
              "        document.querySelector('#df-a841dff4-53a2-4ce4-aa67-a659e93f0489 button');\n",
              "      quickchartButtonEl.style.display =\n",
              "        google.colab.kernel.accessAllowed ? 'block' : 'none';\n",
              "    })();\n",
              "  </script>\n",
              "</div>\n",
              "\n",
              "    </div>\n",
              "  </div>\n"
            ],
            "application/vnd.google.colaboratory.intrinsic+json": {
              "type": "dataframe",
              "variable_name": "df",
              "summary": "{\n  \"name\": \"df\",\n  \"rows\": 1000,\n  \"fields\": [\n    {\n      \"column\": \"WTT\",\n      \"properties\": {\n        \"dtype\": \"number\",\n        \"std\": 0.28963525165758874,\n        \"min\": 0.174411668391638,\n        \"max\": 1.721779168965468,\n        \"samples\": [\n          0.7063010303254464,\n          1.3496574995895918,\n          1.3169005830819778\n        ],\n        \"num_unique_values\": 1000,\n        \"semantic_type\": \"\",\n        \"description\": \"\"\n      }\n    },\n    {\n      \"column\": \"PTI\",\n      \"properties\": {\n        \"dtype\": \"number\",\n        \"std\": 0.25708526213795485,\n        \"min\": 0.441398100295989,\n        \"max\": 1.8337565522536252,\n        \"samples\": [\n          1.521177618895161,\n          1.2203336025956588,\n          1.1486493499359351\n        ],\n        \"num_unique_values\": 1000,\n        \"semantic_type\": \"\",\n        \"description\": \"\"\n      }\n    },\n    {\n      \"column\": \"EQW\",\n      \"properties\": {\n        \"dtype\": \"number\",\n        \"std\": 0.2915538503444115,\n        \"min\": 0.1709236280526556,\n        \"max\": 1.7227247553711322,\n        \"samples\": [\n          1.130807438901416,\n          0.7058621252266584,\n          1.0433060732882415\n        ],\n        \"num_unique_values\": 1000,\n        \"semantic_type\": \"\",\n        \"description\": \"\"\n      }\n    },\n    {\n      \"column\": \"SBI\",\n      \"properties\": {\n        \"dtype\": \"number\",\n        \"std\": 0.22964502416144614,\n        \"min\": 0.0450266664094166,\n        \"max\": 1.634884045436437,\n        \"samples\": [\n          0.4034386350051173,\n          0.8143574265988366,\n          0.9019193027640824\n        ],\n        \"num_unique_values\": 1000,\n        \"semantic_type\": \"\",\n        \"description\": \"\"\n      }\n    },\n    {\n      \"column\": \"LQE\",\n      \"properties\": {\n        \"dtype\": \"number\",\n        \"std\": 0.24341295346925404,\n        \"min\": 0.3153070077960995,\n        \"max\": 1.650049589008639,\n        \"samples\": [\n          0.8967456416302068,\n          0.6699170570739925,\n          0.9443602753750552\n        ],\n        \"num_unique_values\": 1000,\n        \"semantic_type\": \"\",\n        \"description\": \"\"\n      }\n    },\n    {\n      \"column\": \"QWG\",\n      \"properties\": {\n        \"dtype\": \"number\",\n        \"std\": 0.25612059661087283,\n        \"min\": 0.2623888468883443,\n        \"max\": 1.6669023520657231,\n        \"samples\": [\n          0.9158571059683956,\n          0.6719997779429592,\n          1.1087710280109884\n        ],\n        \"num_unique_values\": 1000,\n        \"semantic_type\": \"\",\n        \"description\": \"\"\n      }\n    },\n    {\n      \"column\": \"FDJ\",\n      \"properties\": {\n        \"dtype\": \"number\",\n        \"std\": 0.25511802913126286,\n        \"min\": 0.2952280855806717,\n        \"max\": 1.7133422293242386,\n        \"samples\": [\n          1.0701452103715168,\n          0.7467547171292814,\n          0.3132418138897407\n        ],\n        \"num_unique_values\": 1000,\n        \"semantic_type\": \"\",\n        \"description\": \"\"\n      }\n    },\n    {\n      \"column\": \"PJF\",\n      \"properties\": {\n        \"dtype\": \"number\",\n        \"std\": 0.28898164327767917,\n        \"min\": 0.299475657020008,\n        \"max\": 1.7854196250383634,\n        \"samples\": [\n          1.2150324734826512,\n          0.5407172165654959,\n          0.8107025990833856\n        ],\n        \"num_unique_values\": 1000,\n        \"semantic_type\": \"\",\n        \"description\": \"\"\n      }\n    },\n    {\n      \"column\": \"HQE\",\n      \"properties\": {\n        \"dtype\": \"number\",\n        \"std\": 0.29373751661647246,\n        \"min\": 0.3651566098613977,\n        \"max\": 1.8856900849797629,\n        \"samples\": [\n          1.0385048132735202,\n          1.4319928464192602,\n          1.0343550687529062\n        ],\n        \"num_unique_values\": 1000,\n        \"semantic_type\": \"\",\n        \"description\": \"\"\n      }\n    },\n    {\n      \"column\": \"NXJ\",\n      \"properties\": {\n        \"dtype\": \"number\",\n        \"std\": 0.204225023410037,\n        \"min\": 0.639692747423801,\n        \"max\": 1.8939496030653464,\n        \"samples\": [\n          1.4457974108545717,\n          1.173152878750532,\n          1.5851535299635755\n        ],\n        \"num_unique_values\": 1000,\n        \"semantic_type\": \"\",\n        \"description\": \"\"\n      }\n    },\n    {\n      \"column\": \"TARGET CLASS\",\n      \"properties\": {\n        \"dtype\": \"number\",\n        \"std\": 0,\n        \"min\": 0,\n        \"max\": 1,\n        \"samples\": [\n          0,\n          1\n        ],\n        \"num_unique_values\": 2,\n        \"semantic_type\": \"\",\n        \"description\": \"\"\n      }\n    }\n  ]\n}"
            }
          },
          "metadata": {},
          "execution_count": 4
        }
      ],
      "source": [
        "df.head()"
      ]
    },
    {
      "cell_type": "markdown",
      "metadata": {
        "id": "9sG2RNhLcMWa"
      },
      "source": [
        "## Standardize the Variables\n",
        "\n",
        "Because the KNN classifier predicts the class of a given test observation by identifying the observations that are nearest to it, the scale of the variables matters. Any variables that are on a large scale will have a much larger effect on the distance between the observations, and hence on the KNN classifier, than variables that are on a small scale."
      ]
    },
    {
      "cell_type": "code",
      "execution_count": 5,
      "metadata": {
        "collapsed": true,
        "id": "3ZJ-iIfccMWb"
      },
      "outputs": [],
      "source": [
        "from sklearn.preprocessing import StandardScaler"
      ]
    },
    {
      "cell_type": "code",
      "execution_count": 6,
      "metadata": {
        "collapsed": true,
        "id": "2pmVGq7EcMWb"
      },
      "outputs": [],
      "source": [
        "scaler = StandardScaler()"
      ]
    },
    {
      "cell_type": "code",
      "execution_count": 7,
      "metadata": {
        "id": "qcUNYyh9cMWd",
        "outputId": "eeb42073-f04a-4a75-bc3b-0f6e3eb68027",
        "colab": {
          "base_uri": "https://localhost:8080/",
          "height": 75
        }
      },
      "outputs": [
        {
          "output_type": "execute_result",
          "data": {
            "text/plain": [
              "StandardScaler()"
            ],
            "text/html": [
              "<style>#sk-container-id-1 {color: black;background-color: white;}#sk-container-id-1 pre{padding: 0;}#sk-container-id-1 div.sk-toggleable {background-color: white;}#sk-container-id-1 label.sk-toggleable__label {cursor: pointer;display: block;width: 100%;margin-bottom: 0;padding: 0.3em;box-sizing: border-box;text-align: center;}#sk-container-id-1 label.sk-toggleable__label-arrow:before {content: \"▸\";float: left;margin-right: 0.25em;color: #696969;}#sk-container-id-1 label.sk-toggleable__label-arrow:hover:before {color: black;}#sk-container-id-1 div.sk-estimator:hover label.sk-toggleable__label-arrow:before {color: black;}#sk-container-id-1 div.sk-toggleable__content {max-height: 0;max-width: 0;overflow: hidden;text-align: left;background-color: #f0f8ff;}#sk-container-id-1 div.sk-toggleable__content pre {margin: 0.2em;color: black;border-radius: 0.25em;background-color: #f0f8ff;}#sk-container-id-1 input.sk-toggleable__control:checked~div.sk-toggleable__content {max-height: 200px;max-width: 100%;overflow: auto;}#sk-container-id-1 input.sk-toggleable__control:checked~label.sk-toggleable__label-arrow:before {content: \"▾\";}#sk-container-id-1 div.sk-estimator input.sk-toggleable__control:checked~label.sk-toggleable__label {background-color: #d4ebff;}#sk-container-id-1 div.sk-label input.sk-toggleable__control:checked~label.sk-toggleable__label {background-color: #d4ebff;}#sk-container-id-1 input.sk-hidden--visually {border: 0;clip: rect(1px 1px 1px 1px);clip: rect(1px, 1px, 1px, 1px);height: 1px;margin: -1px;overflow: hidden;padding: 0;position: absolute;width: 1px;}#sk-container-id-1 div.sk-estimator {font-family: monospace;background-color: #f0f8ff;border: 1px dotted black;border-radius: 0.25em;box-sizing: border-box;margin-bottom: 0.5em;}#sk-container-id-1 div.sk-estimator:hover {background-color: #d4ebff;}#sk-container-id-1 div.sk-parallel-item::after {content: \"\";width: 100%;border-bottom: 1px solid gray;flex-grow: 1;}#sk-container-id-1 div.sk-label:hover label.sk-toggleable__label {background-color: #d4ebff;}#sk-container-id-1 div.sk-serial::before {content: \"\";position: absolute;border-left: 1px solid gray;box-sizing: border-box;top: 0;bottom: 0;left: 50%;z-index: 0;}#sk-container-id-1 div.sk-serial {display: flex;flex-direction: column;align-items: center;background-color: white;padding-right: 0.2em;padding-left: 0.2em;position: relative;}#sk-container-id-1 div.sk-item {position: relative;z-index: 1;}#sk-container-id-1 div.sk-parallel {display: flex;align-items: stretch;justify-content: center;background-color: white;position: relative;}#sk-container-id-1 div.sk-item::before, #sk-container-id-1 div.sk-parallel-item::before {content: \"\";position: absolute;border-left: 1px solid gray;box-sizing: border-box;top: 0;bottom: 0;left: 50%;z-index: -1;}#sk-container-id-1 div.sk-parallel-item {display: flex;flex-direction: column;z-index: 1;position: relative;background-color: white;}#sk-container-id-1 div.sk-parallel-item:first-child::after {align-self: flex-end;width: 50%;}#sk-container-id-1 div.sk-parallel-item:last-child::after {align-self: flex-start;width: 50%;}#sk-container-id-1 div.sk-parallel-item:only-child::after {width: 0;}#sk-container-id-1 div.sk-dashed-wrapped {border: 1px dashed gray;margin: 0 0.4em 0.5em 0.4em;box-sizing: border-box;padding-bottom: 0.4em;background-color: white;}#sk-container-id-1 div.sk-label label {font-family: monospace;font-weight: bold;display: inline-block;line-height: 1.2em;}#sk-container-id-1 div.sk-label-container {text-align: center;}#sk-container-id-1 div.sk-container {/* jupyter's `normalize.less` sets `[hidden] { display: none; }` but bootstrap.min.css set `[hidden] { display: none !important; }` so we also need the `!important` here to be able to override the default hidden behavior on the sphinx rendered scikit-learn.org. See: https://github.com/scikit-learn/scikit-learn/issues/21755 */display: inline-block !important;position: relative;}#sk-container-id-1 div.sk-text-repr-fallback {display: none;}</style><div id=\"sk-container-id-1\" class=\"sk-top-container\"><div class=\"sk-text-repr-fallback\"><pre>StandardScaler()</pre><b>In a Jupyter environment, please rerun this cell to show the HTML representation or trust the notebook. <br />On GitHub, the HTML representation is unable to render, please try loading this page with nbviewer.org.</b></div><div class=\"sk-container\" hidden><div class=\"sk-item\"><div class=\"sk-estimator sk-toggleable\"><input class=\"sk-toggleable__control sk-hidden--visually\" id=\"sk-estimator-id-1\" type=\"checkbox\" checked><label for=\"sk-estimator-id-1\" class=\"sk-toggleable__label sk-toggleable__label-arrow\">StandardScaler</label><div class=\"sk-toggleable__content\"><pre>StandardScaler()</pre></div></div></div></div></div>"
            ]
          },
          "metadata": {},
          "execution_count": 7
        }
      ],
      "source": [
        "scaler.fit(df.drop('TARGET CLASS',axis=1))"
      ]
    },
    {
      "cell_type": "code",
      "execution_count": 8,
      "metadata": {
        "collapsed": true,
        "id": "uoiEKDgAcMWe"
      },
      "outputs": [],
      "source": [
        "scaled_features = scaler.transform(df.drop('TARGET CLASS',axis=1))"
      ]
    },
    {
      "cell_type": "code",
      "execution_count": 9,
      "metadata": {
        "id": "UXaDrg1ucMWe",
        "outputId": "666c5985-ac0d-4c67-f65a-639450b12386",
        "colab": {
          "base_uri": "https://localhost:8080/",
          "height": 206
        }
      },
      "outputs": [
        {
          "output_type": "execute_result",
          "data": {
            "text/plain": [
              "        WTT       PTI       EQW       SBI       LQE       QWG       FDJ  \\\n",
              "0 -0.123542  0.185907 -0.913431  0.319629 -1.033637 -2.308375 -0.798951   \n",
              "1 -1.084836 -0.430348 -1.025313  0.625388 -0.444847 -1.152706 -1.129797   \n",
              "2 -0.788702  0.339318  0.301511  0.755873  2.031693 -0.870156  2.599818   \n",
              "3  0.982841  1.060193 -0.621399  0.625299  0.452820 -0.267220  1.750208   \n",
              "4  1.139275 -0.640392 -0.709819 -0.057175  0.822886 -0.936773  0.596782   \n",
              "\n",
              "        PJF       HQE       NXJ  \n",
              "0 -1.482368 -0.949719 -0.643314  \n",
              "1 -0.202240 -1.828051  0.636759  \n",
              "2  0.285707 -0.682494 -0.377850  \n",
              "3  1.066491  1.241325 -1.026987  \n",
              "4 -1.472352  1.040772  0.276510  "
            ],
            "text/html": [
              "\n",
              "  <div id=\"df-6f154b36-fae4-497f-bd6a-3a4123645b4f\" class=\"colab-df-container\">\n",
              "    <div>\n",
              "<style scoped>\n",
              "    .dataframe tbody tr th:only-of-type {\n",
              "        vertical-align: middle;\n",
              "    }\n",
              "\n",
              "    .dataframe tbody tr th {\n",
              "        vertical-align: top;\n",
              "    }\n",
              "\n",
              "    .dataframe thead th {\n",
              "        text-align: right;\n",
              "    }\n",
              "</style>\n",
              "<table border=\"1\" class=\"dataframe\">\n",
              "  <thead>\n",
              "    <tr style=\"text-align: right;\">\n",
              "      <th></th>\n",
              "      <th>WTT</th>\n",
              "      <th>PTI</th>\n",
              "      <th>EQW</th>\n",
              "      <th>SBI</th>\n",
              "      <th>LQE</th>\n",
              "      <th>QWG</th>\n",
              "      <th>FDJ</th>\n",
              "      <th>PJF</th>\n",
              "      <th>HQE</th>\n",
              "      <th>NXJ</th>\n",
              "    </tr>\n",
              "  </thead>\n",
              "  <tbody>\n",
              "    <tr>\n",
              "      <th>0</th>\n",
              "      <td>-0.123542</td>\n",
              "      <td>0.185907</td>\n",
              "      <td>-0.913431</td>\n",
              "      <td>0.319629</td>\n",
              "      <td>-1.033637</td>\n",
              "      <td>-2.308375</td>\n",
              "      <td>-0.798951</td>\n",
              "      <td>-1.482368</td>\n",
              "      <td>-0.949719</td>\n",
              "      <td>-0.643314</td>\n",
              "    </tr>\n",
              "    <tr>\n",
              "      <th>1</th>\n",
              "      <td>-1.084836</td>\n",
              "      <td>-0.430348</td>\n",
              "      <td>-1.025313</td>\n",
              "      <td>0.625388</td>\n",
              "      <td>-0.444847</td>\n",
              "      <td>-1.152706</td>\n",
              "      <td>-1.129797</td>\n",
              "      <td>-0.202240</td>\n",
              "      <td>-1.828051</td>\n",
              "      <td>0.636759</td>\n",
              "    </tr>\n",
              "    <tr>\n",
              "      <th>2</th>\n",
              "      <td>-0.788702</td>\n",
              "      <td>0.339318</td>\n",
              "      <td>0.301511</td>\n",
              "      <td>0.755873</td>\n",
              "      <td>2.031693</td>\n",
              "      <td>-0.870156</td>\n",
              "      <td>2.599818</td>\n",
              "      <td>0.285707</td>\n",
              "      <td>-0.682494</td>\n",
              "      <td>-0.377850</td>\n",
              "    </tr>\n",
              "    <tr>\n",
              "      <th>3</th>\n",
              "      <td>0.982841</td>\n",
              "      <td>1.060193</td>\n",
              "      <td>-0.621399</td>\n",
              "      <td>0.625299</td>\n",
              "      <td>0.452820</td>\n",
              "      <td>-0.267220</td>\n",
              "      <td>1.750208</td>\n",
              "      <td>1.066491</td>\n",
              "      <td>1.241325</td>\n",
              "      <td>-1.026987</td>\n",
              "    </tr>\n",
              "    <tr>\n",
              "      <th>4</th>\n",
              "      <td>1.139275</td>\n",
              "      <td>-0.640392</td>\n",
              "      <td>-0.709819</td>\n",
              "      <td>-0.057175</td>\n",
              "      <td>0.822886</td>\n",
              "      <td>-0.936773</td>\n",
              "      <td>0.596782</td>\n",
              "      <td>-1.472352</td>\n",
              "      <td>1.040772</td>\n",
              "      <td>0.276510</td>\n",
              "    </tr>\n",
              "  </tbody>\n",
              "</table>\n",
              "</div>\n",
              "    <div class=\"colab-df-buttons\">\n",
              "\n",
              "  <div class=\"colab-df-container\">\n",
              "    <button class=\"colab-df-convert\" onclick=\"convertToInteractive('df-6f154b36-fae4-497f-bd6a-3a4123645b4f')\"\n",
              "            title=\"Convert this dataframe to an interactive table.\"\n",
              "            style=\"display:none;\">\n",
              "\n",
              "  <svg xmlns=\"http://www.w3.org/2000/svg\" height=\"24px\" viewBox=\"0 -960 960 960\">\n",
              "    <path d=\"M120-120v-720h720v720H120Zm60-500h600v-160H180v160Zm220 220h160v-160H400v160Zm0 220h160v-160H400v160ZM180-400h160v-160H180v160Zm440 0h160v-160H620v160ZM180-180h160v-160H180v160Zm440 0h160v-160H620v160Z\"/>\n",
              "  </svg>\n",
              "    </button>\n",
              "\n",
              "  <style>\n",
              "    .colab-df-container {\n",
              "      display:flex;\n",
              "      gap: 12px;\n",
              "    }\n",
              "\n",
              "    .colab-df-convert {\n",
              "      background-color: #E8F0FE;\n",
              "      border: none;\n",
              "      border-radius: 50%;\n",
              "      cursor: pointer;\n",
              "      display: none;\n",
              "      fill: #1967D2;\n",
              "      height: 32px;\n",
              "      padding: 0 0 0 0;\n",
              "      width: 32px;\n",
              "    }\n",
              "\n",
              "    .colab-df-convert:hover {\n",
              "      background-color: #E2EBFA;\n",
              "      box-shadow: 0px 1px 2px rgba(60, 64, 67, 0.3), 0px 1px 3px 1px rgba(60, 64, 67, 0.15);\n",
              "      fill: #174EA6;\n",
              "    }\n",
              "\n",
              "    .colab-df-buttons div {\n",
              "      margin-bottom: 4px;\n",
              "    }\n",
              "\n",
              "    [theme=dark] .colab-df-convert {\n",
              "      background-color: #3B4455;\n",
              "      fill: #D2E3FC;\n",
              "    }\n",
              "\n",
              "    [theme=dark] .colab-df-convert:hover {\n",
              "      background-color: #434B5C;\n",
              "      box-shadow: 0px 1px 3px 1px rgba(0, 0, 0, 0.15);\n",
              "      filter: drop-shadow(0px 1px 2px rgba(0, 0, 0, 0.3));\n",
              "      fill: #FFFFFF;\n",
              "    }\n",
              "  </style>\n",
              "\n",
              "    <script>\n",
              "      const buttonEl =\n",
              "        document.querySelector('#df-6f154b36-fae4-497f-bd6a-3a4123645b4f button.colab-df-convert');\n",
              "      buttonEl.style.display =\n",
              "        google.colab.kernel.accessAllowed ? 'block' : 'none';\n",
              "\n",
              "      async function convertToInteractive(key) {\n",
              "        const element = document.querySelector('#df-6f154b36-fae4-497f-bd6a-3a4123645b4f');\n",
              "        const dataTable =\n",
              "          await google.colab.kernel.invokeFunction('convertToInteractive',\n",
              "                                                    [key], {});\n",
              "        if (!dataTable) return;\n",
              "\n",
              "        const docLinkHtml = 'Like what you see? Visit the ' +\n",
              "          '<a target=\"_blank\" href=https://colab.research.google.com/notebooks/data_table.ipynb>data table notebook</a>'\n",
              "          + ' to learn more about interactive tables.';\n",
              "        element.innerHTML = '';\n",
              "        dataTable['output_type'] = 'display_data';\n",
              "        await google.colab.output.renderOutput(dataTable, element);\n",
              "        const docLink = document.createElement('div');\n",
              "        docLink.innerHTML = docLinkHtml;\n",
              "        element.appendChild(docLink);\n",
              "      }\n",
              "    </script>\n",
              "  </div>\n",
              "\n",
              "\n",
              "<div id=\"df-55937006-6ca2-4c82-a429-1c7098e238eb\">\n",
              "  <button class=\"colab-df-quickchart\" onclick=\"quickchart('df-55937006-6ca2-4c82-a429-1c7098e238eb')\"\n",
              "            title=\"Suggest charts\"\n",
              "            style=\"display:none;\">\n",
              "\n",
              "<svg xmlns=\"http://www.w3.org/2000/svg\" height=\"24px\"viewBox=\"0 0 24 24\"\n",
              "     width=\"24px\">\n",
              "    <g>\n",
              "        <path d=\"M19 3H5c-1.1 0-2 .9-2 2v14c0 1.1.9 2 2 2h14c1.1 0 2-.9 2-2V5c0-1.1-.9-2-2-2zM9 17H7v-7h2v7zm4 0h-2V7h2v10zm4 0h-2v-4h2v4z\"/>\n",
              "    </g>\n",
              "</svg>\n",
              "  </button>\n",
              "\n",
              "<style>\n",
              "  .colab-df-quickchart {\n",
              "      --bg-color: #E8F0FE;\n",
              "      --fill-color: #1967D2;\n",
              "      --hover-bg-color: #E2EBFA;\n",
              "      --hover-fill-color: #174EA6;\n",
              "      --disabled-fill-color: #AAA;\n",
              "      --disabled-bg-color: #DDD;\n",
              "  }\n",
              "\n",
              "  [theme=dark] .colab-df-quickchart {\n",
              "      --bg-color: #3B4455;\n",
              "      --fill-color: #D2E3FC;\n",
              "      --hover-bg-color: #434B5C;\n",
              "      --hover-fill-color: #FFFFFF;\n",
              "      --disabled-bg-color: #3B4455;\n",
              "      --disabled-fill-color: #666;\n",
              "  }\n",
              "\n",
              "  .colab-df-quickchart {\n",
              "    background-color: var(--bg-color);\n",
              "    border: none;\n",
              "    border-radius: 50%;\n",
              "    cursor: pointer;\n",
              "    display: none;\n",
              "    fill: var(--fill-color);\n",
              "    height: 32px;\n",
              "    padding: 0;\n",
              "    width: 32px;\n",
              "  }\n",
              "\n",
              "  .colab-df-quickchart:hover {\n",
              "    background-color: var(--hover-bg-color);\n",
              "    box-shadow: 0 1px 2px rgba(60, 64, 67, 0.3), 0 1px 3px 1px rgba(60, 64, 67, 0.15);\n",
              "    fill: var(--button-hover-fill-color);\n",
              "  }\n",
              "\n",
              "  .colab-df-quickchart-complete:disabled,\n",
              "  .colab-df-quickchart-complete:disabled:hover {\n",
              "    background-color: var(--disabled-bg-color);\n",
              "    fill: var(--disabled-fill-color);\n",
              "    box-shadow: none;\n",
              "  }\n",
              "\n",
              "  .colab-df-spinner {\n",
              "    border: 2px solid var(--fill-color);\n",
              "    border-color: transparent;\n",
              "    border-bottom-color: var(--fill-color);\n",
              "    animation:\n",
              "      spin 1s steps(1) infinite;\n",
              "  }\n",
              "\n",
              "  @keyframes spin {\n",
              "    0% {\n",
              "      border-color: transparent;\n",
              "      border-bottom-color: var(--fill-color);\n",
              "      border-left-color: var(--fill-color);\n",
              "    }\n",
              "    20% {\n",
              "      border-color: transparent;\n",
              "      border-left-color: var(--fill-color);\n",
              "      border-top-color: var(--fill-color);\n",
              "    }\n",
              "    30% {\n",
              "      border-color: transparent;\n",
              "      border-left-color: var(--fill-color);\n",
              "      border-top-color: var(--fill-color);\n",
              "      border-right-color: var(--fill-color);\n",
              "    }\n",
              "    40% {\n",
              "      border-color: transparent;\n",
              "      border-right-color: var(--fill-color);\n",
              "      border-top-color: var(--fill-color);\n",
              "    }\n",
              "    60% {\n",
              "      border-color: transparent;\n",
              "      border-right-color: var(--fill-color);\n",
              "    }\n",
              "    80% {\n",
              "      border-color: transparent;\n",
              "      border-right-color: var(--fill-color);\n",
              "      border-bottom-color: var(--fill-color);\n",
              "    }\n",
              "    90% {\n",
              "      border-color: transparent;\n",
              "      border-bottom-color: var(--fill-color);\n",
              "    }\n",
              "  }\n",
              "</style>\n",
              "\n",
              "  <script>\n",
              "    async function quickchart(key) {\n",
              "      const quickchartButtonEl =\n",
              "        document.querySelector('#' + key + ' button');\n",
              "      quickchartButtonEl.disabled = true;  // To prevent multiple clicks.\n",
              "      quickchartButtonEl.classList.add('colab-df-spinner');\n",
              "      try {\n",
              "        const charts = await google.colab.kernel.invokeFunction(\n",
              "            'suggestCharts', [key], {});\n",
              "      } catch (error) {\n",
              "        console.error('Error during call to suggestCharts:', error);\n",
              "      }\n",
              "      quickchartButtonEl.classList.remove('colab-df-spinner');\n",
              "      quickchartButtonEl.classList.add('colab-df-quickchart-complete');\n",
              "    }\n",
              "    (() => {\n",
              "      let quickchartButtonEl =\n",
              "        document.querySelector('#df-55937006-6ca2-4c82-a429-1c7098e238eb button');\n",
              "      quickchartButtonEl.style.display =\n",
              "        google.colab.kernel.accessAllowed ? 'block' : 'none';\n",
              "    })();\n",
              "  </script>\n",
              "</div>\n",
              "\n",
              "    </div>\n",
              "  </div>\n"
            ],
            "application/vnd.google.colaboratory.intrinsic+json": {
              "type": "dataframe",
              "variable_name": "df_feat",
              "summary": "{\n  \"name\": \"df_feat\",\n  \"rows\": 1000,\n  \"fields\": [\n    {\n      \"column\": \"WTT\",\n      \"properties\": {\n        \"dtype\": \"number\",\n        \"std\": 1.000500375312774,\n        \"min\": -2.678050294892763,\n        \"max\": 2.667092453480776,\n        \"samples\": [\n          -0.8407204008480645,\n          1.3816554504162177,\n          1.2685017266467709\n        ],\n        \"num_unique_values\": 1000,\n        \"semantic_type\": \"\",\n        \"description\": \"\"\n      }\n    },\n    {\n      \"column\": \"PTI\",\n      \"properties\": {\n        \"dtype\": \"number\",\n        \"std\": 1.0005003753127737,\n        \"min\": -2.6187465594530646,\n        \"max\": 2.799903822014538,\n        \"samples\": [\n          1.5834383679497588,\n          0.41264176640541583,\n          0.13366769728284045\n        ],\n        \"num_unique_values\": 1000,\n        \"semantic_type\": \"\",\n        \"description\": \"\"\n      }\n    },\n    {\n      \"column\": \"EQW\",\n      \"properties\": {\n        \"dtype\": \"number\",\n        \"std\": 1.0005003753127737,\n        \"min\": -2.2758578511888814,\n        \"max\": 3.049325158601135,\n        \"samples\": [\n          1.0180932040839803,\n          -0.4401552303536436,\n          0.7178222625994329\n        ],\n        \"num_unique_values\": 1000,\n        \"semantic_type\": \"\",\n        \"description\": \"\"\n      }\n    },\n    {\n      \"column\": \"SBI\",\n      \"properties\": {\n        \"dtype\": \"number\",\n        \"std\": 1.0005003753127737,\n        \"min\": -2.775551017934635,\n        \"max\": 4.151021461563324,\n        \"samples\": [\n          -1.2140483883610458,\n          0.576212065632318,\n          0.9576951405925229\n        ],\n        \"num_unique_values\": 1000,\n        \"semantic_type\": \"\",\n        \"description\": \"\"\n      }\n    },\n    {\n      \"column\": \"LQE\",\n      \"properties\": {\n        \"dtype\": \"number\",\n        \"std\": 1.0005003753127737,\n        \"min\": -2.947205948503044,\n        \"max\": 2.538987100864661,\n        \"samples\": [\n          -0.5573184627252994,\n          -1.4896520988184299,\n          -0.3616080116045524\n        ],\n        \"num_unique_values\": 1000,\n        \"semantic_type\": \"\",\n        \"description\": \"\"\n      }\n    },\n    {\n      \"column\": \"QWG\",\n      \"properties\": {\n        \"dtype\": \"number\",\n        \"std\": 1.0005003753127735,\n        \"min\": -2.660802498981584,\n        \"max\": 2.8257390273790977,\n        \"samples\": [\n          -0.1081173689453796,\n          -1.060712948686669,\n          0.6454747043228094\n        ],\n        \"num_unique_values\": 1000,\n        \"semantic_type\": \"\",\n        \"description\": \"\"\n      }\n    },\n    {\n      \"column\": \"FDJ\",\n      \"properties\": {\n        \"dtype\": \"number\",\n        \"std\": 1.0005003753127737,\n        \"min\": -2.6204660364684953,\n        \"max\": 2.940974438292232,\n        \"samples\": [\n          0.4185386031864608,\n          -0.8497069652008912,\n          -2.5498213156881664\n        ],\n        \"num_unique_values\": 1000,\n        \"semantic_type\": \"\",\n        \"description\": \"\"\n      }\n    },\n    {\n      \"column\": \"PJF\",\n      \"properties\": {\n        \"dtype\": \"number\",\n        \"std\": 1.0005003753127737,\n        \"min\": -2.6744652897720127,\n        \"max\": 2.4701088805242493,\n        \"samples\": [\n          0.49533791330152793,\n          -1.8392486714127034,\n          -0.9045163698230286\n        ],\n        \"num_unique_values\": 1000,\n        \"semantic_type\": \"\",\n        \"description\": \"\"\n      }\n    },\n    {\n      \"column\": \"HQE\",\n      \"properties\": {\n        \"dtype\": \"number\",\n        \"std\": 1.000500375312774,\n        \"min\": -2.7013608425848443,\n        \"max\": 2.4777335068709863,\n        \"samples\": [\n          -0.4078671888285603,\n          0.9323937672052752,\n          -0.422001648049673\n        ],\n        \"num_unique_values\": 1000,\n        \"semantic_type\": \"\",\n        \"description\": \"\"\n      }\n    },\n    {\n      \"column\": \"NXJ\",\n      \"properties\": {\n        \"dtype\": \"number\",\n        \"std\": 1.000500375312774,\n        \"min\": -3.542140064466624,\n        \"max\": 2.6024764661358253,\n        \"samples\": [\n          0.40697451922755945,\n          -0.9287136944022932,\n          1.0896815016660177\n        ],\n        \"num_unique_values\": 1000,\n        \"semantic_type\": \"\",\n        \"description\": \"\"\n      }\n    }\n  ]\n}"
            }
          },
          "metadata": {},
          "execution_count": 9
        }
      ],
      "source": [
        "df_feat = pd.DataFrame(scaled_features,columns=df.columns[:-1])\n",
        "df_feat.head()"
      ]
    },
    {
      "cell_type": "markdown",
      "metadata": {
        "id": "yrLDj41vcMWf"
      },
      "source": [
        "## Train Test Split"
      ]
    },
    {
      "cell_type": "code",
      "execution_count": 10,
      "metadata": {
        "collapsed": true,
        "id": "1t2o-NdkcMWg"
      },
      "outputs": [],
      "source": [
        "from sklearn.model_selection import train_test_split"
      ]
    },
    {
      "cell_type": "code",
      "execution_count": 11,
      "metadata": {
        "id": "yTdaLQKdcMWg"
      },
      "outputs": [],
      "source": [
        "X_train, X_test, y_train, y_test = train_test_split(scaled_features,df['TARGET CLASS'],\n",
        "                                                    test_size=0.30)"
      ]
    },
    {
      "cell_type": "markdown",
      "metadata": {
        "id": "_tqbRtdCcMWh"
      },
      "source": [
        "## Using KNN\n",
        "\n",
        "Remember that we are trying to come up with a model to predict whether someone will TARGET CLASS or not. We'll start with k=1."
      ]
    },
    {
      "cell_type": "code",
      "execution_count": 12,
      "metadata": {
        "collapsed": true,
        "id": "Huy8vw3wcMWh"
      },
      "outputs": [],
      "source": [
        "from sklearn.neighbors import KNeighborsClassifier"
      ]
    },
    {
      "cell_type": "code",
      "execution_count": 13,
      "metadata": {
        "collapsed": true,
        "id": "xxaJE2mCcMWi"
      },
      "outputs": [],
      "source": [
        "knn = KNeighborsClassifier(n_neighbors=1)"
      ]
    },
    {
      "cell_type": "code",
      "execution_count": 14,
      "metadata": {
        "id": "rR8djwOscMWi",
        "outputId": "94f71b8f-ef45-4594-d093-b30bc562639b",
        "colab": {
          "base_uri": "https://localhost:8080/",
          "height": 75
        }
      },
      "outputs": [
        {
          "output_type": "execute_result",
          "data": {
            "text/plain": [
              "KNeighborsClassifier(n_neighbors=1)"
            ],
            "text/html": [
              "<style>#sk-container-id-2 {color: black;background-color: white;}#sk-container-id-2 pre{padding: 0;}#sk-container-id-2 div.sk-toggleable {background-color: white;}#sk-container-id-2 label.sk-toggleable__label {cursor: pointer;display: block;width: 100%;margin-bottom: 0;padding: 0.3em;box-sizing: border-box;text-align: center;}#sk-container-id-2 label.sk-toggleable__label-arrow:before {content: \"▸\";float: left;margin-right: 0.25em;color: #696969;}#sk-container-id-2 label.sk-toggleable__label-arrow:hover:before {color: black;}#sk-container-id-2 div.sk-estimator:hover label.sk-toggleable__label-arrow:before {color: black;}#sk-container-id-2 div.sk-toggleable__content {max-height: 0;max-width: 0;overflow: hidden;text-align: left;background-color: #f0f8ff;}#sk-container-id-2 div.sk-toggleable__content pre {margin: 0.2em;color: black;border-radius: 0.25em;background-color: #f0f8ff;}#sk-container-id-2 input.sk-toggleable__control:checked~div.sk-toggleable__content {max-height: 200px;max-width: 100%;overflow: auto;}#sk-container-id-2 input.sk-toggleable__control:checked~label.sk-toggleable__label-arrow:before {content: \"▾\";}#sk-container-id-2 div.sk-estimator input.sk-toggleable__control:checked~label.sk-toggleable__label {background-color: #d4ebff;}#sk-container-id-2 div.sk-label input.sk-toggleable__control:checked~label.sk-toggleable__label {background-color: #d4ebff;}#sk-container-id-2 input.sk-hidden--visually {border: 0;clip: rect(1px 1px 1px 1px);clip: rect(1px, 1px, 1px, 1px);height: 1px;margin: -1px;overflow: hidden;padding: 0;position: absolute;width: 1px;}#sk-container-id-2 div.sk-estimator {font-family: monospace;background-color: #f0f8ff;border: 1px dotted black;border-radius: 0.25em;box-sizing: border-box;margin-bottom: 0.5em;}#sk-container-id-2 div.sk-estimator:hover {background-color: #d4ebff;}#sk-container-id-2 div.sk-parallel-item::after {content: \"\";width: 100%;border-bottom: 1px solid gray;flex-grow: 1;}#sk-container-id-2 div.sk-label:hover label.sk-toggleable__label {background-color: #d4ebff;}#sk-container-id-2 div.sk-serial::before {content: \"\";position: absolute;border-left: 1px solid gray;box-sizing: border-box;top: 0;bottom: 0;left: 50%;z-index: 0;}#sk-container-id-2 div.sk-serial {display: flex;flex-direction: column;align-items: center;background-color: white;padding-right: 0.2em;padding-left: 0.2em;position: relative;}#sk-container-id-2 div.sk-item {position: relative;z-index: 1;}#sk-container-id-2 div.sk-parallel {display: flex;align-items: stretch;justify-content: center;background-color: white;position: relative;}#sk-container-id-2 div.sk-item::before, #sk-container-id-2 div.sk-parallel-item::before {content: \"\";position: absolute;border-left: 1px solid gray;box-sizing: border-box;top: 0;bottom: 0;left: 50%;z-index: -1;}#sk-container-id-2 div.sk-parallel-item {display: flex;flex-direction: column;z-index: 1;position: relative;background-color: white;}#sk-container-id-2 div.sk-parallel-item:first-child::after {align-self: flex-end;width: 50%;}#sk-container-id-2 div.sk-parallel-item:last-child::after {align-self: flex-start;width: 50%;}#sk-container-id-2 div.sk-parallel-item:only-child::after {width: 0;}#sk-container-id-2 div.sk-dashed-wrapped {border: 1px dashed gray;margin: 0 0.4em 0.5em 0.4em;box-sizing: border-box;padding-bottom: 0.4em;background-color: white;}#sk-container-id-2 div.sk-label label {font-family: monospace;font-weight: bold;display: inline-block;line-height: 1.2em;}#sk-container-id-2 div.sk-label-container {text-align: center;}#sk-container-id-2 div.sk-container {/* jupyter's `normalize.less` sets `[hidden] { display: none; }` but bootstrap.min.css set `[hidden] { display: none !important; }` so we also need the `!important` here to be able to override the default hidden behavior on the sphinx rendered scikit-learn.org. See: https://github.com/scikit-learn/scikit-learn/issues/21755 */display: inline-block !important;position: relative;}#sk-container-id-2 div.sk-text-repr-fallback {display: none;}</style><div id=\"sk-container-id-2\" class=\"sk-top-container\"><div class=\"sk-text-repr-fallback\"><pre>KNeighborsClassifier(n_neighbors=1)</pre><b>In a Jupyter environment, please rerun this cell to show the HTML representation or trust the notebook. <br />On GitHub, the HTML representation is unable to render, please try loading this page with nbviewer.org.</b></div><div class=\"sk-container\" hidden><div class=\"sk-item\"><div class=\"sk-estimator sk-toggleable\"><input class=\"sk-toggleable__control sk-hidden--visually\" id=\"sk-estimator-id-2\" type=\"checkbox\" checked><label for=\"sk-estimator-id-2\" class=\"sk-toggleable__label sk-toggleable__label-arrow\">KNeighborsClassifier</label><div class=\"sk-toggleable__content\"><pre>KNeighborsClassifier(n_neighbors=1)</pre></div></div></div></div></div>"
            ]
          },
          "metadata": {},
          "execution_count": 14
        }
      ],
      "source": [
        "knn.fit(X_train,y_train)"
      ]
    },
    {
      "cell_type": "code",
      "execution_count": 15,
      "metadata": {
        "collapsed": true,
        "id": "U5BlzTLecMWj"
      },
      "outputs": [],
      "source": [
        "pred = knn.predict(X_test)"
      ]
    },
    {
      "cell_type": "markdown",
      "metadata": {
        "id": "LDKcSkL_cMWj"
      },
      "source": [
        "## Predictions and Evaluations\n",
        "\n",
        "Let's evaluate our KNN model!"
      ]
    },
    {
      "cell_type": "code",
      "execution_count": 16,
      "metadata": {
        "collapsed": true,
        "id": "RJGWu3WKcMWj"
      },
      "outputs": [],
      "source": [
        "from sklearn.metrics import classification_report,confusion_matrix"
      ]
    },
    {
      "cell_type": "code",
      "execution_count": 17,
      "metadata": {
        "id": "AkiD-JH2cMWk",
        "outputId": "99b656b1-d226-440a-9f68-1e0740f55b17",
        "colab": {
          "base_uri": "https://localhost:8080/"
        }
      },
      "outputs": [
        {
          "output_type": "stream",
          "name": "stdout",
          "text": [
            "[[135  13]\n",
            " [ 12 140]]\n"
          ]
        }
      ],
      "source": [
        "print(confusion_matrix(y_test,pred))"
      ]
    },
    {
      "cell_type": "code",
      "execution_count": 18,
      "metadata": {
        "id": "1fdcpOyEcMWl",
        "outputId": "0fc32b09-7ce2-4f61-eefe-506e66e008a1",
        "colab": {
          "base_uri": "https://localhost:8080/"
        }
      },
      "outputs": [
        {
          "output_type": "stream",
          "name": "stdout",
          "text": [
            "              precision    recall  f1-score   support\n",
            "\n",
            "           0       0.92      0.91      0.92       148\n",
            "           1       0.92      0.92      0.92       152\n",
            "\n",
            "    accuracy                           0.92       300\n",
            "   macro avg       0.92      0.92      0.92       300\n",
            "weighted avg       0.92      0.92      0.92       300\n",
            "\n"
          ]
        }
      ],
      "source": [
        "print(classification_report(y_test,pred))"
      ]
    },
    {
      "cell_type": "markdown",
      "metadata": {
        "id": "DCbS3eAFcMWm"
      },
      "source": [
        "## Choosing a K Value\n",
        "\n",
        "Let's go ahead and use the elbow method to pick a good K Value:"
      ]
    },
    {
      "cell_type": "code",
      "execution_count": 19,
      "metadata": {
        "id": "z-dc1ztpcMWm"
      },
      "outputs": [],
      "source": [
        "error_rate = []\n",
        "\n",
        "# Will take some time\n",
        "for i in range(1,40):\n",
        "\n",
        "    knn = KNeighborsClassifier(n_neighbors=i)\n",
        "    knn.fit(X_train,y_train)\n",
        "    pred_i = knn.predict(X_test)\n",
        "    error_rate.append(np.mean(pred_i != y_test))"
      ]
    },
    {
      "cell_type": "code",
      "execution_count": 20,
      "metadata": {
        "id": "vofLFsxlcMWn",
        "outputId": "41d55489-7173-4883-b7e4-4d4fccac6e6a",
        "colab": {
          "base_uri": "https://localhost:8080/",
          "height": 581
        }
      },
      "outputs": [
        {
          "output_type": "execute_result",
          "data": {
            "text/plain": [
              "Text(0, 0.5, 'Error Rate')"
            ]
          },
          "metadata": {},
          "execution_count": 20
        },
        {
          "output_type": "display_data",
          "data": {
            "text/plain": [
              "<Figure size 1000x600 with 1 Axes>"
            ],
            "image/png": "[encoded data removed]"
          },
          "metadata": {}
        }
      ],
      "source": [
        "plt.figure(figsize=(10,6))\n",
        "plt.plot(range(1,40),error_rate,color='blue', linestyle='dashed', marker='o',\n",
        "         markerfacecolor='red', markersize=10)\n",
        "plt.title('Error Rate vs. K Value')\n",
        "plt.xlabel('K')\n",
        "plt.ylabel('Error Rate')"
      ]
    },
    {
      "cell_type": "markdown",
      "metadata": {
        "id": "bYL1ehf_cMWo"
      },
      "source": [
        "Here we can see that that after arouns K>23 the error rate just tends to hover around 0.06-0.05 Let's retrain the model with that and check the classification report!"
      ]
    },
    {
      "cell_type": "code",
      "execution_count": 21,
      "metadata": {
        "id": "L9cUlwRhcMWp",
        "outputId": "cb08c1dc-511d-4b73-ff56-843241d2a320",
        "colab": {
          "base_uri": "https://localhost:8080/"
        }
      },
      "outputs": [
        {
          "output_type": "stream",
          "name": "stdout",
          "text": [
            "WITH K=1\n",
            "\n",
            "\n",
            "[[135  13]\n",
            " [ 12 140]]\n",
            "\n",
            "\n",
            "              precision    recall  f1-score   support\n",
            "\n",
            "           0       0.92      0.91      0.92       148\n",
            "           1       0.92      0.92      0.92       152\n",
            "\n",
            "    accuracy                           0.92       300\n",
            "   macro avg       0.92      0.92      0.92       300\n",
            "weighted avg       0.92      0.92      0.92       300\n",
            "\n"
          ]
        }
      ],
      "source": [
        "# FIRST A QUICK COMPARISON TO OUR ORIGINAL K=1\n",
        "knn = KNeighborsClassifier(n_neighbors=1)\n",
        "\n",
        "knn.fit(X_train,y_train)\n",
        "pred = knn.predict(X_test)\n",
        "\n",
        "print('WITH K=1')\n",
        "print('\\n')\n",
        "print(confusion_matrix(y_test,pred))\n",
        "print('\\n')\n",
        "print(classification_report(y_test,pred))"
      ]
    },
    {
      "cell_type": "code",
      "execution_count": 22,
      "metadata": {
        "id": "J-WFPOcjcMWp",
        "outputId": "7cb18e6d-0ce5-4693-b7b3-1f674cbd617b",
        "colab": {
          "base_uri": "https://localhost:8080/"
        }
      },
      "outputs": [
        {
          "output_type": "stream",
          "name": "stdout",
          "text": [
            "WITH K=23\n",
            "\n",
            "\n",
            "[[140   8]\n",
            " [  9 143]]\n",
            "\n",
            "\n",
            "              precision    recall  f1-score   support\n",
            "\n",
            "           0       0.94      0.95      0.94       148\n",
            "           1       0.95      0.94      0.94       152\n",
            "\n",
            "    accuracy                           0.94       300\n",
            "   macro avg       0.94      0.94      0.94       300\n",
            "weighted avg       0.94      0.94      0.94       300\n",
            "\n"
          ]
        }
      ],
      "source": [
        "# NOW WITH K=23\n",
        "knn = KNeighborsClassifier(n_neighbors=23)\n",
        "\n",
        "knn.fit(X_train,y_train)\n",
        "pred = knn.predict(X_test)\n",
        "\n",
        "print('WITH K=23')\n",
        "print('\\n')\n",
        "print(confusion_matrix(y_test,pred))\n",
        "print('\\n')\n",
        "print(classification_report(y_test,pred))"
      ]
    },
    {
      "cell_type": "markdown",
      "metadata": {
        "id": "j-QCTlaGcMWq"
      },
      "source": [
        "# Great job!\n",
        "\n",
        "We were able to squeeze some more performance out of our model by tuning to a better K value!"
      ]
    }
  ],
  "metadata": {
    "kernelspec": {
      "display_name": "Python 3",
      "language": "python",
      "name": "python3"
    },
    "language_info": {
      "codemirror_mode": {
        "name": "ipython",
        "version": 3
      },
      "file_extension": ".py",
      "mimetype": "text/x-python",
      "name": "python",
      "nbconvert_exporter": "python",
      "pygments_lexer": "ipython3",
      "version": "3.5.1"
    },
    "colab": {
      "provenance": [],
      "include_colab_link": true
    }
  },
  "nbformat": 4,
  "nbformat_minor": 0
}