# Import necessary libraries: Numpy, Pandas, Seaborn, and Matplotlib
import numpy as np
import pandas as pd

# Import Seaborn and Matplotlib for data visualization
import seaborn as sns
import matplotlib.pyplot as plt
%matplotlib inline

# Import the Boston housing dataset
# Replace 'column1', 'column2', etc. with your actual column names
df = pd.read_csv("/content/sample_data/boston_house_prices.csv", header=1)

# Display the DataFrame
print(df.head())

# Display the shape of the DataFrame
print("Number of rows and columns:", df.shape)

# Display information about the DataFrame
print(df.info())

# Check for missing values in the DataFrame
print("Missing values count:\n", df.isnull().sum())
