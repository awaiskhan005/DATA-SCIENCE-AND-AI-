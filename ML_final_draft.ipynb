{
  "nbformat": 4,
  "nbformat_minor": 0,
  "metadata": {
    "colab": {
      "provenance": [],
      "authorship_tag": "ABX9TyOZgmPb4vzg6R3tPxsGN8O5",
      "include_colab_link": true
    },
    "kernelspec": {
      "name": "python3",
      "display_name": "Python 3"
    },
    "language_info": {
      "name": "python"
    }
  },
  "cells": [
    {
      "cell_type": "markdown",
      "metadata": {
        "id": "view-in-github",
        "colab_type": "text"
      },
      "source": [
        "<a href=\"https://colab.research.google.com/github/awaiskhan005/DATA-SCIENCE-AND-AI-/blob/main/ML_final_draft.ipynb\" target=\"_parent\"><img src=\"https://colab.research.google.com/assets/colab-badge.svg\" alt=\"Open In Colab\"/></a>"
      ]
    },
    {
      "cell_type": "code",
      "execution_count": 1,
      "metadata": {
        "id": "W2KVBvp08wVc"
      },
      "outputs": [],
      "source": [
        "import pandas as pd\n",
        "import numpy as np\n",
        "from sklearn.model_selection import train_test_split\n",
        "from sklearn.preprocessing import StandardScaler\n",
        "from datetime import datetime\n",
        "\n",
        "# Load the dataset\n",
        "file_path = \"/content/sample_data/SMCI.csv\"\n",
        "data = pd.read_csv(file_path)\n",
        "\n",
        "# Convert 'Date' column to datetime\n",
        "data['Date'] = pd.to_datetime(data['Date'])\n",
        "\n",
        "# Sort the data by date\n",
        "data.sort_values('Date', inplace=True)\n",
        "\n",
        "# Set 'Date' as the index\n",
        "data.set_index('Date', inplace=True)\n",
        "\n",
        "# Feature Engineering: Including previous days' close prices as features\n",
        "for lag in range(1, 8):\n",
        "    data[f'Close_lag_{lag}'] = data['Close'].shift(lag)\n",
        "\n",
        "# Drop rows with NaN values created by the lag features\n",
        "data.dropna(inplace=True)\n",
        "\n",
        "# Define the feature set and target\n",
        "X = data.drop(columns=['Close'])\n",
        "y = data['Close']\n",
        "\n",
        "# Standardize the feature set\n",
        "scaler = StandardScaler()\n",
        "X_scaled = scaler.fit_transform(X)\n",
        "\n",
        "# Split the data into training and validation sets\n",
        "X_train, X_val, y_train, y_val = train_test_split(X_scaled, y, test_size=0.2, random_state=42)\n"
      ]
    },
    {
      "cell_type": "code",
      "source": [
        "from sklearn.linear_model import LinearRegression\n",
        "from sklearn.ensemble import RandomForestRegressor\n",
        "from sklearn.svm import SVR\n",
        "from sklearn.model_selection import cross_val_score\n",
        "\n",
        "# Linear Regression\n",
        "lr = LinearRegression()\n",
        "lr.fit(X_train, y_train)\n",
        "lr_cv_score = cross_val_score(lr, X_train, y_train, cv=5, scoring='neg_mean_squared_error')\n",
        "\n",
        "# Random Forest\n",
        "rf = RandomForestRegressor(n_estimators=100, random_state=42)\n",
        "rf.fit(X_train, y_train)\n",
        "rf_cv_score = cross_val_score(rf, X_train, y_train, cv=5, scoring='neg_mean_squared_error')\n",
        "\n",
        "# Support Vector Machine\n",
        "svm = SVR(kernel='rbf')\n",
        "svm.fit(X_train, y_train)\n",
        "svm_cv_score = cross_val_score(svm, X_train, y_train, cv=5, scoring='neg_mean_squared_error')\n"
      ],
      "metadata": {
        "id": "TbKCAFHW9Z-m"
      },
      "execution_count": 2,
      "outputs": []
    },
    {
      "cell_type": "code",
      "source": [
        "# Prepare the last data point for prediction (using the latest available data)\n",
        "last_data_point = data.loc[data.index[-1]]\n",
        "last_data_point_scaled = scaler.transform([last_data_point.drop('Close').values])\n",
        "\n",
        "# Function to predict future values\n",
        "def predict_future_values(model, current_data, days):\n",
        "    predictions = []\n",
        "    for _ in range(days):\n",
        "        next_pred = model.predict(current_data)\n",
        "        predictions.append(next_pred[0])\n",
        "\n",
        "        # Prepare the next data point (shift data and include new prediction)\n",
        "        current_data = np.roll(current_data, -1)\n",
        "        current_data[0, -1] = next_pred\n",
        "    return predictions\n",
        "\n",
        "# Predict the next 7 days\n",
        "days_to_predict = 7\n",
        "predictions_lr = predict_future_values(lr, last_data_point_scaled, days_to_predict)\n",
        "predictions_rf = predict_future_values(rf, last_data_point_scaled, days_to_predict)\n",
        "predictions_svm = predict_future_values(svm, last_data_point_scaled, days_to_predict)\n",
        "\n",
        "# Generate the dates for the predictions\n",
        "last_date = data.index[-1]\n",
        "predicted_dates = [last_date + pd.Timedelta(days=i) for i in range(1, days_to_predict + 1)]\n"
      ],
      "metadata": {
        "colab": {
          "base_uri": "https://localhost:8080/"
        },
        "id": "M45Yezrr9hDp",
        "outputId": "72da3bdf-693c-44b2-c185-f362e20633a4"
      },
      "execution_count": 3,
      "outputs": [
        {
          "output_type": "stream",
          "name": "stderr",
          "text": [
            "/usr/local/lib/python3.10/dist-packages/sklearn/base.py:439: UserWarning: X does not have valid feature names, but StandardScaler was fitted with feature names\n",
            "  warnings.warn(\n",
            "<ipython-input-3-648e2ad15a9c>:14: DeprecationWarning: Conversion of an array with ndim > 0 to a scalar is deprecated, and will error in future. Ensure you extract a single element from your array before performing this operation. (Deprecated NumPy 1.25.)\n",
            "  current_data[0, -1] = next_pred\n",
            "<ipython-input-3-648e2ad15a9c>:14: DeprecationWarning: Conversion of an array with ndim > 0 to a scalar is deprecated, and will error in future. Ensure you extract a single element from your array before performing this operation. (Deprecated NumPy 1.25.)\n",
            "  current_data[0, -1] = next_pred\n",
            "<ipython-input-3-648e2ad15a9c>:14: DeprecationWarning: Conversion of an array with ndim > 0 to a scalar is deprecated, and will error in future. Ensure you extract a single element from your array before performing this operation. (Deprecated NumPy 1.25.)\n",
            "  current_data[0, -1] = next_pred\n",
            "<ipython-input-3-648e2ad15a9c>:14: DeprecationWarning: Conversion of an array with ndim > 0 to a scalar is deprecated, and will error in future. Ensure you extract a single element from your array before performing this operation. (Deprecated NumPy 1.25.)\n",
            "  current_data[0, -1] = next_pred\n",
            "<ipython-input-3-648e2ad15a9c>:14: DeprecationWarning: Conversion of an array with ndim > 0 to a scalar is deprecated, and will error in future. Ensure you extract a single element from your array before performing this operation. (Deprecated NumPy 1.25.)\n",
            "  current_data[0, -1] = next_pred\n",
            "<ipython-input-3-648e2ad15a9c>:14: DeprecationWarning: Conversion of an array with ndim > 0 to a scalar is deprecated, and will error in future. Ensure you extract a single element from your array before performing this operation. (Deprecated NumPy 1.25.)\n",
            "  current_data[0, -1] = next_pred\n",
            "<ipython-input-3-648e2ad15a9c>:14: DeprecationWarning: Conversion of an array with ndim > 0 to a scalar is deprecated, and will error in future. Ensure you extract a single element from your array before performing this operation. (Deprecated NumPy 1.25.)\n",
            "  current_data[0, -1] = next_pred\n",
            "<ipython-input-3-648e2ad15a9c>:14: DeprecationWarning: Conversion of an array with ndim > 0 to a scalar is deprecated, and will error in future. Ensure you extract a single element from your array before performing this operation. (Deprecated NumPy 1.25.)\n",
            "  current_data[0, -1] = next_pred\n",
            "<ipython-input-3-648e2ad15a9c>:14: DeprecationWarning: Conversion of an array with ndim > 0 to a scalar is deprecated, and will error in future. Ensure you extract a single element from your array before performing this operation. (Deprecated NumPy 1.25.)\n",
            "  current_data[0, -1] = next_pred\n",
            "<ipython-input-3-648e2ad15a9c>:14: DeprecationWarning: Conversion of an array with ndim > 0 to a scalar is deprecated, and will error in future. Ensure you extract a single element from your array before performing this operation. (Deprecated NumPy 1.25.)\n",
            "  current_data[0, -1] = next_pred\n",
            "<ipython-input-3-648e2ad15a9c>:14: DeprecationWarning: Conversion of an array with ndim > 0 to a scalar is deprecated, and will error in future. Ensure you extract a single element from your array before performing this operation. (Deprecated NumPy 1.25.)\n",
            "  current_data[0, -1] = next_pred\n",
            "<ipython-input-3-648e2ad15a9c>:14: DeprecationWarning: Conversion of an array with ndim > 0 to a scalar is deprecated, and will error in future. Ensure you extract a single element from your array before performing this operation. (Deprecated NumPy 1.25.)\n",
            "  current_data[0, -1] = next_pred\n",
            "<ipython-input-3-648e2ad15a9c>:14: DeprecationWarning: Conversion of an array with ndim > 0 to a scalar is deprecated, and will error in future. Ensure you extract a single element from your array before performing this operation. (Deprecated NumPy 1.25.)\n",
            "  current_data[0, -1] = next_pred\n",
            "<ipython-input-3-648e2ad15a9c>:14: DeprecationWarning: Conversion of an array with ndim > 0 to a scalar is deprecated, and will error in future. Ensure you extract a single element from your array before performing this operation. (Deprecated NumPy 1.25.)\n",
            "  current_data[0, -1] = next_pred\n",
            "<ipython-input-3-648e2ad15a9c>:14: DeprecationWarning: Conversion of an array with ndim > 0 to a scalar is deprecated, and will error in future. Ensure you extract a single element from your array before performing this operation. (Deprecated NumPy 1.25.)\n",
            "  current_data[0, -1] = next_pred\n",
            "<ipython-input-3-648e2ad15a9c>:14: DeprecationWarning: Conversion of an array with ndim > 0 to a scalar is deprecated, and will error in future. Ensure you extract a single element from your array before performing this operation. (Deprecated NumPy 1.25.)\n",
            "  current_data[0, -1] = next_pred\n",
            "<ipython-input-3-648e2ad15a9c>:14: DeprecationWarning: Conversion of an array with ndim > 0 to a scalar is deprecated, and will error in future. Ensure you extract a single element from your array before performing this operation. (Deprecated NumPy 1.25.)\n",
            "  current_data[0, -1] = next_pred\n",
            "<ipython-input-3-648e2ad15a9c>:14: DeprecationWarning: Conversion of an array with ndim > 0 to a scalar is deprecated, and will error in future. Ensure you extract a single element from your array before performing this operation. (Deprecated NumPy 1.25.)\n",
            "  current_data[0, -1] = next_pred\n",
            "<ipython-input-3-648e2ad15a9c>:14: DeprecationWarning: Conversion of an array with ndim > 0 to a scalar is deprecated, and will error in future. Ensure you extract a single element from your array before performing this operation. (Deprecated NumPy 1.25.)\n",
            "  current_data[0, -1] = next_pred\n",
            "<ipython-input-3-648e2ad15a9c>:14: DeprecationWarning: Conversion of an array with ndim > 0 to a scalar is deprecated, and will error in future. Ensure you extract a single element from your array before performing this operation. (Deprecated NumPy 1.25.)\n",
            "  current_data[0, -1] = next_pred\n",
            "<ipython-input-3-648e2ad15a9c>:14: DeprecationWarning: Conversion of an array with ndim > 0 to a scalar is deprecated, and will error in future. Ensure you extract a single element from your array before performing this operation. (Deprecated NumPy 1.25.)\n",
            "  current_data[0, -1] = next_pred\n"
          ]
        }
      ]
    },
    {
      "cell_type": "code",
      "source": [
        "# Function to predict previous values\n",
        "def predict_previous_values(model, current_data, days):\n",
        "    predictions = []\n",
        "    for _ in range(days):\n",
        "        next_pred = model.predict(current_data)\n",
        "        predictions.append(next_pred[0])\n",
        "\n",
        "        # Prepare the next data point (shift data and include new prediction)\n",
        "        current_data = np.roll(current_data, 1)\n",
        "        current_data[0, 0] = next_pred\n",
        "    return predictions\n",
        "\n",
        "# Predict the previous 7 days\n",
        "days_to_predict = 7\n",
        "prev_predictions_lr = predict_previous_values(lr, last_data_point_scaled, days_to_predict)\n",
        "prev_predictions_rf = predict_previous_values(rf, last_data_point_scaled, days_to_predict)\n",
        "prev_predictions_svm = predict_previous_values(svm, last_data_point_scaled, days_to_predict)\n",
        "\n",
        "# Generate the dates for the previous predictions\n",
        "first_date = train_end_date\n",
        "prev_predicted_dates = [first_date - pd.Timedelta(days=i) for i in range(1, days_to_predict + 1)]\n",
        "prev_predicted_dates.reverse()  # To maintain chronological order\n"
      ],
      "metadata": {
        "colab": {
          "base_uri": "https://localhost:8080/",
          "height": 1000
        },
        "id": "wUPOMkkd9lp2",
        "outputId": "1299e2d6-be94-4a6f-d0ab-ca419c999512"
      },
      "execution_count": 4,
      "outputs": [
        {
          "output_type": "stream",
          "name": "stderr",
          "text": [
            "<ipython-input-4-af509e89a661>:10: DeprecationWarning: Conversion of an array with ndim > 0 to a scalar is deprecated, and will error in future. Ensure you extract a single element from your array before performing this operation. (Deprecated NumPy 1.25.)\n",
            "  current_data[0, 0] = next_pred\n",
            "<ipython-input-4-af509e89a661>:10: DeprecationWarning: Conversion of an array with ndim > 0 to a scalar is deprecated, and will error in future. Ensure you extract a single element from your array before performing this operation. (Deprecated NumPy 1.25.)\n",
            "  current_data[0, 0] = next_pred\n",
            "<ipython-input-4-af509e89a661>:10: DeprecationWarning: Conversion of an array with ndim > 0 to a scalar is deprecated, and will error in future. Ensure you extract a single element from your array before performing this operation. (Deprecated NumPy 1.25.)\n",
            "  current_data[0, 0] = next_pred\n",
            "<ipython-input-4-af509e89a661>:10: DeprecationWarning: Conversion of an array with ndim > 0 to a scalar is deprecated, and will error in future. Ensure you extract a single element from your array before performing this operation. (Deprecated NumPy 1.25.)\n",
            "  current_data[0, 0] = next_pred\n",
            "<ipython-input-4-af509e89a661>:10: DeprecationWarning: Conversion of an array with ndim > 0 to a scalar is deprecated, and will error in future. Ensure you extract a single element from your array before performing this operation. (Deprecated NumPy 1.25.)\n",
            "  current_data[0, 0] = next_pred\n",
            "<ipython-input-4-af509e89a661>:10: DeprecationWarning: Conversion of an array with ndim > 0 to a scalar is deprecated, and will error in future. Ensure you extract a single element from your array before performing this operation. (Deprecated NumPy 1.25.)\n",
            "  current_data[0, 0] = next_pred\n",
            "<ipython-input-4-af509e89a661>:10: DeprecationWarning: Conversion of an array with ndim > 0 to a scalar is deprecated, and will error in future. Ensure you extract a single element from your array before performing this operation. (Deprecated NumPy 1.25.)\n",
            "  current_data[0, 0] = next_pred\n",
            "<ipython-input-4-af509e89a661>:10: DeprecationWarning: Conversion of an array with ndim > 0 to a scalar is deprecated, and will error in future. Ensure you extract a single element from your array before performing this operation. (Deprecated NumPy 1.25.)\n",
            "  current_data[0, 0] = next_pred\n",
            "<ipython-input-4-af509e89a661>:10: DeprecationWarning: Conversion of an array with ndim > 0 to a scalar is deprecated, and will error in future. Ensure you extract a single element from your array before performing this operation. (Deprecated NumPy 1.25.)\n",
            "  current_data[0, 0] = next_pred\n",
            "<ipython-input-4-af509e89a661>:10: DeprecationWarning: Conversion of an array with ndim > 0 to a scalar is deprecated, and will error in future. Ensure you extract a single element from your array before performing this operation. (Deprecated NumPy 1.25.)\n",
            "  current_data[0, 0] = next_pred\n",
            "<ipython-input-4-af509e89a661>:10: DeprecationWarning: Conversion of an array with ndim > 0 to a scalar is deprecated, and will error in future. Ensure you extract a single element from your array before performing this operation. (Deprecated NumPy 1.25.)\n",
            "  current_data[0, 0] = next_pred\n",
            "<ipython-input-4-af509e89a661>:10: DeprecationWarning: Conversion of an array with ndim > 0 to a scalar is deprecated, and will error in future. Ensure you extract a single element from your array before performing this operation. (Deprecated NumPy 1.25.)\n",
            "  current_data[0, 0] = next_pred\n",
            "<ipython-input-4-af509e89a661>:10: DeprecationWarning: Conversion of an array with ndim > 0 to a scalar is deprecated, and will error in future. Ensure you extract a single element from your array before performing this operation. (Deprecated NumPy 1.25.)\n",
            "  current_data[0, 0] = next_pred\n",
            "<ipython-input-4-af509e89a661>:10: DeprecationWarning: Conversion of an array with ndim > 0 to a scalar is deprecated, and will error in future. Ensure you extract a single element from your array before performing this operation. (Deprecated NumPy 1.25.)\n",
            "  current_data[0, 0] = next_pred\n",
            "<ipython-input-4-af509e89a661>:10: DeprecationWarning: Conversion of an array with ndim > 0 to a scalar is deprecated, and will error in future. Ensure you extract a single element from your array before performing this operation. (Deprecated NumPy 1.25.)\n",
            "  current_data[0, 0] = next_pred\n",
            "<ipython-input-4-af509e89a661>:10: DeprecationWarning: Conversion of an array with ndim > 0 to a scalar is deprecated, and will error in future. Ensure you extract a single element from your array before performing this operation. (Deprecated NumPy 1.25.)\n",
            "  current_data[0, 0] = next_pred\n",
            "<ipython-input-4-af509e89a661>:10: DeprecationWarning: Conversion of an array with ndim > 0 to a scalar is deprecated, and will error in future. Ensure you extract a single element from your array before performing this operation. (Deprecated NumPy 1.25.)\n",
            "  current_data[0, 0] = next_pred\n",
            "<ipython-input-4-af509e89a661>:10: DeprecationWarning: Conversion of an array with ndim > 0 to a scalar is deprecated, and will error in future. Ensure you extract a single element from your array before performing this operation. (Deprecated NumPy 1.25.)\n",
            "  current_data[0, 0] = next_pred\n",
            "<ipython-input-4-af509e89a661>:10: DeprecationWarning: Conversion of an array with ndim > 0 to a scalar is deprecated, and will error in future. Ensure you extract a single element from your array before performing this operation. (Deprecated NumPy 1.25.)\n",
            "  current_data[0, 0] = next_pred\n",
            "<ipython-input-4-af509e89a661>:10: DeprecationWarning: Conversion of an array with ndim > 0 to a scalar is deprecated, and will error in future. Ensure you extract a single element from your array before performing this operation. (Deprecated NumPy 1.25.)\n",
            "  current_data[0, 0] = next_pred\n",
            "<ipython-input-4-af509e89a661>:10: DeprecationWarning: Conversion of an array with ndim > 0 to a scalar is deprecated, and will error in future. Ensure you extract a single element from your array before performing this operation. (Deprecated NumPy 1.25.)\n",
            "  current_data[0, 0] = next_pred\n"
          ]
        },
        {
          "output_type": "error",
          "ename": "NameError",
          "evalue": "name 'train_end_date' is not defined",
          "traceback": [
            "\u001b[0;31m---------------------------------------------------------------------------\u001b[0m",
            "\u001b[0;31mNameError\u001b[0m                                 Traceback (most recent call last)",
            "\u001b[0;32m<ipython-input-4-af509e89a661>\u001b[0m in \u001b[0;36m<cell line: 20>\u001b[0;34m()\u001b[0m\n\u001b[1;32m     18\u001b[0m \u001b[0;34m\u001b[0m\u001b[0m\n\u001b[1;32m     19\u001b[0m \u001b[0;31m# Generate the dates for the previous predictions\u001b[0m\u001b[0;34m\u001b[0m\u001b[0;34m\u001b[0m\u001b[0m\n\u001b[0;32m---> 20\u001b[0;31m \u001b[0mfirst_date\u001b[0m \u001b[0;34m=\u001b[0m \u001b[0mtrain_end_date\u001b[0m\u001b[0;34m\u001b[0m\u001b[0;34m\u001b[0m\u001b[0m\n\u001b[0m\u001b[1;32m     21\u001b[0m \u001b[0mprev_predicted_dates\u001b[0m \u001b[0;34m=\u001b[0m \u001b[0;34m[\u001b[0m\u001b[0mfirst_date\u001b[0m \u001b[0;34m-\u001b[0m \u001b[0mpd\u001b[0m\u001b[0;34m.\u001b[0m\u001b[0mTimedelta\u001b[0m\u001b[0;34m(\u001b[0m\u001b[0mdays\u001b[0m\u001b[0;34m=\u001b[0m\u001b[0mi\u001b[0m\u001b[0;34m)\u001b[0m \u001b[0;32mfor\u001b[0m \u001b[0mi\u001b[0m \u001b[0;32min\u001b[0m \u001b[0mrange\u001b[0m\u001b[0;34m(\u001b[0m\u001b[0;36m1\u001b[0m\u001b[0;34m,\u001b[0m \u001b[0mdays_to_predict\u001b[0m \u001b[0;34m+\u001b[0m \u001b[0;36m1\u001b[0m\u001b[0;34m)\u001b[0m\u001b[0;34m]\u001b[0m\u001b[0;34m\u001b[0m\u001b[0;34m\u001b[0m\u001b[0m\n\u001b[1;32m     22\u001b[0m \u001b[0mprev_predicted_dates\u001b[0m\u001b[0;34m.\u001b[0m\u001b[0mreverse\u001b[0m\u001b[0;34m(\u001b[0m\u001b[0;34m)\u001b[0m  \u001b[0;31m# To maintain chronological order\u001b[0m\u001b[0;34m\u001b[0m\u001b[0;34m\u001b[0m\u001b[0m\n",
            "\u001b[0;31mNameError\u001b[0m: name 'train_end_date' is not defined"
          ]
        }
      ]
    },
    {
      "cell_type": "code",
      "source": [
        "# Function to predict previous values\n",
        "def predict_previous_values(model, current_data, days):\n",
        "    predictions = []\n",
        "    for _ in range(days):\n",
        "        next_pred = model.predict(current_data)\n",
        "        predictions.append(next_pred[0])\n",
        "\n",
        "        # Prepare the next data point (shift data and include new prediction)\n",
        "        current_data = np.roll(current_data, 1)\n",
        "        current_data[0, 0] = next_pred\n",
        "    return predictions\n",
        "\n",
        "# Predict the previous 7 days\n",
        "days_to_predict = 7\n",
        "prev_predictions_lr = predict_previous_values(lr, last_data_point_scaled, days_to_predict)\n",
        "prev_predictions_rf = predict_previous_values(rf, last_data_point_scaled, days_to_predict)\n",
        "prev_predictions_svm = predict_previous_values(svm, last_data_point_scaled, days_to_predict)\n",
        "\n",
        "# Generate the dates for the previous predictions\n",
        "# Get the date before the first date in the validation set\n",
        "first_date = data.index[len(X_train)] - pd.Timedelta(days=1)\n",
        "prev_predicted_dates = [first_date - pd.Timedelta(days=i) for i in range(1, days_to_predict + 1)]\n",
        "prev_predicted_dates.reverse()  # To maintain chronological order"
      ],
      "metadata": {
        "colab": {
          "base_uri": "https://localhost:8080/"
        },
        "id": "Cl8d-ih198-B",
        "outputId": "6cc97eb5-a4f5-4b27-8d8d-51cb9ab998ed"
      },
      "execution_count": 5,
      "outputs": [
        {
          "output_type": "stream",
          "name": "stderr",
          "text": [
            "<ipython-input-5-75e8981a4ccf>:10: DeprecationWarning: Conversion of an array with ndim > 0 to a scalar is deprecated, and will error in future. Ensure you extract a single element from your array before performing this operation. (Deprecated NumPy 1.25.)\n",
            "  current_data[0, 0] = next_pred\n",
            "<ipython-input-5-75e8981a4ccf>:10: DeprecationWarning: Conversion of an array with ndim > 0 to a scalar is deprecated, and will error in future. Ensure you extract a single element from your array before performing this operation. (Deprecated NumPy 1.25.)\n",
            "  current_data[0, 0] = next_pred\n",
            "<ipython-input-5-75e8981a4ccf>:10: DeprecationWarning: Conversion of an array with ndim > 0 to a scalar is deprecated, and will error in future. Ensure you extract a single element from your array before performing this operation. (Deprecated NumPy 1.25.)\n",
            "  current_data[0, 0] = next_pred\n",
            "<ipython-input-5-75e8981a4ccf>:10: DeprecationWarning: Conversion of an array with ndim > 0 to a scalar is deprecated, and will error in future. Ensure you extract a single element from your array before performing this operation. (Deprecated NumPy 1.25.)\n",
            "  current_data[0, 0] = next_pred\n",
            "<ipython-input-5-75e8981a4ccf>:10: DeprecationWarning: Conversion of an array with ndim > 0 to a scalar is deprecated, and will error in future. Ensure you extract a single element from your array before performing this operation. (Deprecated NumPy 1.25.)\n",
            "  current_data[0, 0] = next_pred\n",
            "<ipython-input-5-75e8981a4ccf>:10: DeprecationWarning: Conversion of an array with ndim > 0 to a scalar is deprecated, and will error in future. Ensure you extract a single element from your array before performing this operation. (Deprecated NumPy 1.25.)\n",
            "  current_data[0, 0] = next_pred\n",
            "<ipython-input-5-75e8981a4ccf>:10: DeprecationWarning: Conversion of an array with ndim > 0 to a scalar is deprecated, and will error in future. Ensure you extract a single element from your array before performing this operation. (Deprecated NumPy 1.25.)\n",
            "  current_data[0, 0] = next_pred\n",
            "<ipython-input-5-75e8981a4ccf>:10: DeprecationWarning: Conversion of an array with ndim > 0 to a scalar is deprecated, and will error in future. Ensure you extract a single element from your array before performing this operation. (Deprecated NumPy 1.25.)\n",
            "  current_data[0, 0] = next_pred\n",
            "<ipython-input-5-75e8981a4ccf>:10: DeprecationWarning: Conversion of an array with ndim > 0 to a scalar is deprecated, and will error in future. Ensure you extract a single element from your array before performing this operation. (Deprecated NumPy 1.25.)\n",
            "  current_data[0, 0] = next_pred\n",
            "<ipython-input-5-75e8981a4ccf>:10: DeprecationWarning: Conversion of an array with ndim > 0 to a scalar is deprecated, and will error in future. Ensure you extract a single element from your array before performing this operation. (Deprecated NumPy 1.25.)\n",
            "  current_data[0, 0] = next_pred\n",
            "<ipython-input-5-75e8981a4ccf>:10: DeprecationWarning: Conversion of an array with ndim > 0 to a scalar is deprecated, and will error in future. Ensure you extract a single element from your array before performing this operation. (Deprecated NumPy 1.25.)\n",
            "  current_data[0, 0] = next_pred\n",
            "<ipython-input-5-75e8981a4ccf>:10: DeprecationWarning: Conversion of an array with ndim > 0 to a scalar is deprecated, and will error in future. Ensure you extract a single element from your array before performing this operation. (Deprecated NumPy 1.25.)\n",
            "  current_data[0, 0] = next_pred\n",
            "<ipython-input-5-75e8981a4ccf>:10: DeprecationWarning: Conversion of an array with ndim > 0 to a scalar is deprecated, and will error in future. Ensure you extract a single element from your array before performing this operation. (Deprecated NumPy 1.25.)\n",
            "  current_data[0, 0] = next_pred\n",
            "<ipython-input-5-75e8981a4ccf>:10: DeprecationWarning: Conversion of an array with ndim > 0 to a scalar is deprecated, and will error in future. Ensure you extract a single element from your array before performing this operation. (Deprecated NumPy 1.25.)\n",
            "  current_data[0, 0] = next_pred\n",
            "<ipython-input-5-75e8981a4ccf>:10: DeprecationWarning: Conversion of an array with ndim > 0 to a scalar is deprecated, and will error in future. Ensure you extract a single element from your array before performing this operation. (Deprecated NumPy 1.25.)\n",
            "  current_data[0, 0] = next_pred\n",
            "<ipython-input-5-75e8981a4ccf>:10: DeprecationWarning: Conversion of an array with ndim > 0 to a scalar is deprecated, and will error in future. Ensure you extract a single element from your array before performing this operation. (Deprecated NumPy 1.25.)\n",
            "  current_data[0, 0] = next_pred\n",
            "<ipython-input-5-75e8981a4ccf>:10: DeprecationWarning: Conversion of an array with ndim > 0 to a scalar is deprecated, and will error in future. Ensure you extract a single element from your array before performing this operation. (Deprecated NumPy 1.25.)\n",
            "  current_data[0, 0] = next_pred\n",
            "<ipython-input-5-75e8981a4ccf>:10: DeprecationWarning: Conversion of an array with ndim > 0 to a scalar is deprecated, and will error in future. Ensure you extract a single element from your array before performing this operation. (Deprecated NumPy 1.25.)\n",
            "  current_data[0, 0] = next_pred\n",
            "<ipython-input-5-75e8981a4ccf>:10: DeprecationWarning: Conversion of an array with ndim > 0 to a scalar is deprecated, and will error in future. Ensure you extract a single element from your array before performing this operation. (Deprecated NumPy 1.25.)\n",
            "  current_data[0, 0] = next_pred\n",
            "<ipython-input-5-75e8981a4ccf>:10: DeprecationWarning: Conversion of an array with ndim > 0 to a scalar is deprecated, and will error in future. Ensure you extract a single element from your array before performing this operation. (Deprecated NumPy 1.25.)\n",
            "  current_data[0, 0] = next_pred\n",
            "<ipython-input-5-75e8981a4ccf>:10: DeprecationWarning: Conversion of an array with ndim > 0 to a scalar is deprecated, and will error in future. Ensure you extract a single element from your array before performing this operation. (Deprecated NumPy 1.25.)\n",
            "  current_data[0, 0] = next_pred\n"
          ]
        }
      ]
    },
    {
      "cell_type": "code",
      "source": [
        "# Combine future and previous predictions into a single DataFrame\n",
        "all_predicted_dates = prev_predicted_dates + predicted_dates\n",
        "all_predictions_lr = prev_predictions_lr + predictions_lr\n",
        "all_predictions_rf = prev_predictions_rf + predictions_rf\n",
        "all_predictions_svm = prev_predictions_svm + predictions_svm\n",
        "\n",
        "# Create a DataFrame to hold all predictions\n",
        "all_predictions_df = pd.DataFrame({\n",
        "    'Date': all_predicted_dates,\n",
        "    'Linear Regression': all_predictions_lr,\n",
        "    'Random Forest': all_predictions_rf,\n",
        "    'SVM': all_predictions_svm\n",
        "})\n",
        "\n",
        "print(all_predictions_df)\n"
      ],
      "metadata": {
        "colab": {
          "base_uri": "https://localhost:8080/"
        },
        "id": "-ZUSo3a2-AQA",
        "outputId": "48c55ea5-f46b-4a72-a4da-09a33b0302b8"
      },
      "execution_count": 6,
      "outputs": [
        {
          "output_type": "stream",
          "name": "stdout",
          "text": [
            "         Date  Linear Regression  Random Forest         SVM\n",
            "0  2023-06-29         846.580017     846.504609  253.799798\n",
            "1  2023-06-30         862.108615     758.592293  195.947720\n",
            "2  2023-07-01         834.882058     794.606086  195.947720\n",
            "3  2023-07-02         846.241470     788.007297  195.947720\n",
            "4  2023-07-03      205160.303423    1077.091090  195.947720\n",
            "5  2023-07-04      208920.791841    1025.698589  195.947720\n",
            "6  2023-07-05      202327.463081    1097.998981  195.947720\n",
            "7  2024-07-06         846.580017     846.504609  253.799798\n",
            "8  2024-07-07         388.584006     724.074890  195.947720\n",
            "9  2024-07-08         849.923326     795.470695  195.947720\n",
            "10 2024-07-09         842.987347     806.179391  195.947720\n",
            "11 2024-07-10         820.779090     786.056387  195.947720\n",
            "12 2024-07-11         830.552593     830.808180  195.947720\n",
            "13 2024-07-12         905.442847     902.039979  195.947720\n"
          ]
        }
      ]
    }
  ]
}