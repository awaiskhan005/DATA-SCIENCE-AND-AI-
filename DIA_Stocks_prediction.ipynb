{
  "nbformat": 4,
  "nbformat_minor": 0,
  "metadata": {
    "colab": {
      "provenance": [],
      "authorship_tag": "ABX9TyMiItwVEUer4asXzk18Y0fw",
      "include_colab_link": true
    },
    "kernelspec": {
      "name": "python3",
      "display_name": "Python 3"
    },
    "language_info": {
      "name": "python"
    }
  },
  "cells": [
    {
      "cell_type": "markdown",
      "metadata": {
        "id": "view-in-github",
        "colab_type": "text"
      },
      "source": [
        "<a href=\"https://colab.research.google.com/github/awaiskhan005/DATA-SCIENCE-AND-AI-/blob/main/DIA_Stocks_prediction.ipynb\" target=\"_parent\"><img src=\"https://colab.research.google.com/assets/colab-badge.svg\" alt=\"Open In Colab\"/></a>"
      ]
    },
    {
      "cell_type": "code",
      "execution_count": 1,
      "metadata": {
        "id": "VHKJ5LSiWtP6"
      },
      "outputs": [],
      "source": [
        "import seaborn as sns\n",
        "import matplotlib.pyplot as plt\n",
        "import plotly.express as px\n",
        "%matplotlib inline\n",
        "# Import necessary libraries\n",
        "import numpy as np\n",
        "import pandas as pd\n",
        "import matplotlib.pyplot as plt\n",
        "import seaborn as sns\n",
        "from sklearn.model_selection import train_test_split\n",
        "from sklearn.preprocessing import StandardScaler\n",
        "from sklearn.metrics import mean_squared_error, r2_score\n",
        "from sklearn.linear_model import LinearRegression\n",
        "from sklearn.ensemble import RandomForestRegressor\n",
        "from sklearn.svm import SVR\n",
        "from tensorflow.keras.models import Sequential\n",
        "from tensorflow.keras.layers import Dense, LSTM\n",
        "import warnings\n",
        "warnings.filterwarnings('ignore')\n",
        "import pandas as pd\n",
        "import numpy as np\n"
      ]
    },
    {
      "cell_type": "code",
      "source": [
        "import yfinance as yf\n",
        "\n",
        "# Download historical data\n",
        "tickers = ['MSFT', 'V', 'HD', 'CAT', 'AAPL', 'BA', 'CRM', 'AXP', 'AMZN', 'GS',\n",
        "           'HON', 'NKE', 'JPM', 'MMM', 'INTC', 'DIS', 'TRV', 'DOW', 'MCD', 'IBM',\n",
        "           'WMT', 'CSCO', 'VZ', 'KO', 'CVX', 'PG', 'MRK', 'AMGN', 'JNJ', 'UNH', 'DIA']\n",
        "\n",
        "# Fetch data\n",
        "data = yf.download(tickers, start=\"2020-01-01\", end=\"2024-07-01\")\n",
        "\n",
        "# Inspect the structure of the data\n",
        "print(data.head())\n"
      ],
      "metadata": {
        "colab": {
          "base_uri": "https://localhost:8080/"
        },
        "id": "69aLu7zEX597",
        "outputId": "f4ab5946-b888-4c54-8e83-832c7f19a2e2"
      },
      "execution_count": 8,
      "outputs": [
        {
          "output_type": "stream",
          "name": "stderr",
          "text": [
            "[*********************100%%**********************]  31 of 31 completed\n"
          ]
        },
        {
          "output_type": "stream",
          "name": "stdout",
          "text": [
            "Price       Adj Close                                                 \\\n",
            "Ticker           AAPL        AMGN       AMZN         AXP          BA   \n",
            "Date                                                                   \n",
            "2020-01-02  72.960472  209.199493  94.900497  118.203125  331.348572   \n",
            "2020-01-03  72.251129  207.779251  93.748497  117.029068  330.791901   \n",
            "2020-01-06  72.826859  209.373703  95.143997  116.521896  331.766083   \n",
            "2020-01-07  72.484352  207.404572  95.343002  115.911385  335.285156   \n",
            "2020-01-08  73.650352  207.561417  94.598503  117.911957  329.410095   \n",
            "\n",
            "Price                                                                 ...  \\\n",
            "Ticker             CAT         CRM       CSCO        CVX         DIA  ...   \n",
            "Date                                                                  ...   \n",
            "2020-01-02  135.366058  166.512955  42.057175  99.316284  264.621643  ...   \n",
            "2020-01-03  133.486649  165.695297  41.370998  98.972778  262.512909  ...   \n",
            "2020-01-06  133.396713  172.954498  41.518654  98.637428  263.118225  ...   \n",
            "2020-01-07  131.634186  175.497223  41.249390  97.377869  261.981049  ...   \n",
            "2020-01-08  132.803192  176.823425  41.275440  96.265564  263.503021  ...   \n",
            "\n",
            "Price        Volume                                                          \\\n",
            "Ticker          MMM       MRK      MSFT      NKE       PG      TRV      UNH   \n",
            "Date                                                                          \n",
            "2020-01-02  4307633   8251428  22622100  5644100  8130800  1117300  2543400   \n",
            "2020-01-03  2950412   5903698  21116200  4541800  7970500   927300  2711400   \n",
            "2020-01-06  2389608   7522963  20813700  4612400  6674400   952800  3079100   \n",
            "2020-01-07  2598908  11132275  21634100  6719900  7583400  1204600  2492900   \n",
            "2020-01-08  3298927  15200506  27746500  4942200  5385100  1942800  3379200   \n",
            "\n",
            "Price                                     \n",
            "Ticker             V        VZ       WMT  \n",
            "Date                                      \n",
            "2020-01-02   8733000  11447900  20294700  \n",
            "2020-01-03   4899700  13263200  16197600  \n",
            "2020-01-06  10109500  15094500  19336500  \n",
            "2020-01-07   4392300  14293100  20540700  \n",
            "2020-01-08   5712000  15926500  17627400  \n",
            "\n",
            "[5 rows x 186 columns]\n"
          ]
        }
      ]
    },
    {
      "cell_type": "code",
      "source": [
        "print(data.columns)"
      ],
      "metadata": {
        "colab": {
          "base_uri": "https://localhost:8080/"
        },
        "id": "W0Ti6yoOX9v5",
        "outputId": "2e166e23-6c75-40c4-cfd1-77a002f198d3"
      },
      "execution_count": 9,
      "outputs": [
        {
          "output_type": "stream",
          "name": "stdout",
          "text": [
            "MultiIndex([('Adj Close', 'AAPL'),\n",
            "            ('Adj Close', 'AMGN'),\n",
            "            ('Adj Close', 'AMZN'),\n",
            "            ('Adj Close',  'AXP'),\n",
            "            ('Adj Close',   'BA'),\n",
            "            ('Adj Close',  'CAT'),\n",
            "            ('Adj Close',  'CRM'),\n",
            "            ('Adj Close', 'CSCO'),\n",
            "            ('Adj Close',  'CVX'),\n",
            "            ('Adj Close',  'DIA'),\n",
            "            ...\n",
            "            (   'Volume',  'MMM'),\n",
            "            (   'Volume',  'MRK'),\n",
            "            (   'Volume', 'MSFT'),\n",
            "            (   'Volume',  'NKE'),\n",
            "            (   'Volume',   'PG'),\n",
            "            (   'Volume',  'TRV'),\n",
            "            (   'Volume',  'UNH'),\n",
            "            (   'Volume',    'V'),\n",
            "            (   'Volume',   'VZ'),\n",
            "            (   'Volume',  'WMT')],\n",
            "           names=['Price', 'Ticker'], length=186)\n"
          ]
        }
      ]
    },
    {
      "cell_type": "code",
      "source": [
        "import yfinance as yf\n",
        "import pandas as pd\n",
        "from sklearn.ensemble import RandomForestClassifier\n",
        "from sklearn.model_selection import train_test_split\n",
        "from sklearn.metrics import accuracy_score\n",
        "\n",
        "# Download historical data\n",
        "tickers = ['MSFT', 'V', 'HD', 'CAT', 'AAPL', 'BA', 'CRM', 'AXP', 'AMZN', 'GS',\n",
        "           'HON', 'NKE', 'JPM', 'MMM', 'INTC', 'DIS', 'TRV', 'DOW', 'MCD', 'IBM',\n",
        "           'WMT', 'CSCO', 'VZ', 'KO', 'CVX', 'PG', 'MRK', 'AMGN', 'JNJ', 'UNH', 'DIA']\n",
        "\n",
        "# Fetch data\n",
        "data = yf.download(tickers, start=\"2020-01-01\", end=\"2024-07-01\", group_by='ticker')\n",
        "\n",
        "# Inspect the structure of the data\n",
        "print(data.head())\n",
        "print(data.columns)\n",
        "\n",
        "# Preprocess and create features\n",
        "def preprocess_data(df):\n",
        "    df['Previous Close'] = df['Close'].shift(1)\n",
        "    df['Open-Close'] = df['Open'] - df['Previous Close']\n",
        "    df['High-Low'] = df['High'] - df['Low']\n",
        "    df['Direction'] = (df['Open'] > df['Previous Close']).astype(int)\n",
        "    df = df.dropna()\n",
        "    return df\n",
        "\n",
        "# Process data for each ticker\n",
        "processed_data = {ticker: preprocess_data(data[ticker]) for ticker in tickers}\n",
        "\n",
        "# Example with DIA data\n",
        "dia_data = processed_data['DIA']\n",
        "X = dia_data[['Open-Close', 'High-Low']]\n",
        "y = dia_data['Direction']\n",
        "\n",
        "# Split into train and test sets\n",
        "X_train, X_test, y_train, y_test = train_test_split(X, y, test_size=0.2, shuffle=False)\n",
        "\n",
        "# Train the model\n",
        "model = RandomForestClassifier()\n",
        "model.fit(X_train, y_train)\n",
        "\n",
        "# Make predictions\n",
        "y_pred = model.predict(X_test)\n",
        "\n",
        "# Evaluate the model\n",
        "accuracy = accuracy_score(y_test, y_pred)\n",
        "print(f\"Model Accuracy: {accuracy}\")\n",
        "\n",
        "# Predict next day's opening direction\n",
        "latest_data = X_test.iloc[-1].values.reshape(1, -2)\n",
        "next_day_prediction = model.predict(latest_data)\n",
        "print(f\"Next day's opening will be {'above' if next_day_prediction == 1 else 'below'} the previous day's closing.\")\n"
      ],
      "metadata": {
        "colab": {
          "base_uri": "https://localhost:8080/"
        },
        "id": "Q7_YI33bYHaM",
        "outputId": "23c51b30-8524-416e-c0d1-f096079230bc"
      },
      "execution_count": 10,
      "outputs": [
        {
          "output_type": "stream",
          "name": "stderr",
          "text": [
            "[*********************100%%**********************]  31 of 31 completed\n"
          ]
        },
        {
          "output_type": "stream",
          "name": "stdout",
          "text": [
            "Ticker               V                                                  \\\n",
            "Price             Open        High         Low       Close   Adj Close   \n",
            "Date                                                                     \n",
            "2020-01-02  189.000000  191.139999  188.720001  191.119995  185.208740   \n",
            "2020-01-03  188.410004  190.960007  187.919998  189.600006  183.735748   \n",
            "2020-01-06  188.000000  189.210007  187.160004  189.190002  183.338394   \n",
            "2020-01-07  189.589996  190.100006  188.600006  188.690002  182.853882   \n",
            "2020-01-08  189.490005  192.500000  188.800003  191.919998  185.983994   \n",
            "\n",
            "Ticker                        HD                                      ...  \\\n",
            "Price         Volume        Open        High         Low       Close  ...   \n",
            "Date                                                                  ...   \n",
            "2020-01-02   8733000  219.080002  219.759995  217.839996  219.660004  ...   \n",
            "2020-01-03   4899700  217.139999  219.679993  216.750000  218.929993  ...   \n",
            "2020-01-06  10109500  216.490005  220.000000  216.399994  219.960007  ...   \n",
            "2020-01-07   4392300  219.500000  220.559998  216.899994  218.520004  ...   \n",
            "2020-01-08   5712000  218.800003  222.970001  218.669998  221.789993  ...   \n",
            "\n",
            "Ticker             DIA                                         AMGN  \\\n",
            "Price              Low       Close   Adj Close   Volume        Open   \n",
            "Date                                                                  \n",
            "2020-01-02  286.149994  288.619995  264.621643  3865500  243.000000   \n",
            "2020-01-03  285.179993  286.320007  262.512909  3296700  237.160004   \n",
            "2020-01-06  284.160004  286.980011  263.118225  1645100  237.199997   \n",
            "2020-01-07  285.579987  285.739990  261.981049  1413000  239.309998   \n",
            "2020-01-08  285.079987  287.399994  263.503021  3136700  237.929993   \n",
            "\n",
            "Ticker                                                               \n",
            "Price             High         Low       Close   Adj Close   Volume  \n",
            "Date                                                                 \n",
            "2020-01-02  243.190002  238.979996  240.100006  209.199493  2088000  \n",
            "2020-01-03  240.259995  236.240005  238.470001  207.779251  1879000  \n",
            "2020-01-06  240.449997  236.559998  240.300003  209.373703  1802800  \n",
            "2020-01-07  240.000000  237.589996  238.039993  207.404572  1518900  \n",
            "2020-01-08  239.580002  236.610001  238.220001  207.561417  2214700  \n",
            "\n",
            "[5 rows x 186 columns]\n",
            "MultiIndex([(   'V',      'Open'),\n",
            "            (   'V',      'High'),\n",
            "            (   'V',       'Low'),\n",
            "            (   'V',     'Close'),\n",
            "            (   'V', 'Adj Close'),\n",
            "            (   'V',    'Volume'),\n",
            "            (  'HD',      'Open'),\n",
            "            (  'HD',      'High'),\n",
            "            (  'HD',       'Low'),\n",
            "            (  'HD',     'Close'),\n",
            "            ...\n",
            "            ( 'DIA',       'Low'),\n",
            "            ( 'DIA',     'Close'),\n",
            "            ( 'DIA', 'Adj Close'),\n",
            "            ( 'DIA',    'Volume'),\n",
            "            ('AMGN',      'Open'),\n",
            "            ('AMGN',      'High'),\n",
            "            ('AMGN',       'Low'),\n",
            "            ('AMGN',     'Close'),\n",
            "            ('AMGN', 'Adj Close'),\n",
            "            ('AMGN',    'Volume')],\n",
            "           names=['Ticker', 'Price'], length=186)\n",
            "Model Accuracy: 1.0\n",
            "Next day's opening will be below the previous day's closing.\n"
          ]
        }
      ]
    },
    {
      "cell_type": "code",
      "source": [
        "import yfinance as yf\n",
        "import pandas as pd\n",
        "from sklearn.ensemble import RandomForestClassifier\n",
        "from sklearn.model_selection import train_test_split\n",
        "from sklearn.metrics import accuracy_score\n",
        "\n",
        "# Download historical data\n",
        "tickers = ['MSFT', 'V', 'HD', 'CAT', 'AAPL', 'BA', 'CRM', 'AXP', 'AMZN', 'GS',\n",
        "           'HON', 'NKE', 'JPM', 'MMM', 'INTC', 'DIS', 'TRV', 'DOW', 'MCD', 'IBM',\n",
        "           'WMT', 'CSCO', 'VZ', 'KO', 'CVX', 'PG', 'MRK', 'AMGN', 'JNJ', 'UNH', 'DIA']\n",
        "\n",
        "# Fetch data\n",
        "data = yf.download(tickers, start=\"2020-01-01\", end=\"2024-07-01\", group_by='ticker')\n",
        "\n",
        "# Preprocess and create features\n",
        "def preprocess_data(df):\n",
        "    df['Previous Close'] = df['Close'].shift(1)\n",
        "    df['Open-Close'] = df['Open'] - df['Previous Close']\n",
        "    df['High-Low'] = df['High'] - df['Low']\n",
        "    df['Direction'] = (df['Open'] > df['Previous Close']).astype(int)\n",
        "    df = df.dropna()\n",
        "    return df\n",
        "\n",
        "# Process data for each ticker\n",
        "processed_data = {ticker: preprocess_data(data[ticker]) for ticker in tickers}\n",
        "\n",
        "# Example with DIA data\n",
        "dia_data = processed_data['DIA']\n",
        "X = dia_data[['Open-Close', 'High-Low']]\n",
        "y = dia_data['Direction']\n",
        "\n",
        "# Split into train and test sets\n",
        "X_train, X_test, y_train, y_test = train_test_split(X, y, test_size=0.2, shuffle=False)\n",
        "\n",
        "# Train the model\n",
        "model = RandomForestClassifier()\n",
        "model.fit(X_train, y_train)\n",
        "\n",
        "# Make predictions\n",
        "y_pred = model.predict(X_test)\n",
        "\n",
        "# Evaluate the model\n",
        "accuracy = accuracy_score(y_test, y_pred)\n",
        "print(f\"Model Accuracy: {accuracy}\")\n",
        "\n",
        "# Predict next day's opening direction\n",
        "latest_data = X_test.iloc[-1].values.reshape(1, -2)\n",
        "next_day_prediction = model.predict(latest_data)[0]  # Get the predicted class (0 or 1)\n",
        "\n",
        "\n"
      ],
      "metadata": {
        "colab": {
          "base_uri": "https://localhost:8080/"
        },
        "id": "Y1qR9au2YmEw",
        "outputId": "09b3aa64-76d7-4540-9ec5-845423f116ec"
      },
      "execution_count": 11,
      "outputs": [
        {
          "output_type": "stream",
          "name": "stderr",
          "text": [
            "[*********************100%%**********************]  31 of 31 completed\n"
          ]
        },
        {
          "output_type": "stream",
          "name": "stdout",
          "text": [
            "Model Accuracy: 1.0\n"
          ]
        }
      ]
    },
    {
      "cell_type": "code",
      "source": [
        "# Print the predicted number\n",
        "if next_day_prediction == 1:\n",
        "    print(\"Next day's opening will be above the previous day's closing.\")\n",
        "else:\n",
        "    print(\"Next day's opening will be below the previous day's closing.\")"
      ],
      "metadata": {
        "colab": {
          "base_uri": "https://localhost:8080/"
        },
        "id": "cUt83xc3YpoM",
        "outputId": "8b0ff76b-b069-419d-bf2a-fe3cbe116f3f"
      },
      "execution_count": 12,
      "outputs": [
        {
          "output_type": "stream",
          "name": "stdout",
          "text": [
            "Next day's opening will be below the previous day's closing.\n"
          ]
        }
      ]
    },
    {
      "cell_type": "code",
      "source": [
        "import yfinance as yf\n",
        "import pandas as pd\n",
        "from sklearn.ensemble import RandomForestRegressor\n",
        "from sklearn.model_selection import train_test_split\n",
        "from sklearn.metrics import mean_absolute_error\n",
        "\n",
        "# Download historical data\n",
        "tickers = ['MSFT', 'V', 'HD', 'CAT', 'AAPL', 'BA', 'CRM', 'AXP', 'AMZN', 'GS',\n",
        "           'HON', 'NKE', 'JPM', 'MMM', 'INTC', 'DIS', 'TRV', 'DOW', 'MCD', 'IBM',\n",
        "           'WMT', 'CSCO', 'VZ', 'KO', 'CVX', 'PG', 'MRK', 'AMGN', 'JNJ', 'UNH', 'DIA']\n",
        "\n",
        "# Fetch data\n",
        "data = yf.download(tickers, start=\"2020-01-01\", end=\"2024-07-01\", group_by='ticker')\n",
        "\n",
        "# Preprocess and create features\n",
        "def preprocess_data(df):\n",
        "    df['Previous Close'] = df['Close'].shift(1)\n",
        "    df['Open-Close'] = df['Open'] - df['Previous Close']\n",
        "    df['High-Low'] = df['High'] - df['Low']\n",
        "    df = df.dropna()\n",
        "    return df\n",
        "\n",
        "# Process data for each ticker\n",
        "processed_data = {ticker: preprocess_data(data[ticker]) for ticker in tickers}\n",
        "\n",
        "# Example with DIA data\n",
        "dia_data = processed_data['DIA']\n",
        "X = dia_data[['Previous Close', 'Open-Close', 'High-Low']]\n",
        "y = dia_data['Open']\n",
        "\n",
        "# Split into train and test sets\n",
        "X_train, X_test, y_train, y_test = train_test_split(X, y, test_size=0.2, shuffle=False)\n",
        "\n",
        "# Train the model\n",
        "model = RandomForestRegressor()\n",
        "model.fit(X_train, y_train)\n",
        "\n",
        "# Make predictions\n",
        "y_pred = model.predict(X_test)\n",
        "\n",
        "# Evaluate the model\n",
        "mae = mean_absolute_error(y_test, y_pred)\n",
        "print(f\"Model Mean Absolute Error: {mae}\")\n",
        "\n",
        "# Predict next day's opening price\n",
        "latest_data = X_test.iloc[-1].values.reshape(1, -3)\n",
        "next_day_opening_price = model.predict(latest_data)[0]  # Get the predicted opening price\n",
        "\n",
        "# Print the predicted opening price\n",
        "print(f\"Predicted opening price for the next day: {next_day_opening_price}\")\n"
      ],
      "metadata": {
        "colab": {
          "base_uri": "https://localhost:8080/"
        },
        "id": "5u5gnmgWZBUt",
        "outputId": "9ef0d172-b9c9-4901-d2a4-db71c053ed23"
      },
      "execution_count": 13,
      "outputs": [
        {
          "output_type": "stream",
          "name": "stderr",
          "text": [
            "[*********************100%%**********************]  31 of 31 completed\n"
          ]
        },
        {
          "output_type": "stream",
          "name": "stdout",
          "text": [
            "Model Mean Absolute Error: 11.588188494116856\n",
            "Predicted opening price for the next day: 366.9312942504883\n"
          ]
        }
      ]
    },
    {
      "cell_type": "code",
      "source": [
        "import yfinance as yf\n",
        "import pandas as pd\n",
        "from sklearn.ensemble import RandomForestClassifier\n",
        "from sklearn.model_selection import train_test_split\n",
        "from sklearn.metrics import accuracy_score"
      ],
      "metadata": {
        "id": "SvtBK6jVW9K1"
      },
      "execution_count": 2,
      "outputs": []
    },
    {
      "cell_type": "code",
      "source": [
        "# Download historical data\n",
        "tickers = ['MSFT', 'V', 'HD', 'CAT', 'AAPL', 'BA', 'CRM', 'AXP', 'AMZN', 'GS',\n",
        "           'HON', 'NKE', 'JPM', 'MMM', 'INTC', 'DIS', 'TRV', 'DOW', 'MCD', 'IBM',\n",
        "           'WMT', 'CSCO', 'VZ', 'KO', 'CVX', 'PG', 'MRK', 'AMGN', 'JNJ', 'UNH', 'DIA']"
      ],
      "metadata": {
        "id": "cNS1qsjTXA1K"
      },
      "execution_count": 3,
      "outputs": []
    },
    {
      "cell_type": "code",
      "source": [
        "# Fetch data\n",
        "data = yf.download(tickers, start=\"2020-01-01\", end=\"2024-07-01\")"
      ],
      "metadata": {
        "colab": {
          "base_uri": "https://localhost:8080/"
        },
        "id": "jnwjzMu_XEcW",
        "outputId": "45345a49-42c7-45ee-b9d9-e9ca5e8c56f2"
      },
      "execution_count": 4,
      "outputs": [
        {
          "output_type": "stream",
          "name": "stderr",
          "text": [
            "[*********************100%%**********************]  31 of 31 completed\n"
          ]
        }
      ]
    },
    {
      "cell_type": "code",
      "source": [
        "# Preprocess and create features\n",
        "def preprocess_data(df):\n",
        "    df['Previous Close'] = df['Close'].shift(1)\n",
        "    df['Open-Close'] = df['Open'] - df['Previous Close']\n",
        "    df['High-Low'] = df['High'] - df['Low']\n",
        "    df['Direction'] = (df['Open'] > df['Previous Close']).astype(int)\n",
        "    df = df.dropna()\n",
        "    return df"
      ],
      "metadata": {
        "id": "Ioi1-c32XHxZ"
      },
      "execution_count": 5,
      "outputs": []
    },
    {
      "cell_type": "code",
      "source": [
        "import yfinance as yf\n",
        "import pandas as pd\n",
        "from sklearn.ensemble import RandomForestRegressor\n",
        "\n",
        "# Define the tickers\n",
        "tickers = ['MSFT', 'V', 'HD', 'CAT', 'AAPL', 'BA', 'CRM', 'AXP', 'AMZN', 'GS',\n",
        "           'HON', 'NKE', 'JPM', 'MMM', 'INTC', 'DIS', 'TRV', 'DOW', 'MCD', 'IBM',\n",
        "           'WMT', 'CSCO', 'VZ', 'KO', 'CVX', 'PG', 'MRK', 'AMGN', 'JNJ', 'UNH', 'DIA']\n",
        "\n",
        "# Fetch historical data up to the most recent trading day\n",
        "data = yf.download(tickers, start=\"2020-01-01\", end=\"2024-07-25\", group_by='ticker')  # Adjust end date as needed\n",
        "\n",
        "# Preprocess and create features\n",
        "def preprocess_data(df):\n",
        "    df['Previous Close'] = df['Close'].shift(1)\n",
        "    df['Open-Close'] = df['Open'] - df['Previous Close']\n",
        "    df['High-Low'] = df['High'] - df['Low']\n",
        "    df = df.dropna()\n",
        "    return df\n",
        "\n",
        "# Process data for each ticker\n",
        "processed_data = {ticker: preprocess_data(data[ticker]) for ticker in tickers}\n",
        "\n",
        "# Example with DIA data\n",
        "dia_data = processed_data['DIA']\n",
        "X = dia_data[['Previous Close', 'Open-Close', 'High-Low']]\n",
        "y = dia_data['Open']\n",
        "\n",
        "# Train the model\n",
        "model = RandomForestRegressor()\n",
        "model.fit(X, y)\n",
        "\n",
        "# Prepare the latest data for prediction (yesterday's data)\n",
        "latest_data = dia_data.iloc[-1][['Previous Close', 'Open-Close', 'High-Low']].values.reshape(1, -1)\n",
        "\n",
        "# Predict today's opening price\n",
        "today_opening_price = model.predict(latest_data)[0]\n",
        "\n",
        "# Print the predicted opening price for today\n",
        "print(f\"Predicted opening price for today: {today_opening_price}\")\n"
      ],
      "metadata": {
        "colab": {
          "base_uri": "https://localhost:8080/"
        },
        "id": "e2At3ejIcR1R",
        "outputId": "c3bf8825-e0e9-44bd-ac1b-0dd0c5791bbd"
      },
      "execution_count": 14,
      "outputs": [
        {
          "output_type": "stream",
          "name": "stderr",
          "text": [
            "[*********************100%%**********************]  31 of 31 completed\n"
          ]
        },
        {
          "output_type": "stream",
          "name": "stdout",
          "text": [
            "Predicted opening price for today: 403.49950531005857\n"
          ]
        }
      ]
    },
    {
      "cell_type": "code",
      "source": [
        "import yfinance as yf\n",
        "import pandas as pd\n",
        "import numpy as np\n",
        "from sklearn.ensemble import RandomForestRegressor\n",
        "from datetime import datetime, timedelta\n",
        "\n",
        "# Define the tickers\n",
        "tickers = ['MSFT', 'V', 'HD', 'CAT', 'AAPL', 'BA', 'CRM', 'AXP', 'AMZN', 'GS',\n",
        "           'HON', 'NKE', 'JPM', 'MMM', 'INTC', 'DIS', 'TRV', 'DOW', 'MCD', 'IBM',\n",
        "           'WMT', 'CSCO', 'VZ', 'KO', 'CVX', 'PG', 'MRK', 'AMGN', 'JNJ', 'UNH', 'DIA']\n",
        "\n",
        "# Fetch historical data up to the most recent trading day\n",
        "data = yf.download(tickers, start=\"2020-01-01\", end=\"2024-07-25\", group_by='ticker')  # Adjust end date as needed\n",
        "\n",
        "# Preprocess and create features\n",
        "def preprocess_data(df):\n",
        "    df['Previous Close'] = df['Close'].shift(1)\n",
        "    df['Open-Close'] = df['Open'] - df['Previous Close']\n",
        "    df['High-Low'] = df['High'] - df['Low']\n",
        "    df = df.dropna()\n",
        "    return df\n",
        "\n",
        "# Process data for each ticker\n",
        "processed_data = {ticker: preprocess_data(data[ticker]) for ticker in tickers}\n",
        "\n",
        "# Example with DIA data\n",
        "dia_data = processed_data['DIA']\n",
        "X = dia_data[['Previous Close', 'Open-Close', 'High-Low']]\n",
        "y = dia_data['Open']\n",
        "\n",
        "# Train the model\n",
        "model = RandomForestRegressor()\n",
        "model.fit(X, y)\n",
        "\n",
        "# Get the last available data point for prediction\n",
        "latest_data = dia_data.iloc[-1][['Previous Close', 'Open-Close', 'High-Low']].values.reshape(1, -1)\n",
        "latest_date = dia_data.index[-1]\n",
        "\n",
        "# Initialize predictions list\n",
        "predictions = []\n",
        "\n",
        "# Predict the next 7 days\n",
        "for i in range(7):\n",
        "    # Predict the opening price for the next day\n",
        "    next_opening_price = model.predict(latest_data)[0]\n",
        "\n",
        "    # Calculate the new features for the next day prediction\n",
        "    previous_close = latest_data[0, 0]\n",
        "    open_close = next_opening_price - previous_close\n",
        "    high_low = dia_data['High-Low'].mean()  # Assume average high-low for next day\n",
        "\n",
        "    # Prepare the new data for the next prediction\n",
        "    latest_data = np.array([next_opening_price, open_close, high_low]).reshape(1, -1)\n",
        "\n",
        "    # Calculate the next date\n",
        "    next_date = latest_date + timedelta(days=1)\n",
        "    while next_date.weekday() > 4:  # Skip weekends\n",
        "        next_date += timedelta(days=1)\n",
        "\n",
        "    # Store the prediction\n",
        "    predictions.append((next_date, next_opening_price))\n",
        "\n",
        "    # Update the latest date for the next iteration\n",
        "    latest_date = next_date\n",
        "\n",
        "# Print the predictions for the next 7 days\n",
        "for date, price in predictions:\n",
        "    print(f\"Predicted opening price for {date.strftime('%Y-%m-%d')}: {price}\")\n"
      ],
      "metadata": {
        "colab": {
          "base_uri": "https://localhost:8080/"
        },
        "id": "pquPI2MTdCrg",
        "outputId": "64e0ac5c-90a1-4e4d-c1e8-cb728b1b7a3c"
      },
      "execution_count": 15,
      "outputs": [
        {
          "output_type": "stream",
          "name": "stderr",
          "text": [
            "[*********************100%%**********************]  31 of 31 completed\n"
          ]
        },
        {
          "output_type": "stream",
          "name": "stdout",
          "text": [
            "Predicted opening price for 2024-07-25: 402.77060668945313\n",
            "Predicted opening price for 2024-07-26: 403.6852044677734\n",
            "Predicted opening price for 2024-07-29: 403.51720550537107\n",
            "Predicted opening price for 2024-07-30: 403.6043063354492\n",
            "Predicted opening price for 2024-07-31: 403.59910675048826\n",
            "Predicted opening price for 2024-08-01: 403.6293069458008\n",
            "Predicted opening price for 2024-08-02: 403.6293069458008\n"
          ]
        }
      ]
    },
    {
      "cell_type": "code",
      "source": [
        "import yfinance as yf\n",
        "import pandas as pd\n",
        "import numpy as np\n",
        "from sklearn.ensemble import RandomForestRegressor\n",
        "from datetime import datetime, timedelta\n",
        "\n",
        "# Define the tickers\n",
        "tickers = ['MSFT', 'V', 'HD', 'CAT', 'AAPL', 'BA', 'CRM', 'AXP', 'AMZN', 'GS',\n",
        "           'HON', 'NKE', 'JPM', 'MMM', 'INTC', 'DIS', 'TRV', 'DOW', 'MCD', 'IBM',\n",
        "           'WMT', 'CSCO', 'VZ', 'KO', 'CVX', 'PG', 'MRK', 'AMGN', 'JNJ', 'UNH', 'DIA']\n",
        "\n",
        "# Fetch historical data up to the most recent trading day\n",
        "data = yf.download(tickers, start=\"2020-01-01\", end=\"2024-07-25\", group_by='ticker')  # Adjust end date as needed\n",
        "\n",
        "# Preprocess and create features\n",
        "def preprocess_data(df):\n",
        "    df['Previous Close'] = df['Close'].shift(1)\n",
        "    df['Open-Close'] = df['Open'] - df['Previous Close']\n",
        "    df['High-Low'] = df['High'] - df['Low']\n",
        "    df = df.dropna()\n",
        "    return df\n",
        "\n",
        "# Process data for each ticker\n",
        "processed_data = {ticker: preprocess_data(data[ticker]) for ticker in tickers}\n",
        "\n",
        "# Example with DIA data\n",
        "dia_data = processed_data['DIA']\n",
        "X = dia_data[['Previous Close', 'Open-Close', 'High-Low']]\n",
        "y = dia_data['Open']\n",
        "\n",
        "# Train the model\n",
        "model = RandomForestRegressor()\n",
        "model.fit(X, y)\n",
        "\n",
        "# Get the last available data point for prediction\n",
        "latest_data = dia_data.iloc[-1][['Previous Close', 'Open-Close', 'High-Low']].values.reshape(1, -1)\n",
        "latest_date = dia_data.index[-1]\n",
        "\n",
        "# Initialize predictions list\n",
        "predictions = []\n",
        "\n",
        "# Predict the next 7 days\n",
        "for i in range(7):\n",
        "    # Predict the opening price for the next day\n",
        "    next_opening_price = model.predict(latest_data)[0]\n",
        "\n",
        "    # Calculate the new features for the next day prediction\n",
        "    previous_close = latest_data[0, 0]\n",
        "    open_close = next_opening_price - previous_close\n",
        "    high_low = dia_data['High-Low'].mean()  # Assume average high-low for next day\n",
        "\n",
        "    # Prepare the new data for the next prediction\n",
        "    latest_data = np.array([next_opening_price, open_close, high_low]).reshape(1, -1)\n",
        "\n",
        "    # Calculate the next date\n",
        "    next_date = latest_date + timedelta(days=1)\n",
        "    while next_date.weekday() > 4:  # Skip weekends\n",
        "        next_date += timedelta(days=1)\n",
        "\n",
        "    # Store the prediction\n",
        "    predictions.append((next_date, next_opening_price))\n",
        "\n",
        "    # Update the latest date for the next iteration\n",
        "    latest_date = next_date\n",
        "\n",
        "# Print the predictions for the next 7 days\n",
        "for date, price in predictions:\n",
        "    print(f\"Predicted opening price for {date.strftime('%Y-%m-%d')}: {price}\")\n"
      ],
      "metadata": {
        "colab": {
          "base_uri": "https://localhost:8080/"
        },
        "id": "3grvX-SQfLjC",
        "outputId": "9a9af35e-b3e8-48f4-ef2a-d4b83b711d0c"
      },
      "execution_count": 19,
      "outputs": [
        {
          "output_type": "stream",
          "name": "stderr",
          "text": [
            "[*********************100%%**********************]  31 of 31 completed\n"
          ]
        },
        {
          "output_type": "stream",
          "name": "stdout",
          "text": [
            "Predicted opening price for 2024-07-25: 403.174206237793\n",
            "Predicted opening price for 2024-07-26: 404.05070526123046\n",
            "Predicted opening price for 2024-07-29: 403.99480590820315\n",
            "Predicted opening price for 2024-07-30: 404.19220642089846\n",
            "Predicted opening price for 2024-07-31: 404.0259063720703\n",
            "Predicted opening price for 2024-08-01: 404.31180572509766\n",
            "Predicted opening price for 2024-08-02: 404.0259063720703\n"
          ]
        }
      ]
    },
    {
      "cell_type": "code",
      "source": [
        "import yfinance as yf\n",
        "import pandas as pd\n",
        "import numpy as np\n",
        "from sklearn.ensemble import RandomForestRegressor\n",
        "from datetime import datetime, timedelta\n",
        "\n",
        "# Define the tickers\n",
        "tickers = ['MSFT', 'V', 'HD', 'CAT', 'AAPL', 'BA', 'CRM', 'AXP', 'AMZN', 'GS',\n",
        "           'HON', 'NKE', 'JPM', 'MMM', 'INTC', 'DIS', 'TRV', 'DOW', 'MCD', 'IBM',\n",
        "           'WMT', 'CSCO', 'VZ', 'KO', 'CVX', 'PG', 'MRK', 'AMGN', 'JNJ', 'UNH', 'DIA']\n",
        "\n",
        "# Fetch historical data up to the most recent trading day\n",
        "data = yf.download(tickers, start=\"2020-01-01\", end=\"2024-07-25\", group_by='ticker')  # Adjust end date as needed\n",
        "\n",
        "# Preprocess and create features\n",
        "def preprocess_data(df):\n",
        "    df['Previous Close'] = df['Close'].shift(1)\n",
        "    df['Open-Close'] = df['Open'] - df['Previous Close']\n",
        "    df['High-Low'] = df['High'] - df['Low']\n",
        "    df = df.dropna()\n",
        "    return df\n",
        "\n",
        "# Process data for each ticker\n",
        "processed_data = {ticker: preprocess_data(data[ticker]) for ticker in tickers}\n",
        "\n",
        "# Example with DIA data\n",
        "dia_data = processed_data['DIA']\n",
        "X = dia_data[['Previous Close', 'Open-Close', 'High-Low']]\n",
        "y = dia_data['Open']\n",
        "\n",
        "# Train the model\n",
        "model = LinearRegression()\n",
        "model.fit(X, y)\n",
        "\n",
        "# Get the last available data point for prediction\n",
        "latest_data = dia_data.iloc[-1][['Previous Close', 'Open-Close', 'High-Low']].values.reshape(1, -1)\n",
        "latest_date = dia_data.index[-1]\n",
        "\n",
        "# Initialize predictions list\n",
        "predictions = []\n",
        "\n",
        "# Predict the next 7 days\n",
        "for i in range(7):\n",
        "    # Predict the opening price for the next day\n",
        "    next_opening_price = model.predict(latest_data)[0]\n",
        "\n",
        "    # Calculate the new features for the next day prediction\n",
        "    previous_close = latest_data[0, 0]\n",
        "    open_close = next_opening_price - previous_close\n",
        "    high_low = dia_data['High-Low'].mean()  # Assume average high-low for next day\n",
        "\n",
        "    # Prepare the new data for the next prediction\n",
        "    latest_data = np.array([next_opening_price, open_close, high_low]).reshape(1, -1)\n",
        "\n",
        "    # Calculate the next date\n",
        "    next_date = latest_date + timedelta(days=1)\n",
        "    while next_date.weekday() > 4:  # Skip weekends\n",
        "        next_date += timedelta(days=1)\n",
        "\n",
        "    # Store the prediction\n",
        "    predictions.append((next_date, next_opening_price))\n",
        "\n",
        "    # Update the latest date for the next iteration\n",
        "    latest_date = next_date\n",
        "\n",
        "# Print the predictions for the next 7 days\n",
        "for date, price in predictions:\n",
        "    print(f\"Predicted opening price for {date.strftime('%Y-%m-%d')}: {price}\")\n"
      ],
      "metadata": {
        "colab": {
          "base_uri": "https://localhost:8080/"
        },
        "id": "96mfuZV2ggFj",
        "outputId": "96132ab1-f646-43f5-b90a-7ff1796a47d9"
      },
      "execution_count": 20,
      "outputs": [
        {
          "output_type": "stream",
          "name": "stderr",
          "text": [
            "[*********************100%%**********************]  31 of 31 completed\n"
          ]
        },
        {
          "output_type": "stream",
          "name": "stdout",
          "text": [
            "Predicted opening price for 2024-07-25: 401.7300109863281\n",
            "Predicted opening price for 2024-07-26: 399.97003173828125\n",
            "Predicted opening price for 2024-07-29: 398.2100524902344\n",
            "Predicted opening price for 2024-07-30: 396.4500732421875\n",
            "Predicted opening price for 2024-07-31: 394.6900939941406\n",
            "Predicted opening price for 2024-08-01: 392.93011474609375\n",
            "Predicted opening price for 2024-08-02: 391.1701354980469\n"
          ]
        }
      ]
    }
  ]
}