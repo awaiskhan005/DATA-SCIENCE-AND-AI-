# Importing necessary libraries and modules
import pandas as pd  # Data manipulation and analysis
import numpy as np   # Numerical computations

from sklearn.tree import DecisionTreeClassifier  # Decision tree classifier
import pandas as pd                               # Data manipulation and analysis
import numpy as np                                # Numerical computations
import seaborn as sns                             # Data visualization
from sklearn import *                              # Miscellaneous functions
from sklearn.model_selection import train_test_split  # Model evaluation and selection

# Loading the dataset from a CSV file
df = pd.read_csv("/content/sample_data/titanic_train.csv")

# Displaying the first 5 rows of the dataset
df.head(5)

# Displaying information about the dataset
df.info()

# Displaying summary statistics of the dataset
df.describe()

# Displaying the shape of the dataset (number of rows and columns)
df.shape

# Checking for missing values in the dataset
df.isnull().sum()

# Preprocessing the data
# 1. Handling missing values
# Filling missing Age values with the mean of Age
df['Age'].fillna(df['Age'].mean(), inplace=True)

# Filling missing Cabin values with 'Unknown'
df['Cabin'].fillna('Unknown', inplace=True)

# Filling missing Embarked values with the mode of Embarked
df['Embarked'].fillna(df['Embarked'].mode()[0], inplace=True)

# 2. Encoding categorical variables
# Encoding Sex as 0 for male and 1 for female
df['Sex'] = df['Sex'].map({'male': 
