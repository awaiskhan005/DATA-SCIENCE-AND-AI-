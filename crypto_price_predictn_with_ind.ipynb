{
  "nbformat": 4,
  "nbformat_minor": 0,
  "metadata": {
    "colab": {
      "provenance": [],
      "authorship_tag": "ABX9TyPnCKAAAlfjKLA65BUDbmin",
      "include_colab_link": true
    },
    "kernelspec": {
      "name": "python3",
      "display_name": "Python 3"
    },
    "language_info": {
      "name": "python"
    }
  },
  "cells": [
    {
      "cell_type": "markdown",
      "metadata": {
        "id": "view-in-github",
        "colab_type": "text"
      },
      "source": [
        "<a href=\"https://colab.research.google.com/github/awaiskhan005/DATA-SCIENCE-AND-AI-/blob/main/crypto_price_predictn_with_ind.ipynb\" target=\"_parent\"><img src=\"https://colab.research.google.com/assets/colab-badge.svg\" alt=\"Open In Colab\"/></a>"
      ]
    },
    {
      "cell_type": "code",
      "execution_count": 2,
      "metadata": {
        "colab": {
          "base_uri": "https://localhost:8080/"
        },
        "id": "qWqmpjowdqxN",
        "outputId": "bed6a484-6878-4da0-92b4-fc62532db7d7"
      },
      "outputs": [
        {
          "output_type": "stream",
          "name": "stdout",
          "text": [
            "Collecting ta\n",
            "  Downloading ta-0.11.0.tar.gz (25 kB)\n",
            "  Preparing metadata (setup.py) ... \u001b[?25l\u001b[?25hdone\n",
            "Requirement already satisfied: numpy in /usr/local/lib/python3.10/dist-packages (from ta) (1.26.4)\n",
            "Requirement already satisfied: pandas in /usr/local/lib/python3.10/dist-packages (from ta) (2.1.4)\n",
            "Requirement already satisfied: python-dateutil>=2.8.2 in /usr/local/lib/python3.10/dist-packages (from pandas->ta) (2.8.2)\n",
            "Requirement already satisfied: pytz>=2020.1 in /usr/local/lib/python3.10/dist-packages (from pandas->ta) (2024.1)\n",
            "Requirement already satisfied: tzdata>=2022.1 in /usr/local/lib/python3.10/dist-packages (from pandas->ta) (2024.1)\n",
            "Requirement already satisfied: six>=1.5 in /usr/local/lib/python3.10/dist-packages (from python-dateutil>=2.8.2->pandas->ta) (1.16.0)\n",
            "Building wheels for collected packages: ta\n",
            "  Building wheel for ta (setup.py) ... \u001b[?25l\u001b[?25hdone\n",
            "  Created wheel for ta: filename=ta-0.11.0-py3-none-any.whl size=29412 sha256=6ae0f8bc0bbc56bdfd5ee489dd1ef2446d91ec34db12cc41ce06d367bcec8ae5\n",
            "  Stored in directory: /root/.cache/pip/wheels/5f/67/4f/8a9f252836e053e532c6587a3230bc72a4deb16b03a829610b\n",
            "Successfully built ta\n",
            "Installing collected packages: ta\n",
            "Successfully installed ta-0.11.0\n"
          ]
        }
      ],
      "source": [
        "\n",
        "pip install ta"
      ]
    },
    {
      "cell_type": "code",
      "source": [
        "import pandas as pd\n",
        "import yfinance as yf\n",
        "from ta.momentum import StochasticOscillator, RSIIndicator\n",
        "from ta.volatility import BollingerBands\n",
        "from ta.trend import EMAIndicator\n",
        "from sklearn.preprocessing import MinMaxScaler\n",
        "import numpy as np\n",
        "import matplotlib.pyplot as plt\n",
        "from tensorflow.keras.models import Sequential\n",
        "from tensorflow.keras.layers import LSTM, Dense, Dropout\n",
        "from tensorflow.keras.callbacks import EarlyStopping\n"
      ],
      "metadata": {
        "id": "ayJJaFa0eDuB"
      },
      "execution_count": 15,
      "outputs": []
    },
    {
      "cell_type": "code",
      "source": [
        "import pandas as pd\n",
        "import yfinance as yf\n",
        "from ta.momentum import StochasticOscillator, RSIIndicator\n",
        "from ta.volatility import BollingerBands\n",
        "from ta.trend import EMAIndicator\n",
        "from sklearn.preprocessing import MinMaxScaler\n",
        "import numpy as np\n",
        "import matplotlib.pyplot as plt\n",
        "from tensorflow.keras.models import Sequential\n",
        "from tensorflow.keras.layers import LSTM, Dense, Dropout\n",
        "from tensorflow.keras.callbacks import EarlyStopping\n",
        "\n",
        "def fetch_and_preprocess_data(tickers, start, end):\n",
        "    # Fetch historical data\n",
        "    data = yf.download(tickers, start=start, end=end)\n",
        "\n",
        "    # Prepare an empty DataFrame to store results\n",
        "    result = pd.DataFrame()\n",
        "\n",
        "    for ticker in tickers:\n",
        "        # Extract high, low, and close prices\n",
        "        high = data['High'][ticker]\n",
        "        low = data['Low'][ticker]\n",
        "        close = data['Close'][ticker]\n",
        "\n",
        "        # Compute Stochastic RSI\n",
        "        stoch_rsi = StochasticOscillator(high=high, low=low, close=close, window=14, smooth_window=3, fillna=True)\n",
        "        result[f'{ticker}_stoch_rsi'] = stoch_rsi.stoch()\n",
        "\n",
        "        # Compute RSI\n",
        "        rsi = RSIIndicator(close=close, window=14, fillna=True)\n",
        "        result[f'{ticker}_rsi'] = rsi.rsi()\n",
        "\n",
        "        # Compute Bollinger Bands\n",
        "        bb = BollingerBands(close=close, window=20, window_dev=2, fillna=True)\n",
        "        result[f'{ticker}_bb_high'] = bb.bollinger_hband()\n",
        "        result[f'{ticker}_bb_low'] = bb.bollinger_lband()\n",
        "        result[f'{ticker}_bb_mid'] = bb.bollinger_mavg()\n",
        "\n",
        "        # Compute EMA Cross\n",
        "        ema_short = EMAIndicator(close=close, window=12, fillna=True).ema_indicator()\n",
        "        ema_long = EMAIndicator(close=close, window=26, fillna=True).ema_indicator()\n",
        "        result[f'{ticker}_ema_cross'] = ema_short - ema_long\n",
        "\n",
        "    return result\n",
        "\n",
        "tickers = [\"BTC-USD\", \"ETH-USD\", \"LTC-USD\"]\n",
        "start_date = \"2020-01-01\"\n",
        "end_date = \"2024-07-30\"\n",
        "data = fetch_and_preprocess_data(tickers, start=start_date, end=end_date)\n"
      ],
      "metadata": {
        "colab": {
          "base_uri": "https://localhost:8080/"
        },
        "id": "6IgWrX29h9Zx",
        "outputId": "bc1d806d-3b00-49d1-d01a-f55e90f5dbef"
      },
      "execution_count": 16,
      "outputs": [
        {
          "output_type": "stream",
          "name": "stderr",
          "text": [
            "[*********************100%%**********************]  3 of 3 completed\n"
          ]
        }
      ]
    },
    {
      "cell_type": "code",
      "source": [
        "def create_dataset(data, time_step=60):\n",
        "    X, y = [], []\n",
        "    for i in range(len(data) - time_step - 1):\n",
        "        x_data = data.iloc[i:(i + time_step), :].values\n",
        "        X.append(x_data)\n",
        "        y.append(data.iloc[i + time_step, 0])  # Predicting the next closing price of the first ticker\n",
        "    return np.array(X), np.array(y)\n",
        "\n",
        "# Normalize the data\n",
        "scaler = MinMaxScaler(feature_range=(0, 1))\n",
        "data_scaled = scaler.fit_transform(data)\n",
        "\n",
        "# Create the dataset\n",
        "time_step = 60\n",
        "X, y = create_dataset(pd.DataFrame(data_scaled), time_step)\n",
        "\n",
        "# Reshape input to be [samples, time steps, features]\n",
        "X = X.reshape(X.shape[0], X.shape[1], X.shape[2])\n"
      ],
      "metadata": {
        "id": "-Y8InkYOiJSk"
      },
      "execution_count": 17,
      "outputs": []
    },
    {
      "cell_type": "code",
      "source": [
        "model = Sequential()\n",
        "model.add(LSTM(50, return_sequences=True, input_shape=(time_step, X.shape[2])))\n",
        "model.add(LSTM(50, return_sequences=False))\n",
        "model.add(Dense(25))\n",
        "model.add(Dense(1))\n",
        "\n",
        "model.compile(optimizer='adam', loss='mean_squared_error')\n",
        "early_stop = EarlyStopping(monitor='loss', patience=10, verbose=1)\n",
        "model.fit(X, y, batch_size=64, epochs=100, verbose=1, callbacks=[early_stop])\n"
      ],
      "metadata": {
        "colab": {
          "base_uri": "https://localhost:8080/"
        },
        "id": "d-QB6ZjfiMVU",
        "outputId": "3a8e51c0-4baa-468e-f9f3-e5bab980b6f5"
      },
      "execution_count": 19,
      "outputs": [
        {
          "output_type": "stream",
          "name": "stdout",
          "text": [
            "Epoch 1/100\n",
            "26/26 [==============================] - 6s 69ms/step - loss: 0.0828\n",
            "Epoch 2/100\n",
            "26/26 [==============================] - 2s 70ms/step - loss: 0.0567\n",
            "Epoch 3/100\n",
            "26/26 [==============================] - 2s 70ms/step - loss: 0.0462\n",
            "Epoch 4/100\n",
            "26/26 [==============================] - 2s 95ms/step - loss: 0.0405\n",
            "Epoch 5/100\n",
            "26/26 [==============================] - 3s 99ms/step - loss: 0.0366\n",
            "Epoch 6/100\n",
            "26/26 [==============================] - 2s 70ms/step - loss: 0.0328\n",
            "Epoch 7/100\n",
            "26/26 [==============================] - 2s 69ms/step - loss: 0.0338\n",
            "Epoch 8/100\n",
            "26/26 [==============================] - 2s 68ms/step - loss: 0.0319\n",
            "Epoch 9/100\n",
            "26/26 [==============================] - 2s 70ms/step - loss: 0.0277\n",
            "Epoch 10/100\n",
            "26/26 [==============================] - 2s 70ms/step - loss: 0.0266\n",
            "Epoch 11/100\n",
            "26/26 [==============================] - 3s 107ms/step - loss: 0.0272\n",
            "Epoch 12/100\n",
            "26/26 [==============================] - 2s 84ms/step - loss: 0.0259\n",
            "Epoch 13/100\n",
            "26/26 [==============================] - 2s 68ms/step - loss: 0.0254\n",
            "Epoch 14/100\n",
            "26/26 [==============================] - 2s 69ms/step - loss: 0.0256\n",
            "Epoch 15/100\n",
            "26/26 [==============================] - 2s 68ms/step - loss: 0.0258\n",
            "Epoch 16/100\n",
            "26/26 [==============================] - 2s 69ms/step - loss: 0.0274\n",
            "Epoch 17/100\n",
            "26/26 [==============================] - 2s 72ms/step - loss: 0.0254\n",
            "Epoch 18/100\n",
            "26/26 [==============================] - 3s 114ms/step - loss: 0.0250\n",
            "Epoch 19/100\n",
            "26/26 [==============================] - 2s 74ms/step - loss: 0.0255\n",
            "Epoch 20/100\n",
            "26/26 [==============================] - 2s 69ms/step - loss: 0.0275\n",
            "Epoch 21/100\n",
            "26/26 [==============================] - 2s 71ms/step - loss: 0.0257\n",
            "Epoch 22/100\n",
            "26/26 [==============================] - 2s 69ms/step - loss: 0.0248\n",
            "Epoch 23/100\n",
            "26/26 [==============================] - 2s 68ms/step - loss: 0.0243\n",
            "Epoch 24/100\n",
            "26/26 [==============================] - 2s 86ms/step - loss: 0.0259\n",
            "Epoch 25/100\n",
            "26/26 [==============================] - 3s 108ms/step - loss: 0.0253\n",
            "Epoch 26/100\n",
            "26/26 [==============================] - 2s 75ms/step - loss: 0.0250\n",
            "Epoch 27/100\n",
            "26/26 [==============================] - 2s 72ms/step - loss: 0.0246\n",
            "Epoch 28/100\n",
            "26/26 [==============================] - 2s 71ms/step - loss: 0.0246\n",
            "Epoch 29/100\n",
            "26/26 [==============================] - 2s 70ms/step - loss: 0.0242\n",
            "Epoch 30/100\n",
            "26/26 [==============================] - 2s 70ms/step - loss: 0.0247\n",
            "Epoch 31/100\n",
            "26/26 [==============================] - 3s 111ms/step - loss: 0.0242\n",
            "Epoch 32/100\n",
            "26/26 [==============================] - 2s 85ms/step - loss: 0.0255\n",
            "Epoch 33/100\n",
            "26/26 [==============================] - 2s 72ms/step - loss: 0.0245\n",
            "Epoch 34/100\n",
            "26/26 [==============================] - 2s 73ms/step - loss: 0.0241\n",
            "Epoch 35/100\n",
            "26/26 [==============================] - 2s 72ms/step - loss: 0.0243\n",
            "Epoch 36/100\n",
            "26/26 [==============================] - 2s 72ms/step - loss: 0.0244\n",
            "Epoch 37/100\n",
            "26/26 [==============================] - 2s 85ms/step - loss: 0.0245\n",
            "Epoch 38/100\n",
            "26/26 [==============================] - 3s 112ms/step - loss: 0.0247\n",
            "Epoch 39/100\n",
            "26/26 [==============================] - 2s 71ms/step - loss: 0.0245\n",
            "Epoch 40/100\n",
            "26/26 [==============================] - 2s 70ms/step - loss: 0.0239\n",
            "Epoch 41/100\n",
            "26/26 [==============================] - 2s 70ms/step - loss: 0.0244\n",
            "Epoch 42/100\n",
            "26/26 [==============================] - 2s 69ms/step - loss: 0.0236\n",
            "Epoch 43/100\n",
            "26/26 [==============================] - 2s 72ms/step - loss: 0.0237\n",
            "Epoch 44/100\n",
            "26/26 [==============================] - 3s 103ms/step - loss: 0.0249\n",
            "Epoch 45/100\n",
            "26/26 [==============================] - 3s 98ms/step - loss: 0.0238\n",
            "Epoch 46/100\n",
            "26/26 [==============================] - 2s 70ms/step - loss: 0.0240\n",
            "Epoch 47/100\n",
            "26/26 [==============================] - 2s 71ms/step - loss: 0.0238\n",
            "Epoch 48/100\n",
            "26/26 [==============================] - 2s 69ms/step - loss: 0.0239\n",
            "Epoch 49/100\n",
            "26/26 [==============================] - 2s 70ms/step - loss: 0.0237\n",
            "Epoch 50/100\n",
            "26/26 [==============================] - 2s 70ms/step - loss: 0.0242\n",
            "Epoch 51/100\n",
            "26/26 [==============================] - 3s 112ms/step - loss: 0.0239\n",
            "Epoch 52/100\n",
            "26/26 [==============================] - 2s 79ms/step - loss: 0.0248\n",
            "Epoch 52: early stopping\n"
          ]
        },
        {
          "output_type": "execute_result",
          "data": {
            "text/plain": [
              "<keras.src.callbacks.History at 0x7c9212656c20>"
            ]
          },
          "metadata": {},
          "execution_count": 19
        }
      ]
    },
    {
      "cell_type": "code",
      "source": [
        "import time\n",
        "\n",
        "def make_trading_decision(model, scaler, tickers):\n",
        "    while True:\n",
        "        # Fetch the latest data\n",
        "        new_data = fetch_and_preprocess_data(tickers, start=start_date, end=end_date).iloc[-time_step:]\n",
        "        new_data_scaled = scaler.transform(new_data)\n",
        "\n",
        "        # Prepare the input data\n",
        "        x = new_data_scaled.reshape(1, time_step, new_data_scaled.shape[1])\n",
        "\n",
        "        # Make prediction\n",
        "        predicted_price = model.predict(x)\n",
        "        predicted_price = scaler.inverse_transform(np.hstack([predicted_price, np.zeros((predicted_price.shape[0], new_data_scaled.shape[1]-1))]))[:, 0]\n",
        "\n",
        "        # Implement your trading logic here\n",
        "        print(f\"Predicted price for {tickers[0]}: {predicted_price[0]}\")\n",
        "\n",
        "        # Sleep for a minute before the next prediction\n",
        "        time.sleep(60)\n",
        "\n",
        "# Start the trading bot\n",
        "make_trading_decision(model, scaler, tickers)\n"
      ],
      "metadata": {
        "colab": {
          "base_uri": "https://localhost:8080/",
          "height": 1000
        },
        "id": "XTR-9n32igvf",
        "outputId": "30c70b14-99dc-4737-fdb8-3d0f76013702"
      },
      "execution_count": 20,
      "outputs": [
        {
          "output_type": "stream",
          "name": "stderr",
          "text": [
            "[*********************100%%**********************]  3 of 3 completed\n"
          ]
        },
        {
          "output_type": "stream",
          "name": "stdout",
          "text": [
            "1/1 [==============================] - 1s 855ms/step\n",
            "Predicted price for BTC-USD: 61.569589376449585\n"
          ]
        },
        {
          "output_type": "stream",
          "name": "stderr",
          "text": [
            "[*********************100%%**********************]  3 of 3 completed\n"
          ]
        },
        {
          "output_type": "stream",
          "name": "stdout",
          "text": [
            "1/1 [==============================] - 0s 43ms/step\n",
            "Predicted price for BTC-USD: 61.62627935409546\n"
          ]
        },
        {
          "output_type": "stream",
          "name": "stderr",
          "text": [
            "[*********************100%%**********************]  3 of 3 completed\n"
          ]
        },
        {
          "output_type": "stream",
          "name": "stdout",
          "text": [
            "1/1 [==============================] - 0s 35ms/step\n",
            "Predicted price for BTC-USD: 61.4960253238678\n"
          ]
        },
        {
          "output_type": "stream",
          "name": "stderr",
          "text": [
            "[*********************100%%**********************]  3 of 3 completed"
          ]
        },
        {
          "output_type": "stream",
          "name": "stdout",
          "text": [
            "1/1 [==============================] - 0s 38ms/step\n"
          ]
        },
        {
          "output_type": "stream",
          "name": "stderr",
          "text": [
            "\n"
          ]
        },
        {
          "output_type": "stream",
          "name": "stdout",
          "text": [
            "Predicted price for BTC-USD: 61.152446269989014\n"
          ]
        },
        {
          "output_type": "stream",
          "name": "stderr",
          "text": [
            "[*********************100%%**********************]  3 of 3 completed\n"
          ]
        },
        {
          "output_type": "stream",
          "name": "stdout",
          "text": [
            "1/1 [==============================] - 0s 32ms/step\n",
            "Predicted price for BTC-USD: 61.160117387771606\n"
          ]
        },
        {
          "output_type": "stream",
          "name": "stderr",
          "text": [
            "[*********************100%%**********************]  3 of 3 completed"
          ]
        },
        {
          "output_type": "stream",
          "name": "stdout",
          "text": [
            "1/1 [==============================] - 0s 34ms/step\n"
          ]
        },
        {
          "output_type": "stream",
          "name": "stderr",
          "text": [
            "\n"
          ]
        },
        {
          "output_type": "stream",
          "name": "stdout",
          "text": [
            "Predicted price for BTC-USD: 60.960692167282104\n"
          ]
        },
        {
          "output_type": "stream",
          "name": "stderr",
          "text": [
            "[*********************100%%**********************]  3 of 3 completed\n"
          ]
        },
        {
          "output_type": "stream",
          "name": "stdout",
          "text": [
            "1/1 [==============================] - 0s 30ms/step\n",
            "Predicted price for BTC-USD: 60.615354776382446\n"
          ]
        },
        {
          "output_type": "stream",
          "name": "stderr",
          "text": [
            "[*********************100%%**********************]  3 of 3 completed"
          ]
        },
        {
          "output_type": "stream",
          "name": "stdout",
          "text": [
            "1/1 [==============================] - 0s 28ms/step\n"
          ]
        },
        {
          "output_type": "stream",
          "name": "stderr",
          "text": [
            "\n"
          ]
        },
        {
          "output_type": "stream",
          "name": "stdout",
          "text": [
            "Predicted price for BTC-USD: 60.456812381744385\n"
          ]
        },
        {
          "output_type": "stream",
          "name": "stderr",
          "text": [
            "[*********************100%%**********************]  3 of 3 completed\n"
          ]
        },
        {
          "output_type": "stream",
          "name": "stdout",
          "text": [
            "1/1 [==============================] - 0s 54ms/step\n",
            "Predicted price for BTC-USD: 60.252273082733154\n"
          ]
        },
        {
          "output_type": "stream",
          "name": "stderr",
          "text": [
            "[*********************100%%**********************]  3 of 3 completed"
          ]
        },
        {
          "output_type": "stream",
          "name": "stdout",
          "text": [
            "1/1 [==============================] - 0s 28ms/step\n"
          ]
        },
        {
          "output_type": "stream",
          "name": "stderr",
          "text": [
            "\n"
          ]
        },
        {
          "output_type": "stream",
          "name": "stdout",
          "text": [
            "Predicted price for BTC-USD: 60.07026433944702\n"
          ]
        },
        {
          "output_type": "stream",
          "name": "stderr",
          "text": [
            "[*********************100%%**********************]  3 of 3 completed\n"
          ]
        },
        {
          "output_type": "stream",
          "name": "stdout",
          "text": [
            "1/1 [==============================] - 0s 31ms/step\n",
            "Predicted price for BTC-USD: 60.04350185394287\n"
          ]
        },
        {
          "output_type": "stream",
          "name": "stderr",
          "text": [
            "[*********************100%%**********************]  3 of 3 completed\n"
          ]
        },
        {
          "output_type": "stream",
          "name": "stdout",
          "text": [
            "1/1 [==============================] - 0s 38ms/step\n",
            "Predicted price for BTC-USD: 59.9798321723938\n"
          ]
        },
        {
          "output_type": "stream",
          "name": "stderr",
          "text": [
            "[*********************100%%**********************]  3 of 3 completed\n"
          ]
        },
        {
          "output_type": "stream",
          "name": "stdout",
          "text": [
            "1/1 [==============================] - 0s 30ms/step\n",
            "Predicted price for BTC-USD: 60.00773310661316\n"
          ]
        },
        {
          "output_type": "stream",
          "name": "stderr",
          "text": [
            "[*********************100%%**********************]  3 of 3 completed\n"
          ]
        },
        {
          "output_type": "stream",
          "name": "stdout",
          "text": [
            "1/1 [==============================] - 0s 28ms/step\n",
            "Predicted price for BTC-USD: 60.0042998790741\n"
          ]
        },
        {
          "output_type": "stream",
          "name": "stderr",
          "text": [
            "[*********************100%%**********************]  3 of 3 completed\n"
          ]
        },
        {
          "output_type": "stream",
          "name": "stdout",
          "text": [
            "1/1 [==============================] - 0s 27ms/step\n",
            "Predicted price for BTC-USD: 60.09817123413086\n"
          ]
        },
        {
          "output_type": "stream",
          "name": "stderr",
          "text": [
            "[*********************100%%**********************]  3 of 3 completed\n"
          ]
        },
        {
          "output_type": "stream",
          "name": "stdout",
          "text": [
            "1/1 [==============================] - 0s 33ms/step\n",
            "Predicted price for BTC-USD: 60.07172465324402\n"
          ]
        },
        {
          "output_type": "stream",
          "name": "stderr",
          "text": [
            "[*********************100%%**********************]  3 of 3 completed\n"
          ]
        },
        {
          "output_type": "stream",
          "name": "stdout",
          "text": [
            "1/1 [==============================] - 0s 50ms/step\n",
            "Predicted price for BTC-USD: 60.0847065448761\n"
          ]
        },
        {
          "output_type": "error",
          "ename": "KeyboardInterrupt",
          "evalue": "",
          "traceback": [
            "\u001b[0;31m---------------------------------------------------------------------------\u001b[0m",
            "\u001b[0;31mKeyboardInterrupt\u001b[0m                         Traceback (most recent call last)",
            "\u001b[0;32m<ipython-input-20-83126ff415b7>\u001b[0m in \u001b[0;36m<cell line: 23>\u001b[0;34m()\u001b[0m\n\u001b[1;32m     21\u001b[0m \u001b[0;34m\u001b[0m\u001b[0m\n\u001b[1;32m     22\u001b[0m \u001b[0;31m# Start the trading bot\u001b[0m\u001b[0;34m\u001b[0m\u001b[0;34m\u001b[0m\u001b[0m\n\u001b[0;32m---> 23\u001b[0;31m \u001b[0mmake_trading_decision\u001b[0m\u001b[0;34m(\u001b[0m\u001b[0mmodel\u001b[0m\u001b[0;34m,\u001b[0m \u001b[0mscaler\u001b[0m\u001b[0;34m,\u001b[0m \u001b[0mtickers\u001b[0m\u001b[0;34m)\u001b[0m\u001b[0;34m\u001b[0m\u001b[0;34m\u001b[0m\u001b[0m\n\u001b[0m",
            "\u001b[0;32m<ipython-input-20-83126ff415b7>\u001b[0m in \u001b[0;36mmake_trading_decision\u001b[0;34m(model, scaler, tickers)\u001b[0m\n\u001b[1;32m     18\u001b[0m \u001b[0;34m\u001b[0m\u001b[0m\n\u001b[1;32m     19\u001b[0m         \u001b[0;31m# Sleep for a minute before the next prediction\u001b[0m\u001b[0;34m\u001b[0m\u001b[0;34m\u001b[0m\u001b[0m\n\u001b[0;32m---> 20\u001b[0;31m         \u001b[0mtime\u001b[0m\u001b[0;34m.\u001b[0m\u001b[0msleep\u001b[0m\u001b[0;34m(\u001b[0m\u001b[0;36m60\u001b[0m\u001b[0;34m)\u001b[0m\u001b[0;34m\u001b[0m\u001b[0;34m\u001b[0m\u001b[0m\n\u001b[0m\u001b[1;32m     21\u001b[0m \u001b[0;34m\u001b[0m\u001b[0m\n\u001b[1;32m     22\u001b[0m \u001b[0;31m# Start the trading bot\u001b[0m\u001b[0;34m\u001b[0m\u001b[0;34m\u001b[0m\u001b[0m\n",
            "\u001b[0;31mKeyboardInterrupt\u001b[0m: "
          ]
        }
      ]
    }
  ]
}