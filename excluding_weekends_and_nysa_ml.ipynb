{
  "nbformat": 4,
  "nbformat_minor": 0,
  "metadata": {
    "colab": {
      "provenance": [],
      "authorship_tag": "ABX9TyNw/LJzT/372/rRJSXh1PFT",
      "include_colab_link": true
    },
    "kernelspec": {
      "name": "python3",
      "display_name": "Python 3"
    },
    "language_info": {
      "name": "python"
    }
  },
  "cells": [
    {
      "cell_type": "markdown",
      "metadata": {
        "id": "view-in-github",
        "colab_type": "text"
      },
      "source": [
        "<a href=\"https://colab.research.google.com/github/awaiskhan005/DATA-SCIENCE-AND-AI-/blob/main/excluding_weekends_and_nysa_ml.ipynb\" target=\"_parent\"><img src=\"https://colab.research.google.com/assets/colab-badge.svg\" alt=\"Open In Colab\"/></a>"
      ]
    },
    {
      "cell_type": "code",
      "source": [
        "!pip install pandas_market_calendars\n",
        "import pandas as pd\n",
        "import numpy as np\n",
        "import pandas_market_calendars as mcal # Now this import should work\n",
        "from sklearn.model_selection import train_test_split\n",
        "from sklearn.preprocessing import StandardScaler\n",
        "from datetime import datetime, timedelta\n",
        "\n",
        "# ... (rest of your code)"
      ],
      "metadata": {
        "id": "8dK1nWuxD4SV",
        "outputId": "7e2e9114-bc73-414f-b40e-6709e81a6d78",
        "colab": {
          "base_uri": "https://localhost:8080/"
        }
      },
      "execution_count": 3,
      "outputs": [
        {
          "output_type": "stream",
          "name": "stdout",
          "text": [
            "Collecting pandas_market_calendars\n",
            "  Downloading pandas_market_calendars-4.4.1-py3-none-any.whl (107 kB)\n",
            "\u001b[2K     \u001b[90m━━━━━━━━━━━━━━━━━━━━━━━━━━━━━━━━━━━━━━━━\u001b[0m \u001b[32m107.3/107.3 kB\u001b[0m \u001b[31m2.3 MB/s\u001b[0m eta \u001b[36m0:00:00\u001b[0m\n",
            "\u001b[?25hRequirement already satisfied: pandas>=1.1 in /usr/local/lib/python3.10/dist-packages (from pandas_market_calendars) (2.0.3)\n",
            "Requirement already satisfied: pytz in /usr/local/lib/python3.10/dist-packages (from pandas_market_calendars) (2023.4)\n",
            "Requirement already satisfied: python-dateutil in /usr/local/lib/python3.10/dist-packages (from pandas_market_calendars) (2.8.2)\n",
            "Collecting exchange-calendars>=3.3 (from pandas_market_calendars)\n",
            "  Downloading exchange_calendars-4.5.5-py3-none-any.whl (196 kB)\n",
            "\u001b[2K     \u001b[90m━━━━━━━━━━━━━━━━━━━━━━━━━━━━━━━━━━━━━━━━\u001b[0m \u001b[32m196.1/196.1 kB\u001b[0m \u001b[31m9.5 MB/s\u001b[0m eta \u001b[36m0:00:00\u001b[0m\n",
            "\u001b[?25hRequirement already satisfied: numpy in /usr/local/lib/python3.10/dist-packages (from exchange-calendars>=3.3->pandas_market_calendars) (1.25.2)\n",
            "Collecting pyluach (from exchange-calendars>=3.3->pandas_market_calendars)\n",
            "  Downloading pyluach-2.2.0-py3-none-any.whl (25 kB)\n",
            "Requirement already satisfied: toolz in /usr/local/lib/python3.10/dist-packages (from exchange-calendars>=3.3->pandas_market_calendars) (0.12.1)\n",
            "Requirement already satisfied: tzdata in /usr/local/lib/python3.10/dist-packages (from exchange-calendars>=3.3->pandas_market_calendars) (2024.1)\n",
            "Collecting korean-lunar-calendar (from exchange-calendars>=3.3->pandas_market_calendars)\n",
            "  Downloading korean_lunar_calendar-0.3.1-py3-none-any.whl (9.0 kB)\n",
            "Requirement already satisfied: six>=1.5 in /usr/local/lib/python3.10/dist-packages (from python-dateutil->pandas_market_calendars) (1.16.0)\n",
            "Installing collected packages: korean-lunar-calendar, pyluach, exchange-calendars, pandas_market_calendars\n",
            "Successfully installed exchange-calendars-4.5.5 korean-lunar-calendar-0.3.1 pandas_market_calendars-4.4.1 pyluach-2.2.0\n"
          ]
        }
      ]
    },
    {
      "cell_type": "code",
      "execution_count": 5,
      "metadata": {
        "id": "NkYndV7bDOBw"
      },
      "outputs": [],
      "source": [
        "import pandas as pd\n",
        "import numpy as np\n",
        "import pandas_market_calendars as mcal\n",
        "from sklearn.model_selection import train_test_split\n",
        "from sklearn.preprocessing import StandardScaler\n",
        "from datetime import datetime, timedelta\n",
        "\n",
        "# Load the dataset\n",
        "file_path = \"/content/sample_data/SMCI.csv\"\n",
        "data = pd.read_csv(file_path)\n",
        "\n",
        "# Convert 'Date' column to datetime\n",
        "data['Date'] = pd.to_datetime(data['Date'])\n",
        "\n",
        "# Sort the data by date\n",
        "data.sort_values('Date', inplace=True)\n",
        "\n",
        "# Set 'Date' as the index\n",
        "data.set_index('Date', inplace=True)\n",
        "\n",
        "# Feature Engineering: Including previous days' close prices as features\n",
        "for lag in range(1, 8):\n",
        "    data[f'Close_lag_{lag}'] = data['Close'].shift(lag)\n",
        "\n",
        "# Drop rows with NaN values created by the lag features\n",
        "data.dropna(inplace=True)\n",
        "\n",
        "# Define the feature set and target\n",
        "X = data.drop(columns=['Close'])\n",
        "y = data['Close']\n",
        "\n",
        "# Standardize the feature set\n",
        "scaler = StandardScaler()\n",
        "X_scaled = scaler.fit_transform(X)\n",
        "\n",
        "# Split the data into training and validation sets\n",
        "X_train, X_val, y_train, y_val = train_test_split(X_scaled, y, test_size=0.2, random_state=42)\n"
      ]
    },
    {
      "cell_type": "code",
      "source": [
        "from sklearn.linear_model import LinearRegression\n",
        "from sklearn.ensemble import RandomForestRegressor\n",
        "from sklearn.svm import SVR\n",
        "from sklearn.model_selection import cross_val_score\n",
        "\n",
        "# Linear Regression\n",
        "lr = LinearRegression()\n",
        "lr.fit(X_train, y_train)\n",
        "lr_cv_score = cross_val_score(lr, X_train, y_train, cv=5, scoring='neg_mean_squared_error')\n",
        "\n",
        "# Random Forest\n",
        "rf = RandomForestRegressor(n_estimators=100, random_state=42)\n",
        "rf.fit(X_train, y_train)\n",
        "rf_cv_score = cross_val_score(rf, X_train, y_train, cv=5, scoring='neg_mean_squared_error')\n",
        "\n",
        "# Support Vector Machine\n",
        "svm = SVR(kernel='rbf')\n",
        "svm.fit(X_train, y_train)\n",
        "svm_cv_score = cross_val_score(svm, X_train, y_train, cv=5, scoring='neg_mean_squared_error')\n"
      ],
      "metadata": {
        "id": "e2ps7iY1EbAa"
      },
      "execution_count": 6,
      "outputs": []
    },
    {
      "cell_type": "code",
      "source": [
        "# Get NYSE calendar\n",
        "nyse = mcal.get_calendar('NYSE')\n",
        "\n",
        "# Define the date range for trading days\n",
        "start_date = '2024-01-01'\n",
        "end_date = '2024-12-31'\n",
        "trading_days = nyse.valid_days(start_date=start_date, end_date=end_date)\n",
        "\n",
        "# Convert trading days to a list of strings for easier handling\n",
        "trading_days = trading_days.strftime('%Y-%m-%d').tolist()\n"
      ],
      "metadata": {
        "id": "H8aHk3P4Egh5"
      },
      "execution_count": 7,
      "outputs": []
    },
    {
      "cell_type": "code",
      "source": [
        "# Prepare the last data point for prediction (using the latest available data)\n",
        "last_data_point = data.loc[data.index[-1]]\n",
        "last_data_point_scaled = scaler.transform([last_data_point.drop('Close').values])\n",
        "\n",
        "# Function to predict future values considering only trading days\n",
        "def predict_trading_days(model, current_data, trading_days, start_date):\n",
        "    predictions = []\n",
        "    current_date = start_date\n",
        "    trading_days_set = set(trading_days)\n",
        "\n",
        "    while len(predictions) < 7:\n",
        "        next_pred = model.predict(current_data)\n",
        "        if current_date.strftime('%Y-%m-%d') in trading_days_set:\n",
        "            predictions.append((current_date.strftime('%Y-%m-%d'), next_pred[0]))\n",
        "\n",
        "        # Prepare the next data point (shift data and include new prediction)\n",
        "        current_data = np.roll(current_data, -1)\n",
        "        current_data[0, -1] = next_pred\n",
        "        current_date += timedelta(days=1)\n",
        "\n",
        "    return predictions\n",
        "\n",
        "# Predict the next 7 trading days\n",
        "start_date = datetime(2024, 7, 5)\n",
        "predictions_lr = predict_trading_days(lr, last_data_point_scaled, trading_days, start_date)\n",
        "predictions_rf = predict_trading_days(rf, last_data_point_scaled, trading_days, start_date)\n",
        "predictions_svm = predict_trading_days(svm, last_data_point_scaled, trading_days, start_date)\n"
      ],
      "metadata": {
        "id": "i0pI86jQEku0",
        "outputId": "079d6f96-0d50-436a-d150-4e1551f84982",
        "colab": {
          "base_uri": "https://localhost:8080/"
        }
      },
      "execution_count": 8,
      "outputs": [
        {
          "output_type": "stream",
          "name": "stderr",
          "text": [
            "/usr/local/lib/python3.10/dist-packages/sklearn/base.py:439: UserWarning: X does not have valid feature names, but StandardScaler was fitted with feature names\n",
            "  warnings.warn(\n",
            "<ipython-input-8-e19b43c90613>:18: DeprecationWarning: Conversion of an array with ndim > 0 to a scalar is deprecated, and will error in future. Ensure you extract a single element from your array before performing this operation. (Deprecated NumPy 1.25.)\n",
            "  current_data[0, -1] = next_pred\n",
            "<ipython-input-8-e19b43c90613>:18: DeprecationWarning: Conversion of an array with ndim > 0 to a scalar is deprecated, and will error in future. Ensure you extract a single element from your array before performing this operation. (Deprecated NumPy 1.25.)\n",
            "  current_data[0, -1] = next_pred\n",
            "<ipython-input-8-e19b43c90613>:18: DeprecationWarning: Conversion of an array with ndim > 0 to a scalar is deprecated, and will error in future. Ensure you extract a single element from your array before performing this operation. (Deprecated NumPy 1.25.)\n",
            "  current_data[0, -1] = next_pred\n",
            "<ipython-input-8-e19b43c90613>:18: DeprecationWarning: Conversion of an array with ndim > 0 to a scalar is deprecated, and will error in future. Ensure you extract a single element from your array before performing this operation. (Deprecated NumPy 1.25.)\n",
            "  current_data[0, -1] = next_pred\n",
            "<ipython-input-8-e19b43c90613>:18: DeprecationWarning: Conversion of an array with ndim > 0 to a scalar is deprecated, and will error in future. Ensure you extract a single element from your array before performing this operation. (Deprecated NumPy 1.25.)\n",
            "  current_data[0, -1] = next_pred\n",
            "<ipython-input-8-e19b43c90613>:18: DeprecationWarning: Conversion of an array with ndim > 0 to a scalar is deprecated, and will error in future. Ensure you extract a single element from your array before performing this operation. (Deprecated NumPy 1.25.)\n",
            "  current_data[0, -1] = next_pred\n",
            "<ipython-input-8-e19b43c90613>:18: DeprecationWarning: Conversion of an array with ndim > 0 to a scalar is deprecated, and will error in future. Ensure you extract a single element from your array before performing this operation. (Deprecated NumPy 1.25.)\n",
            "  current_data[0, -1] = next_pred\n",
            "<ipython-input-8-e19b43c90613>:18: DeprecationWarning: Conversion of an array with ndim > 0 to a scalar is deprecated, and will error in future. Ensure you extract a single element from your array before performing this operation. (Deprecated NumPy 1.25.)\n",
            "  current_data[0, -1] = next_pred\n",
            "<ipython-input-8-e19b43c90613>:18: DeprecationWarning: Conversion of an array with ndim > 0 to a scalar is deprecated, and will error in future. Ensure you extract a single element from your array before performing this operation. (Deprecated NumPy 1.25.)\n",
            "  current_data[0, -1] = next_pred\n",
            "<ipython-input-8-e19b43c90613>:18: DeprecationWarning: Conversion of an array with ndim > 0 to a scalar is deprecated, and will error in future. Ensure you extract a single element from your array before performing this operation. (Deprecated NumPy 1.25.)\n",
            "  current_data[0, -1] = next_pred\n",
            "<ipython-input-8-e19b43c90613>:18: DeprecationWarning: Conversion of an array with ndim > 0 to a scalar is deprecated, and will error in future. Ensure you extract a single element from your array before performing this operation. (Deprecated NumPy 1.25.)\n",
            "  current_data[0, -1] = next_pred\n",
            "<ipython-input-8-e19b43c90613>:18: DeprecationWarning: Conversion of an array with ndim > 0 to a scalar is deprecated, and will error in future. Ensure you extract a single element from your array before performing this operation. (Deprecated NumPy 1.25.)\n",
            "  current_data[0, -1] = next_pred\n",
            "<ipython-input-8-e19b43c90613>:18: DeprecationWarning: Conversion of an array with ndim > 0 to a scalar is deprecated, and will error in future. Ensure you extract a single element from your array before performing this operation. (Deprecated NumPy 1.25.)\n",
            "  current_data[0, -1] = next_pred\n",
            "<ipython-input-8-e19b43c90613>:18: DeprecationWarning: Conversion of an array with ndim > 0 to a scalar is deprecated, and will error in future. Ensure you extract a single element from your array before performing this operation. (Deprecated NumPy 1.25.)\n",
            "  current_data[0, -1] = next_pred\n",
            "<ipython-input-8-e19b43c90613>:18: DeprecationWarning: Conversion of an array with ndim > 0 to a scalar is deprecated, and will error in future. Ensure you extract a single element from your array before performing this operation. (Deprecated NumPy 1.25.)\n",
            "  current_data[0, -1] = next_pred\n",
            "<ipython-input-8-e19b43c90613>:18: DeprecationWarning: Conversion of an array with ndim > 0 to a scalar is deprecated, and will error in future. Ensure you extract a single element from your array before performing this operation. (Deprecated NumPy 1.25.)\n",
            "  current_data[0, -1] = next_pred\n",
            "<ipython-input-8-e19b43c90613>:18: DeprecationWarning: Conversion of an array with ndim > 0 to a scalar is deprecated, and will error in future. Ensure you extract a single element from your array before performing this operation. (Deprecated NumPy 1.25.)\n",
            "  current_data[0, -1] = next_pred\n",
            "<ipython-input-8-e19b43c90613>:18: DeprecationWarning: Conversion of an array with ndim > 0 to a scalar is deprecated, and will error in future. Ensure you extract a single element from your array before performing this operation. (Deprecated NumPy 1.25.)\n",
            "  current_data[0, -1] = next_pred\n",
            "<ipython-input-8-e19b43c90613>:18: DeprecationWarning: Conversion of an array with ndim > 0 to a scalar is deprecated, and will error in future. Ensure you extract a single element from your array before performing this operation. (Deprecated NumPy 1.25.)\n",
            "  current_data[0, -1] = next_pred\n",
            "<ipython-input-8-e19b43c90613>:18: DeprecationWarning: Conversion of an array with ndim > 0 to a scalar is deprecated, and will error in future. Ensure you extract a single element from your array before performing this operation. (Deprecated NumPy 1.25.)\n",
            "  current_data[0, -1] = next_pred\n",
            "<ipython-input-8-e19b43c90613>:18: DeprecationWarning: Conversion of an array with ndim > 0 to a scalar is deprecated, and will error in future. Ensure you extract a single element from your array before performing this operation. (Deprecated NumPy 1.25.)\n",
            "  current_data[0, -1] = next_pred\n",
            "<ipython-input-8-e19b43c90613>:18: DeprecationWarning: Conversion of an array with ndim > 0 to a scalar is deprecated, and will error in future. Ensure you extract a single element from your array before performing this operation. (Deprecated NumPy 1.25.)\n",
            "  current_data[0, -1] = next_pred\n",
            "<ipython-input-8-e19b43c90613>:18: DeprecationWarning: Conversion of an array with ndim > 0 to a scalar is deprecated, and will error in future. Ensure you extract a single element from your array before performing this operation. (Deprecated NumPy 1.25.)\n",
            "  current_data[0, -1] = next_pred\n",
            "<ipython-input-8-e19b43c90613>:18: DeprecationWarning: Conversion of an array with ndim > 0 to a scalar is deprecated, and will error in future. Ensure you extract a single element from your array before performing this operation. (Deprecated NumPy 1.25.)\n",
            "  current_data[0, -1] = next_pred\n",
            "<ipython-input-8-e19b43c90613>:18: DeprecationWarning: Conversion of an array with ndim > 0 to a scalar is deprecated, and will error in future. Ensure you extract a single element from your array before performing this operation. (Deprecated NumPy 1.25.)\n",
            "  current_data[0, -1] = next_pred\n",
            "<ipython-input-8-e19b43c90613>:18: DeprecationWarning: Conversion of an array with ndim > 0 to a scalar is deprecated, and will error in future. Ensure you extract a single element from your array before performing this operation. (Deprecated NumPy 1.25.)\n",
            "  current_data[0, -1] = next_pred\n",
            "<ipython-input-8-e19b43c90613>:18: DeprecationWarning: Conversion of an array with ndim > 0 to a scalar is deprecated, and will error in future. Ensure you extract a single element from your array before performing this operation. (Deprecated NumPy 1.25.)\n",
            "  current_data[0, -1] = next_pred\n",
            "<ipython-input-8-e19b43c90613>:18: DeprecationWarning: Conversion of an array with ndim > 0 to a scalar is deprecated, and will error in future. Ensure you extract a single element from your array before performing this operation. (Deprecated NumPy 1.25.)\n",
            "  current_data[0, -1] = next_pred\n",
            "<ipython-input-8-e19b43c90613>:18: DeprecationWarning: Conversion of an array with ndim > 0 to a scalar is deprecated, and will error in future. Ensure you extract a single element from your array before performing this operation. (Deprecated NumPy 1.25.)\n",
            "  current_data[0, -1] = next_pred\n",
            "<ipython-input-8-e19b43c90613>:18: DeprecationWarning: Conversion of an array with ndim > 0 to a scalar is deprecated, and will error in future. Ensure you extract a single element from your array before performing this operation. (Deprecated NumPy 1.25.)\n",
            "  current_data[0, -1] = next_pred\n",
            "<ipython-input-8-e19b43c90613>:18: DeprecationWarning: Conversion of an array with ndim > 0 to a scalar is deprecated, and will error in future. Ensure you extract a single element from your array before performing this operation. (Deprecated NumPy 1.25.)\n",
            "  current_data[0, -1] = next_pred\n",
            "<ipython-input-8-e19b43c90613>:18: DeprecationWarning: Conversion of an array with ndim > 0 to a scalar is deprecated, and will error in future. Ensure you extract a single element from your array before performing this operation. (Deprecated NumPy 1.25.)\n",
            "  current_data[0, -1] = next_pred\n",
            "<ipython-input-8-e19b43c90613>:18: DeprecationWarning: Conversion of an array with ndim > 0 to a scalar is deprecated, and will error in future. Ensure you extract a single element from your array before performing this operation. (Deprecated NumPy 1.25.)\n",
            "  current_data[0, -1] = next_pred\n"
          ]
        }
      ]
    },
    {
      "cell_type": "code",
      "source": [
        "# Function to predict previous values considering only trading days\n",
        "def predict_previous_trading_days(model, current_data, trading_days, start_date):\n",
        "    predictions = []\n",
        "    current_date = start_date\n",
        "    trading_days_set = set(trading_days)\n",
        "\n",
        "    while len(predictions) < 7:\n",
        "        next_pred = model.predict(current_data)\n",
        "        if current_date.strftime('%Y-%m-%d') in trading_days_set:\n",
        "            predictions.append((current_date.strftime('%Y-%m-%d'), next_pred[0]))\n",
        "\n",
        "        # Prepare the next data point (shift data and include new prediction)\n",
        "        current_data = np.roll(current_data, 1)\n",
        "        current_data[0, 0] = next_pred\n",
        "        current_date -= timedelta(days=1)\n",
        "\n",
        "    return predictions\n",
        "\n",
        "# Predict the previous 7 trading days\n",
        "start_date = datetime(2024, 7, 4)\n",
        "prev_predictions_lr = predict_previous_trading_days(lr, last_data_point_scaled, trading_days, start_date)\n",
        "prev_predictions_rf = predict_previous_trading_days(rf, last_data_point_scaled, trading_days, start_date)\n",
        "prev_predictions_svm = predict_previous_trading_days(svm, last_data_point_scaled, trading_days, start_date)\n",
        "\n",
        "# Reverse the previous predictions to maintain chronological order\n",
        "prev_predictions_lr.reverse()\n",
        "prev_predictions_rf.reverse()\n",
        "prev_predictions_svm.reverse()\n"
      ],
      "metadata": {
        "id": "-a4jlNUdEm1Y",
        "outputId": "6346e024-b55f-441e-b324-6505533167dd",
        "colab": {
          "base_uri": "https://localhost:8080/"
        }
      },
      "execution_count": 9,
      "outputs": [
        {
          "output_type": "stream",
          "name": "stderr",
          "text": [
            "<ipython-input-9-f75e7b2920a9>:14: DeprecationWarning: Conversion of an array with ndim > 0 to a scalar is deprecated, and will error in future. Ensure you extract a single element from your array before performing this operation. (Deprecated NumPy 1.25.)\n",
            "  current_data[0, 0] = next_pred\n",
            "<ipython-input-9-f75e7b2920a9>:14: DeprecationWarning: Conversion of an array with ndim > 0 to a scalar is deprecated, and will error in future. Ensure you extract a single element from your array before performing this operation. (Deprecated NumPy 1.25.)\n",
            "  current_data[0, 0] = next_pred\n",
            "<ipython-input-9-f75e7b2920a9>:14: DeprecationWarning: Conversion of an array with ndim > 0 to a scalar is deprecated, and will error in future. Ensure you extract a single element from your array before performing this operation. (Deprecated NumPy 1.25.)\n",
            "  current_data[0, 0] = next_pred\n",
            "<ipython-input-9-f75e7b2920a9>:14: DeprecationWarning: Conversion of an array with ndim > 0 to a scalar is deprecated, and will error in future. Ensure you extract a single element from your array before performing this operation. (Deprecated NumPy 1.25.)\n",
            "  current_data[0, 0] = next_pred\n",
            "<ipython-input-9-f75e7b2920a9>:14: DeprecationWarning: Conversion of an array with ndim > 0 to a scalar is deprecated, and will error in future. Ensure you extract a single element from your array before performing this operation. (Deprecated NumPy 1.25.)\n",
            "  current_data[0, 0] = next_pred\n",
            "<ipython-input-9-f75e7b2920a9>:14: DeprecationWarning: Conversion of an array with ndim > 0 to a scalar is deprecated, and will error in future. Ensure you extract a single element from your array before performing this operation. (Deprecated NumPy 1.25.)\n",
            "  current_data[0, 0] = next_pred\n",
            "<ipython-input-9-f75e7b2920a9>:14: DeprecationWarning: Conversion of an array with ndim > 0 to a scalar is deprecated, and will error in future. Ensure you extract a single element from your array before performing this operation. (Deprecated NumPy 1.25.)\n",
            "  current_data[0, 0] = next_pred\n",
            "<ipython-input-9-f75e7b2920a9>:14: DeprecationWarning: Conversion of an array with ndim > 0 to a scalar is deprecated, and will error in future. Ensure you extract a single element from your array before performing this operation. (Deprecated NumPy 1.25.)\n",
            "  current_data[0, 0] = next_pred\n",
            "<ipython-input-9-f75e7b2920a9>:14: DeprecationWarning: Conversion of an array with ndim > 0 to a scalar is deprecated, and will error in future. Ensure you extract a single element from your array before performing this operation. (Deprecated NumPy 1.25.)\n",
            "  current_data[0, 0] = next_pred\n",
            "<ipython-input-9-f75e7b2920a9>:14: DeprecationWarning: Conversion of an array with ndim > 0 to a scalar is deprecated, and will error in future. Ensure you extract a single element from your array before performing this operation. (Deprecated NumPy 1.25.)\n",
            "  current_data[0, 0] = next_pred\n",
            "<ipython-input-9-f75e7b2920a9>:14: DeprecationWarning: Conversion of an array with ndim > 0 to a scalar is deprecated, and will error in future. Ensure you extract a single element from your array before performing this operation. (Deprecated NumPy 1.25.)\n",
            "  current_data[0, 0] = next_pred\n",
            "<ipython-input-9-f75e7b2920a9>:14: DeprecationWarning: Conversion of an array with ndim > 0 to a scalar is deprecated, and will error in future. Ensure you extract a single element from your array before performing this operation. (Deprecated NumPy 1.25.)\n",
            "  current_data[0, 0] = next_pred\n",
            "<ipython-input-9-f75e7b2920a9>:14: DeprecationWarning: Conversion of an array with ndim > 0 to a scalar is deprecated, and will error in future. Ensure you extract a single element from your array before performing this operation. (Deprecated NumPy 1.25.)\n",
            "  current_data[0, 0] = next_pred\n",
            "<ipython-input-9-f75e7b2920a9>:14: DeprecationWarning: Conversion of an array with ndim > 0 to a scalar is deprecated, and will error in future. Ensure you extract a single element from your array before performing this operation. (Deprecated NumPy 1.25.)\n",
            "  current_data[0, 0] = next_pred\n",
            "<ipython-input-9-f75e7b2920a9>:14: DeprecationWarning: Conversion of an array with ndim > 0 to a scalar is deprecated, and will error in future. Ensure you extract a single element from your array before performing this operation. (Deprecated NumPy 1.25.)\n",
            "  current_data[0, 0] = next_pred\n",
            "<ipython-input-9-f75e7b2920a9>:14: DeprecationWarning: Conversion of an array with ndim > 0 to a scalar is deprecated, and will error in future. Ensure you extract a single element from your array before performing this operation. (Deprecated NumPy 1.25.)\n",
            "  current_data[0, 0] = next_pred\n",
            "<ipython-input-9-f75e7b2920a9>:14: DeprecationWarning: Conversion of an array with ndim > 0 to a scalar is deprecated, and will error in future. Ensure you extract a single element from your array before performing this operation. (Deprecated NumPy 1.25.)\n",
            "  current_data[0, 0] = next_pred\n",
            "<ipython-input-9-f75e7b2920a9>:14: DeprecationWarning: Conversion of an array with ndim > 0 to a scalar is deprecated, and will error in future. Ensure you extract a single element from your array before performing this operation. (Deprecated NumPy 1.25.)\n",
            "  current_data[0, 0] = next_pred\n",
            "<ipython-input-9-f75e7b2920a9>:14: DeprecationWarning: Conversion of an array with ndim > 0 to a scalar is deprecated, and will error in future. Ensure you extract a single element from your array before performing this operation. (Deprecated NumPy 1.25.)\n",
            "  current_data[0, 0] = next_pred\n",
            "<ipython-input-9-f75e7b2920a9>:14: DeprecationWarning: Conversion of an array with ndim > 0 to a scalar is deprecated, and will error in future. Ensure you extract a single element from your array before performing this operation. (Deprecated NumPy 1.25.)\n",
            "  current_data[0, 0] = next_pred\n",
            "<ipython-input-9-f75e7b2920a9>:14: DeprecationWarning: Conversion of an array with ndim > 0 to a scalar is deprecated, and will error in future. Ensure you extract a single element from your array before performing this operation. (Deprecated NumPy 1.25.)\n",
            "  current_data[0, 0] = next_pred\n",
            "<ipython-input-9-f75e7b2920a9>:14: DeprecationWarning: Conversion of an array with ndim > 0 to a scalar is deprecated, and will error in future. Ensure you extract a single element from your array before performing this operation. (Deprecated NumPy 1.25.)\n",
            "  current_data[0, 0] = next_pred\n",
            "<ipython-input-9-f75e7b2920a9>:14: DeprecationWarning: Conversion of an array with ndim > 0 to a scalar is deprecated, and will error in future. Ensure you extract a single element from your array before performing this operation. (Deprecated NumPy 1.25.)\n",
            "  current_data[0, 0] = next_pred\n",
            "<ipython-input-9-f75e7b2920a9>:14: DeprecationWarning: Conversion of an array with ndim > 0 to a scalar is deprecated, and will error in future. Ensure you extract a single element from your array before performing this operation. (Deprecated NumPy 1.25.)\n",
            "  current_data[0, 0] = next_pred\n",
            "<ipython-input-9-f75e7b2920a9>:14: DeprecationWarning: Conversion of an array with ndim > 0 to a scalar is deprecated, and will error in future. Ensure you extract a single element from your array before performing this operation. (Deprecated NumPy 1.25.)\n",
            "  current_data[0, 0] = next_pred\n",
            "<ipython-input-9-f75e7b2920a9>:14: DeprecationWarning: Conversion of an array with ndim > 0 to a scalar is deprecated, and will error in future. Ensure you extract a single element from your array before performing this operation. (Deprecated NumPy 1.25.)\n",
            "  current_data[0, 0] = next_pred\n",
            "<ipython-input-9-f75e7b2920a9>:14: DeprecationWarning: Conversion of an array with ndim > 0 to a scalar is deprecated, and will error in future. Ensure you extract a single element from your array before performing this operation. (Deprecated NumPy 1.25.)\n",
            "  current_data[0, 0] = next_pred\n",
            "<ipython-input-9-f75e7b2920a9>:14: DeprecationWarning: Conversion of an array with ndim > 0 to a scalar is deprecated, and will error in future. Ensure you extract a single element from your array before performing this operation. (Deprecated NumPy 1.25.)\n",
            "  current_data[0, 0] = next_pred\n",
            "<ipython-input-9-f75e7b2920a9>:14: DeprecationWarning: Conversion of an array with ndim > 0 to a scalar is deprecated, and will error in future. Ensure you extract a single element from your array before performing this operation. (Deprecated NumPy 1.25.)\n",
            "  current_data[0, 0] = next_pred\n",
            "<ipython-input-9-f75e7b2920a9>:14: DeprecationWarning: Conversion of an array with ndim > 0 to a scalar is deprecated, and will error in future. Ensure you extract a single element from your array before performing this operation. (Deprecated NumPy 1.25.)\n",
            "  current_data[0, 0] = next_pred\n"
          ]
        }
      ]
    },
    {
      "cell_type": "code",
      "source": [
        "# Combine future and previous predictions into a single DataFrame\n",
        "all_predictions_lr = prev_predictions_lr + predictions_lr\n",
        "all_predictions_rf = prev_predictions_rf + predictions_rf\n",
        "all_predictions_svm = prev_predictions_svm + predictions_svm\n",
        "\n",
        "# Create a DataFrame to hold all predictions\n",
        "all_predictions_df = pd.DataFrame({\n",
        "    'Date': [date for date, _ in all_predictions_lr],\n",
        "    'Linear Regression': [pred for _, pred in all_predictions_lr],\n",
        "    'Random Forest': [pred for _, pred in all_predictions_rf],\n",
        "    'SVM': [pred for _, pred in all_predictions_svm]\n",
        "})\n",
        "\n",
        "print(all_predictions_df)\n"
      ],
      "metadata": {
        "id": "RxQlU9kqEtEr",
        "outputId": "331ab9a2-aef8-4671-dc48-6c57dac3e9fd",
        "colab": {
          "base_uri": "https://localhost:8080/"
        }
      },
      "execution_count": 10,
      "outputs": [
        {
          "output_type": "stream",
          "name": "stdout",
          "text": [
            "          Date  Linear Regression  Random Forest         SVM\n",
            "0   2024-06-25       5.059352e+07    1149.988784  195.947720\n",
            "1   2024-06-26       4.968286e+07    1145.268785  195.947720\n",
            "2   2024-06-27       2.050783e+05    1140.568185  195.947720\n",
            "3   2024-06-28       2.023275e+05    1097.998981  195.947720\n",
            "4   2024-07-01       8.462415e+02     788.007297  195.947720\n",
            "5   2024-07-02       8.348821e+02     794.606086  195.947720\n",
            "6   2024-07-03       8.621086e+02     758.592293  195.947720\n",
            "7   2024-07-05       8.465800e+02     846.504609  253.799798\n",
            "8   2024-07-08       8.429873e+02     806.179391  195.947720\n",
            "9   2024-07-09       8.207791e+02     786.056387  195.947720\n",
            "10  2024-07-10       8.305526e+02     830.808180  195.947720\n",
            "11  2024-07-11       9.054428e+02     902.039979  195.947720\n",
            "12  2024-07-12       8.486813e+02     844.887593  195.947720\n",
            "13  2024-07-15       9.424954e+04    1085.675675  195.947720\n"
          ]
        }
      ]
    }
  ]
}