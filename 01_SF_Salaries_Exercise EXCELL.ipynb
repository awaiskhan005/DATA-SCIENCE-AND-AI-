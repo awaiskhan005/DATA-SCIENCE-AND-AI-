# Import pandas as pd.
import pandas as pd

# Read Salaries.csv as a dataframe called sal.
sal = pd.read_csv('/content/sample_data/Salaries.csv')

# Check the head of the DataFrame.
sal.head(5)

# Use the .info() method to find out how many entries there are.
sal.info()

# What is the average BasePay ?
sal['BasePay'].mean()

# What is the highest amount of OvertimePay in the dataset ? 
sal['OvertimePay'].max()

# What is the job title of  JOSEPH DRISCOLL ? Note: Use all caps, otherwise you may get an answer that doesn't match up (there is also a lowercase Joseph Driscoll). 
sal[sal['EmployeeName']=='JOSEPH DRISCOLL']['JobTitle']

# How much does JOSEPH DRISCOLL make (including benefits)? 
sal[sal['EmployeeName']=='JOSEPH DRISCOLL']['TotalPayBenefits']

# What is the name of highest paid person (including benefits)?
sal[sal['TotalPayBenefits'].idxmax()]['EmployeeName']

# What is the name of lowest paid person (including benefits)? Do you notice something strange about how much he or she is paid?
sal[sal['TotalPayBenefits'].idxmin()]['EmployeeName']

# What was the average (mean) BasePay of all employees per year? (2011-2014) ? 
sal.groupby('Year')['BasePay'].mean()

# How many unique job titles are there? 
sal['JobTitle'].nunique()

# What are the top 5 most common jobs? 
sal['JobTitle'].value_counts().head(5)

# How many Job Titles were represented by only one person in 2013? (e.g. Job Titles with only one occurence in 2013?) 
sal[sal['Year']==2013]['JobTitle'].value_counts().loc[lambda x : x == 1].sum()

# How many people have the word Chief in their job title? (This is pretty tricky) 
len(sal[sal['JobTitle'].str.contains('Chief')])

# Bonus: Is there a correlation between length of the Job Title string and Salary? 
# Calculate the length of the job title string and add it as a new column to the dataframe
sal['title_len'] = sal['JobTitle'].str.len()
# Calculate the correlation between the length of the job title string and total pay
sal[['title_len', 'TotalPayBenefits']].corr()
