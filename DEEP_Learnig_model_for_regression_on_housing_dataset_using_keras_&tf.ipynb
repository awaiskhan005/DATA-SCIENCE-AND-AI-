{
  "nbformat": 4,
  "nbformat_minor": 0,
  "metadata": {
    "colab": {
      "provenance": [],
      "authorship_tag": "ABX9TyNdw8I3TXsSh6MLWlay/gax",
      "include_colab_link": true
    },
    "kernelspec": {
      "name": "python3",
      "display_name": "Python 3"
    },
    "language_info": {
      "name": "python"
    }
  },
  "cells": [
    {
      "cell_type": "markdown",
      "metadata": {
        "id": "view-in-github",
        "colab_type": "text"
      },
      "source": [
        "<a href=\"https://colab.research.google.com/github/awaiskhan005/DATA-SCIENCE-AND-AI-/blob/main/DEEP_Learnig_model_for_regression_on_housing_dataset_using_keras_%26tf.ipynb\" target=\"_parent\"><img src=\"https://colab.research.google.com/assets/colab-badge.svg\" alt=\"Open In Colab\"/></a>"
      ]
    },
    {
      "cell_type": "code",
      "execution_count": 2,
      "metadata": {
        "id": "ungMJn4eRpnh"
      },
      "outputs": [],
      "source": [
        "import numpy as np\n",
        "import pandas as pd\n",
        "\n",
        "import matplotlib.pyplot as plt\n",
        "import matplotlib as mpl\n"
      ]
    },
    {
      "cell_type": "code",
      "source": [
        "%matplotlib inline"
      ],
      "metadata": {
        "id": "_KZ4m1-KSKyC"
      },
      "execution_count": 5,
      "outputs": []
    },
    {
      "cell_type": "code",
      "source": [
        "import tensorflow as tf\n",
        "from tensorflow import keras"
      ],
      "metadata": {
        "id": "UPWYkjmRST8H"
      },
      "execution_count": 6,
      "outputs": []
    },
    {
      "cell_type": "code",
      "source": [
        "from sklearn.datasets import fetch_california_housing\n",
        "housing = fetch_california_housing()"
      ],
      "metadata": {
        "id": "sF6GJ2r7Tpm_"
      },
      "execution_count": 11,
      "outputs": []
    },
    {
      "cell_type": "code",
      "source": [],
      "metadata": {
        "id": "DMr6LLndT-MS"
      },
      "execution_count": null,
      "outputs": []
    },
    {
      "cell_type": "markdown",
      "source": [
        "NO of instances = 20640\n",
        "\n",
        "no of attributes = 8"
      ],
      "metadata": {
        "id": "jjBQitDiUpAE"
      }
    },
    {
      "cell_type": "code",
      "source": [
        "housing.feature_names"
      ],
      "metadata": {
        "colab": {
          "base_uri": "https://localhost:8080/"
        },
        "id": "K29lJaqnU2xc",
        "outputId": "3ecd8f8c-f329-4e32-cc76-f2e04efb3f2c"
      },
      "execution_count": 16,
      "outputs": [
        {
          "output_type": "execute_result",
          "data": {
            "text/plain": [
              "['MedInc',\n",
              " 'HouseAge',\n",
              " 'AveRooms',\n",
              " 'AveBedrms',\n",
              " 'Population',\n",
              " 'AveOccup',\n",
              " 'Latitude',\n",
              " 'Longitude']"
            ]
          },
          "metadata": {},
          "execution_count": 16
        }
      ]
    },
    {
      "cell_type": "code",
      "source": [
        "from sklearn.model_selection import train_test_split\n",
        "X_train_full, X_test, y_train_full, y_test = train_test_split(housing.data, housing.target, random_state=42)\n",
        "X_train, X_valid, y_train, y_valid = train_test_split(X_train_full, y_train_full, random_state=42)"
      ],
      "metadata": {
        "id": "yDCdZOwrVdkg"
      },
      "execution_count": 22,
      "outputs": []
    },
    {
      "cell_type": "code",
      "source": [
        "from sklearn.preprocessing import StandardScaler\n",
        "scaler = StandardScaler()\n",
        "X_train = scaler.fit_transform(X_train)\n",
        "X_valid = scaler.fit_transform(X_valid)\n",
        "X_test = scaler.fit_transform(X_test)"
      ],
      "metadata": {
        "id": "1OJQRBcVW7Xq"
      },
      "execution_count": 24,
      "outputs": []
    },
    {
      "cell_type": "code",
      "source": [
        "np.random.seed(42)\n",
        "tf.random.set_seed(42)"
      ],
      "metadata": {
        "id": "vEagsW2TXuPg"
      },
      "execution_count": 30,
      "outputs": []
    },
    {
      "cell_type": "code",
      "source": [
        "X_train.shape"
      ],
      "metadata": {
        "colab": {
          "base_uri": "https://localhost:8080/"
        },
        "id": "_4ejMLWyZUJD",
        "outputId": "a1f1d2f3-0e6d-49bd-e715-be35ed3d725f"
      },
      "execution_count": 31,
      "outputs": [
        {
          "output_type": "execute_result",
          "data": {
            "text/plain": [
              "(11610, 8)"
            ]
          },
          "metadata": {},
          "execution_count": 31
        }
      ]
    },
    {
      "cell_type": "code",
      "source": [
        "# prompt: carate a neural network for this dataset with 2 layes and 1 output layer\n",
        "\n",
        "model = keras.models.Sequential([\n",
        "    keras.layers.Dense(30, activation=\"relu\", input_shape=[8]),\n",
        "    keras.layers.Dense(30, activation=\"relu\"),\n",
        "    keras.layers.Dense(1)\n",
        "])\n",
        "\n"
      ],
      "metadata": {
        "id": "upvgUuUmZmQ8"
      },
      "execution_count": 33,
      "outputs": []
    },
    {
      "cell_type": "code",
      "source": [
        "model.summary()"
      ],
      "metadata": {
        "colab": {
          "base_uri": "https://localhost:8080/"
        },
        "id": "N7ItRbGVapV3",
        "outputId": "875644a0-19e7-41d1-b107-0988a8e8e837"
      },
      "execution_count": 34,
      "outputs": [
        {
          "output_type": "stream",
          "name": "stdout",
          "text": [
            "Model: \"sequential\"\n",
            "_________________________________________________________________\n",
            " Layer (type)                Output Shape              Param #   \n",
            "=================================================================\n",
            " dense (Dense)               (None, 30)                270       \n",
            "                                                                 \n",
            " dense_1 (Dense)             (None, 30)                930       \n",
            "                                                                 \n",
            " dense_2 (Dense)             (None, 1)                 31        \n",
            "                                                                 \n",
            "=================================================================\n",
            "Total params: 1231 (4.81 KB)\n",
            "Trainable params: 1231 (4.81 KB)\n",
            "Non-trainable params: 0 (0.00 Byte)\n",
            "_________________________________________________________________\n"
          ]
        }
      ]
    },
    {
      "cell_type": "code",
      "source": [
        "# prompt: complie model\n",
        "\n",
        "model.compile(loss=\"mean_squared_error\",\n",
        "              optimizer=keras.optimizers.SGD(learning_rate=1e-3),\n",
        "              metrics=[\"mae\"])\n"
      ],
      "metadata": {
        "id": "w_uVW8oAbTAe"
      },
      "execution_count": 37,
      "outputs": []
    },
    {
      "cell_type": "code",
      "source": [
        "model_history = model.fit(X_train, y_train, epochs=20, validation_data=(X_valid, y_valid))"
      ],
      "metadata": {
        "colab": {
          "base_uri": "https://localhost:8080/"
        },
        "id": "9hcl8DAKcgPF",
        "outputId": "be35b9fc-9220-4bff-f77f-6e0fe7a3ca8c"
      },
      "execution_count": 44,
      "outputs": [
        {
          "output_type": "stream",
          "name": "stdout",
          "text": [
            "Epoch 1/20\n",
            "363/363 [==============================] - 1s 3ms/step - loss: 0.3981 - mae: 0.4527 - val_loss: 0.4506 - val_mae: 0.4900\n",
            "Epoch 2/20\n",
            "363/363 [==============================] - 1s 3ms/step - loss: 0.3952 - mae: 0.4499 - val_loss: 0.4515 - val_mae: 0.4951\n",
            "Epoch 3/20\n",
            "363/363 [==============================] - 1s 2ms/step - loss: 0.3925 - mae: 0.4488 - val_loss: 0.4467 - val_mae: 0.4879\n",
            "Epoch 4/20\n",
            "363/363 [==============================] - 1s 2ms/step - loss: 0.3895 - mae: 0.4465 - val_loss: 0.4473 - val_mae: 0.4922\n",
            "Epoch 5/20\n",
            "363/363 [==============================] - 1s 2ms/step - loss: 0.3874 - mae: 0.4450 - val_loss: 0.4429 - val_mae: 0.4860\n",
            "Epoch 6/20\n",
            "363/363 [==============================] - 1s 2ms/step - loss: 0.3847 - mae: 0.4434 - val_loss: 0.4414 - val_mae: 0.4839\n",
            "Epoch 7/20\n",
            "363/363 [==============================] - 1s 3ms/step - loss: 0.3831 - mae: 0.4419 - val_loss: 0.4405 - val_mae: 0.4850\n",
            "Epoch 8/20\n",
            "363/363 [==============================] - 1s 3ms/step - loss: 0.3813 - mae: 0.4407 - val_loss: 0.4378 - val_mae: 0.4814\n",
            "Epoch 9/20\n",
            "363/363 [==============================] - 1s 3ms/step - loss: 0.3795 - mae: 0.4399 - val_loss: 0.4358 - val_mae: 0.4787\n",
            "Epoch 10/20\n",
            "363/363 [==============================] - 1s 2ms/step - loss: 0.3780 - mae: 0.4383 - val_loss: 0.4340 - val_mae: 0.4765\n",
            "Epoch 11/20\n",
            "363/363 [==============================] - 1s 3ms/step - loss: 0.3770 - mae: 0.4371 - val_loss: 0.4344 - val_mae: 0.4796\n",
            "Epoch 12/20\n",
            "363/363 [==============================] - 1s 2ms/step - loss: 0.3756 - mae: 0.4361 - val_loss: 0.4329 - val_mae: 0.4766\n",
            "Epoch 13/20\n",
            "363/363 [==============================] - 1s 2ms/step - loss: 0.3744 - mae: 0.4354 - val_loss: 0.4333 - val_mae: 0.4805\n",
            "Epoch 14/20\n",
            "363/363 [==============================] - 1s 3ms/step - loss: 0.3732 - mae: 0.4343 - val_loss: 0.4320 - val_mae: 0.4788\n",
            "Epoch 15/20\n",
            "363/363 [==============================] - 1s 3ms/step - loss: 0.3722 - mae: 0.4337 - val_loss: 0.4298 - val_mae: 0.4749\n",
            "Epoch 16/20\n",
            "363/363 [==============================] - 1s 3ms/step - loss: 0.3710 - mae: 0.4330 - val_loss: 0.4295 - val_mae: 0.4757\n",
            "Epoch 17/20\n",
            "363/363 [==============================] - 1s 2ms/step - loss: 0.3701 - mae: 0.4321 - val_loss: 0.4281 - val_mae: 0.4729\n",
            "Epoch 18/20\n",
            "363/363 [==============================] - 1s 3ms/step - loss: 0.3695 - mae: 0.4316 - val_loss: 0.4272 - val_mae: 0.4711\n",
            "Epoch 19/20\n",
            "363/363 [==============================] - 1s 3ms/step - loss: 0.3680 - mae: 0.4303 - val_loss: 0.4274 - val_mae: 0.4712\n",
            "Epoch 20/20\n",
            "363/363 [==============================] - 1s 3ms/step - loss: 0.3676 - mae: 0.4298 - val_loss: 0.4272 - val_mae: 0.4741\n"
          ]
        }
      ]
    },
    {
      "cell_type": "code",
      "source": [
        "mae_test = model.evaluate(X_test, y_test)"
      ],
      "metadata": {
        "colab": {
          "base_uri": "https://localhost:8080/"
        },
        "id": "-fiICdxCd1fF",
        "outputId": "a45580d6-9d03-4a18-d056-bcff9a6e436c"
      },
      "execution_count": 45,
      "outputs": [
        {
          "output_type": "stream",
          "name": "stdout",
          "text": [
            "162/162 [==============================] - 0s 1ms/step - loss: 0.3827 - mae: 0.4471\n"
          ]
        }
      ]
    },
    {
      "cell_type": "code",
      "source": [
        "model_history.history"
      ],
      "metadata": {
        "colab": {
          "base_uri": "https://localhost:8080/"
        },
        "id": "mf_hQpfseUQ6",
        "outputId": "5ceb56fb-5916-48cb-c153-92dac8593aa0"
      },
      "execution_count": 46,
      "outputs": [
        {
          "output_type": "execute_result",
          "data": {
            "text/plain": [
              "{'loss': [0.3980976343154907,\n",
              "  0.39515015482902527,\n",
              "  0.3924795091152191,\n",
              "  0.38946840167045593,\n",
              "  0.3873898983001709,\n",
              "  0.3847424387931824,\n",
              "  0.383108526468277,\n",
              "  0.38130664825439453,\n",
              "  0.37947747111320496,\n",
              "  0.37798011302948,\n",
              "  0.37695157527923584,\n",
              "  0.375601589679718,\n",
              "  0.3743956983089447,\n",
              "  0.3731591999530792,\n",
              "  0.3721793591976166,\n",
              "  0.37095022201538086,\n",
              "  0.370133638381958,\n",
              "  0.3694566786289215,\n",
              "  0.36802467703819275,\n",
              "  0.3675591051578522],\n",
              " 'mae': [0.4526974856853485,\n",
              "  0.44992080330848694,\n",
              "  0.44879090785980225,\n",
              "  0.44648003578186035,\n",
              "  0.4450313448905945,\n",
              "  0.44341975450515747,\n",
              "  0.4418867230415344,\n",
              "  0.44069090485572815,\n",
              "  0.4398563802242279,\n",
              "  0.4382685124874115,\n",
              "  0.43710827827453613,\n",
              "  0.43610960245132446,\n",
              "  0.43538299202919006,\n",
              "  0.4342816472053528,\n",
              "  0.4336966276168823,\n",
              "  0.4329570531845093,\n",
              "  0.43209052085876465,\n",
              "  0.4315674901008606,\n",
              "  0.43030476570129395,\n",
              "  0.42979714274406433],\n",
              " 'val_loss': [0.45057353377342224,\n",
              "  0.4514619708061218,\n",
              "  0.44674617052078247,\n",
              "  0.44730663299560547,\n",
              "  0.4428742527961731,\n",
              "  0.44136568903923035,\n",
              "  0.4405357837677002,\n",
              "  0.43775373697280884,\n",
              "  0.4357726573944092,\n",
              "  0.4340129792690277,\n",
              "  0.43441373109817505,\n",
              "  0.4329414963722229,\n",
              "  0.4332863688468933,\n",
              "  0.43202319741249084,\n",
              "  0.4298289716243744,\n",
              "  0.4295347034931183,\n",
              "  0.42805904150009155,\n",
              "  0.4272303581237793,\n",
              "  0.4273584485054016,\n",
              "  0.42723384499549866],\n",
              " 'val_mae': [0.4900320768356323,\n",
              "  0.49509090185165405,\n",
              "  0.4878782331943512,\n",
              "  0.49220606684684753,\n",
              "  0.48597100377082825,\n",
              "  0.4838777780532837,\n",
              "  0.484963059425354,\n",
              "  0.48136550188064575,\n",
              "  0.4787115752696991,\n",
              "  0.47647762298583984,\n",
              "  0.47956016659736633,\n",
              "  0.4766136407852173,\n",
              "  0.48049309849739075,\n",
              "  0.4787835478782654,\n",
              "  0.4748544692993164,\n",
              "  0.4757434129714966,\n",
              "  0.47286731004714966,\n",
              "  0.4710775315761566,\n",
              "  0.47117748856544495,\n",
              "  0.47406184673309326]}"
            ]
          },
          "metadata": {},
          "execution_count": 46
        }
      ]
    },
    {
      "cell_type": "code",
      "source": [
        "pd.DataFrame(model_history.history).plot(figsize=(8, 5))\n",
        "plt.grid(True)\n",
        "plt.gca().set_ylim(0,1)\n",
        "plt.show()"
      ],
      "metadata": {
        "colab": {
          "base_uri": "https://localhost:8080/",
          "height": 451
        },
        "id": "zB8msFtwec9S",
        "outputId": "b9621797-0ad6-4234-c1ca-7bd866fa5aa3"
      },
      "execution_count": 47,
      "outputs": [
        {
          "output_type": "display_data",
          "data": {
            "text/plain": [
              "<Figure size 800x500 with 1 Axes>"
            ],
            "image/png": "[encoded data removed]"
          },
          "metadata": {}
        }
      ]
    },
    {
      "cell_type": "code",
      "source": [
        "X_new = X_test[:3]"
      ],
      "metadata": {
        "id": "Frzvk961e64u"
      },
      "execution_count": 49,
      "outputs": []
    },
    {
      "cell_type": "code",
      "source": [
        "y_pred = model.predict(X_new)\n",
        "print(y_pred)\n",
        "print(y_pred[:3])"
      ],
      "metadata": {
        "colab": {
          "base_uri": "https://localhost:8080/"
        },
        "id": "L7lsy0V6fF3c",
        "outputId": "76bf73e3-e694-4048-94c0-ff456a83bd46"
      },
      "execution_count": 51,
      "outputs": [
        {
          "output_type": "stream",
          "name": "stdout",
          "text": [
            "1/1 [==============================] - 0s 24ms/step\n",
            "[[0.8219778]\n",
            " [1.8128247]\n",
            " [4.1836796]]\n",
            "[[0.8219778]\n",
            " [1.8128247]\n",
            " [4.1836796]]\n"
          ]
        }
      ]
    }
  ]
}