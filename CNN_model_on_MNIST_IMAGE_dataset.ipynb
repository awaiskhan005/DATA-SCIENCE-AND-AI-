{
  "nbformat": 4,
  "nbformat_minor": 0,
  "metadata": {
    "colab": {
      "provenance": [],
      "authorship_tag": "ABX9TyMqUAWaN3UNAVZq8CyuLwO0",
      "include_colab_link": true
    },
    "kernelspec": {
      "name": "python3",
      "display_name": "Python 3"
    },
    "language_info": {
      "name": "python"
    }
  },
  "cells": [
    {
      "cell_type": "markdown",
      "metadata": {
        "id": "view-in-github",
        "colab_type": "text"
      },
      "source": [
        "<a href=\"https://colab.research.google.com/github/awaiskhan005/DATA-SCIENCE-AND-AI-/blob/main/CNN_model_on_MNIST_IMAGE_dataset.ipynb\" target=\"_parent\"><img src=\"https://colab.research.google.com/assets/colab-badge.svg\" alt=\"Open In Colab\"/></a>"
      ]
    },
    {
      "cell_type": "code",
      "execution_count": 2,
      "metadata": {
        "id": "9f802IFBKJMU"
      },
      "outputs": [],
      "source": [
        "import pandas as pd\n",
        "import seaborn as sns\n",
        "import matplotlib.pyplot as plt\n",
        "import numpy as np\n",
        "%matplotlib inline\n",
        "import matplotlib as mpl\n"
      ]
    },
    {
      "cell_type": "code",
      "source": [
        "import tensorflow as tf\n",
        "from tensorflow import keras"
      ],
      "metadata": {
        "id": "KCepVyqAKV5e"
      },
      "execution_count": 3,
      "outputs": []
    },
    {
      "cell_type": "code",
      "source": [
        "fashion_mnist = keras.datasets.fashion_mnist\n",
        "(X_train_full, y_train_full), (X_test, y_test) = fashion_mnist.load_data()"
      ],
      "metadata": {
        "colab": {
          "base_uri": "https://localhost:8080/"
        },
        "id": "r4wSiMIzK1DY",
        "outputId": "6b484cdd-8863-4abc-983c-25755bcb0a4c"
      },
      "execution_count": 4,
      "outputs": [
        {
          "output_type": "stream",
          "name": "stdout",
          "text": [
            "Downloading data from https://storage.googleapis.com/tensorflow/tf-keras-datasets/train-labels-idx1-ubyte.gz\n",
            "29515/29515 [==============================] - 0s 0us/step\n",
            "Downloading data from https://storage.googleapis.com/tensorflow/tf-keras-datasets/train-images-idx3-ubyte.gz\n",
            "26421880/26421880 [==============================] - 0s 0us/step\n",
            "Downloading data from https://storage.googleapis.com/tensorflow/tf-keras-datasets/t10k-labels-idx1-ubyte.gz\n",
            "5148/5148 [==============================] - 0s 0us/step\n",
            "Downloading data from https://storage.googleapis.com/tensorflow/tf-keras-datasets/t10k-images-idx3-ubyte.gz\n",
            "4422102/4422102 [==============================] - 0s 0us/step\n"
          ]
        }
      ]
    },
    {
      "cell_type": "code",
      "source": [
        "class_names = [\"T-shirt/top\", \"Trouser\", \"Pullover\", \"Dress\", \"Coat\",\n",
        "               \"Sandal\", \"Shirt\", \"Sneaker\", \"Bag\", \"Ankle boot\"]"
      ],
      "metadata": {
        "id": "u5XMTSQfLU1O"
      },
      "execution_count": 5,
      "outputs": []
    },
    {
      "cell_type": "markdown",
      "source": [
        "Data reshape"
      ],
      "metadata": {
        "id": "nSlu0MnPLuts"
      }
    },
    {
      "cell_type": "code",
      "source": [
        "X_train_full = X_train_full.reshape((60000, 28, 28, 1))\n",
        "X_test = X_test.reshape((10000, 28, 28, 1))"
      ],
      "metadata": {
        "id": "W7c_JmIBLcYy"
      },
      "execution_count": 6,
      "outputs": []
    },
    {
      "cell_type": "markdown",
      "source": [
        "DATA NORMALIZATION\n"
      ],
      "metadata": {
        "id": "1nm6w5qfMO4L"
      }
    },
    {
      "cell_type": "code",
      "source": [],
      "metadata": {
        "id": "43zLMvHlMVaC"
      },
      "execution_count": null,
      "outputs": []
    },
    {
      "cell_type": "code",
      "source": [
        "X_train_n = X_train_full / 255.0\n",
        "X_test_n = X_test / 255."
      ],
      "metadata": {
        "id": "fK9hYrDXMBgY"
      },
      "execution_count": 7,
      "outputs": []
    },
    {
      "cell_type": "code",
      "source": [
        "x_valid, x_train = X_train_n[:5000], X_train_n[5000:]\n",
        "y_valid, y_train = y_train_full[:5000], y_train_full[5000:]\n",
        "X_test = X_test_n"
      ],
      "metadata": {
        "id": "u7eLfh6GMcUl"
      },
      "execution_count": 8,
      "outputs": []
    },
    {
      "cell_type": "code",
      "source": [
        "np.random.seed(42)\n",
        "tf.random.set_seed(42)"
      ],
      "metadata": {
        "id": "NPtISSDsM0hC"
      },
      "execution_count": 9,
      "outputs": []
    },
    {
      "cell_type": "markdown",
      "source": [
        "ARCHAETICTURE"
      ],
      "metadata": {
        "id": "IrGrGqCbM9GC"
      }
    },
    {
      "cell_type": "code",
      "source": [
        "model = keras.models.Sequential()\n",
        "model.add(keras.layers.Conv2D(filters=32, kernel_size=(3, 3), strides=1, padding=\"valid\", activation=\"relu\", input_shape=[28, 28, 1]))\n",
        "model.add(keras.layers.MaxPooling2D(pool_size=(2, 2)))\n",
        "model.add(keras.layers.Flatten())\n",
        "model.add(keras.layers.Dense(300, activation=\"relu\"))\n",
        "model.add(keras.layers.Dense(100, activation=\"relu\"))\n",
        "model.add(keras.layers.Dense(10, activation=\"softmax\"))"
      ],
      "metadata": {
        "id": "yGvwv_iyM8uz"
      },
      "execution_count": 13,
      "outputs": []
    },
    {
      "cell_type": "code",
      "source": [
        "model.summary()"
      ],
      "metadata": {
        "colab": {
          "base_uri": "https://localhost:8080/"
        },
        "id": "WXv8YPcFM7pC",
        "outputId": "747fcdea-a505-4096-e96e-993ea478e61a"
      },
      "execution_count": 14,
      "outputs": [
        {
          "output_type": "stream",
          "name": "stdout",
          "text": [
            "Model: \"sequential_2\"\n",
            "_________________________________________________________________\n",
            " Layer (type)                Output Shape              Param #   \n",
            "=================================================================\n",
            " conv2d_2 (Conv2D)           (None, 26, 26, 32)        320       \n",
            "                                                                 \n",
            " max_pooling2d_2 (MaxPoolin  (None, 13, 13, 32)        0         \n",
            " g2D)                                                            \n",
            "                                                                 \n",
            " flatten (Flatten)           (None, 5408)              0         \n",
            "                                                                 \n",
            " dense (Dense)               (None, 300)               1622700   \n",
            "                                                                 \n",
            " dense_1 (Dense)             (None, 100)               30100     \n",
            "                                                                 \n",
            " dense_2 (Dense)             (None, 10)                1010      \n",
            "                                                                 \n",
            "=================================================================\n",
            "Total params: 1654130 (6.31 MB)\n",
            "Trainable params: 1654130 (6.31 MB)\n",
            "Non-trainable params: 0 (0.00 Byte)\n",
            "_________________________________________________________________\n"
          ]
        }
      ]
    },
    {
      "cell_type": "code",
      "source": [
        "model.compile(loss=\"sparse_categorical_crossentropy\",\n",
        "              optimizer=\"sgd\",\n",
        "              metrics=[\"accuracy\"])"
      ],
      "metadata": {
        "id": "ghaufSs5OhD2"
      },
      "execution_count": 15,
      "outputs": []
    },
    {
      "cell_type": "code",
      "source": [
        "model_history = model.fit(x_train, y_train, epochs=10,\n",
        "                    validation_data=(x_valid, y_valid))"
      ],
      "metadata": {
        "colab": {
          "base_uri": "https://localhost:8080/"
        },
        "id": "DH-rym-QOv_u",
        "outputId": "2ade119e-3b0b-475a-fa33-139dcf93fa7c"
      },
      "execution_count": 16,
      "outputs": [
        {
          "output_type": "stream",
          "name": "stdout",
          "text": [
            "Epoch 1/10\n",
            "1719/1719 [==============================] - 56s 32ms/step - loss: 0.7232 - accuracy: 0.7426 - val_loss: 0.5560 - val_accuracy: 0.7994\n",
            "Epoch 2/10\n",
            "1719/1719 [==============================] - 48s 28ms/step - loss: 0.4839 - accuracy: 0.8239 - val_loss: 0.4127 - val_accuracy: 0.8594\n",
            "Epoch 3/10\n",
            "1719/1719 [==============================] - 51s 29ms/step - loss: 0.4248 - accuracy: 0.8466 - val_loss: 0.6193 - val_accuracy: 0.7568\n",
            "Epoch 4/10\n",
            "1719/1719 [==============================] - 52s 30ms/step - loss: 0.3883 - accuracy: 0.8602 - val_loss: 0.3557 - val_accuracy: 0.8768\n",
            "Epoch 5/10\n",
            "1719/1719 [==============================] - 49s 28ms/step - loss: 0.3599 - accuracy: 0.8689 - val_loss: 0.3441 - val_accuracy: 0.8790\n",
            "Epoch 6/10\n",
            "1719/1719 [==============================] - 49s 29ms/step - loss: 0.3350 - accuracy: 0.8782 - val_loss: 0.3294 - val_accuracy: 0.8852\n",
            "Epoch 7/10\n",
            "1719/1719 [==============================] - 46s 27ms/step - loss: 0.3173 - accuracy: 0.8850 - val_loss: 0.3331 - val_accuracy: 0.8824\n",
            "Epoch 8/10\n",
            "1719/1719 [==============================] - 49s 29ms/step - loss: 0.3020 - accuracy: 0.8891 - val_loss: 0.3545 - val_accuracy: 0.8712\n",
            "Epoch 9/10\n",
            "1719/1719 [==============================] - 48s 28ms/step - loss: 0.2879 - accuracy: 0.8951 - val_loss: 0.3041 - val_accuracy: 0.8890\n",
            "Epoch 10/10\n",
            "1719/1719 [==============================] - 47s 28ms/step - loss: 0.2762 - accuracy: 0.8984 - val_loss: 0.2948 - val_accuracy: 0.8930\n"
          ]
        }
      ]
    },
    {
      "cell_type": "code",
      "source": [
        "import pandas as pd\n",
        "pd.DataFrame(model_history.history).plot(figsize=(8, 5))\n",
        "plt.grid(True)\n",
        "plt.gca().set_ylim(0, 1)\n",
        "plt.show()"
      ],
      "metadata": {
        "colab": {
          "base_uri": "https://localhost:8080/",
          "height": 451
        },
        "id": "y_ikrOIIO78S",
        "outputId": "4921679e-af61-4250-bc90-23c6cb4f6cb1"
      },
      "execution_count": 17,
      "outputs": [
        {
          "output_type": "display_data",
          "data": {
            "text/plain": [
              "<Figure size 800x500 with 1 Axes>"
            ],
            "image/png": "[encoded data removed]"
          },
          "metadata": {}
        }
      ]
    },
    {
      "cell_type": "code",
      "source": [
        "ev = model.evaluate(X_test_n, y_test)"
      ],
      "metadata": {
        "colab": {
          "base_uri": "https://localhost:8080/"
        },
        "id": "ILH1RwDwPWO1",
        "outputId": "45133f3d-acb3-45c8-a77f-907dcd082d7c"
      },
      "execution_count": 18,
      "outputs": [
        {
          "output_type": "stream",
          "name": "stdout",
          "text": [
            "313/313 [==============================] - 3s 8ms/step - loss: 0.3134 - accuracy: 0.8827\n"
          ]
        }
      ]
    },
    {
      "cell_type": "code",
      "source": [
        "ev"
      ],
      "metadata": {
        "colab": {
          "base_uri": "https://localhost:8080/"
        },
        "id": "Fyn1RsRVPpeR",
        "outputId": "1694698a-107b-49b6-febd-2dbf752aedf0"
      },
      "execution_count": 19,
      "outputs": [
        {
          "output_type": "execute_result",
          "data": {
            "text/plain": [
              "[0.3133699297904968, 0.8827000260353088]"
            ]
          },
          "metadata": {},
          "execution_count": 19
        }
      ]
    },
    {
      "cell_type": "code",
      "source": [
        "X_new = X_test[:3]"
      ],
      "metadata": {
        "id": "KO8zAYw2PrKT"
      },
      "execution_count": 20,
      "outputs": []
    },
    {
      "cell_type": "code",
      "source": [
        "y_pred = model.predict(X_new)\n",
        "y_pred"
      ],
      "metadata": {
        "colab": {
          "base_uri": "https://localhost:8080/"
        },
        "id": "okMZoWeaQC3-",
        "outputId": "46ac3d10-6566-42dd-ef50-3611e17844b2"
      },
      "execution_count": 22,
      "outputs": [
        {
          "output_type": "stream",
          "name": "stdout",
          "text": [
            "1/1 [==============================] - 0s 134ms/step\n"
          ]
        },
        {
          "output_type": "execute_result",
          "data": {
            "text/plain": [
              "array([[3.4331319e-05, 1.2793068e-06, 1.0844551e-05, 5.5640423e-05,\n",
              "        1.8974893e-05, 3.3344021e-03, 1.8874169e-05, 2.1927696e-02,\n",
              "        2.0344474e-03, 9.7256351e-01],\n",
              "       [1.3941948e-05, 5.3934226e-09, 9.9961889e-01, 7.6066198e-07,\n",
              "        7.9354817e-05, 2.0000268e-09, 2.8708702e-04, 2.3201854e-10,\n",
              "        4.4320618e-08, 8.9871860e-10],\n",
              "       [3.2184047e-07, 9.9998415e-01, 3.4215319e-08, 6.4225537e-06,\n",
              "        8.8396737e-06, 2.4550526e-09, 1.8265067e-07, 2.6411460e-09,\n",
              "        3.6488956e-09, 1.7972695e-08]], dtype=float32)"
            ]
          },
          "metadata": {},
          "execution_count": 22
        }
      ]
    },
    {
      "cell_type": "code",
      "source": [
        "y_test[:3]"
      ],
      "metadata": {
        "colab": {
          "base_uri": "https://localhost:8080/"
        },
        "id": "Is0PCbiIQTC-",
        "outputId": "17a6d3e2-6999-4ceb-cfca-15bcf7c1dab5"
      },
      "execution_count": 23,
      "outputs": [
        {
          "output_type": "execute_result",
          "data": {
            "text/plain": [
              "array([9, 2, 1], dtype=uint8)"
            ]
          },
          "metadata": {},
          "execution_count": 23
        }
      ]
    },
    {
      "cell_type": "code",
      "source": [
        "plt.imshow(X_new[0].reshape(28, 28))\n",
        "plt.show()"
      ],
      "metadata": {
        "colab": {
          "base_uri": "https://localhost:8080/",
          "height": 430
        },
        "id": "ER5An2WNQUyk",
        "outputId": "e2a93a92-be05-419d-9ad6-7e692e775509"
      },
      "execution_count": 24,
      "outputs": [
        {
          "output_type": "display_data",
          "data": {
            "text/plain": [
              "<Figure size 640x480 with 1 Axes>"
            ],
            "image/png": "[encoded data removed]"
          },
          "metadata": {}
        }
      ]
    },
    {
      "cell_type": "code",
      "source": [
        "plt.imshow(X_new[1].reshape(28, 28))\n",
        "plt.show()"
      ],
      "metadata": {
        "colab": {
          "base_uri": "https://localhost:8080/",
          "height": 430
        },
        "id": "fMDAkZ_rRhtA",
        "outputId": "b0cd6fb4-6449-474a-ed74-01a5d063e8ce"
      },
      "execution_count": 25,
      "outputs": [
        {
          "output_type": "display_data",
          "data": {
            "text/plain": [
              "<Figure size 640x480 with 1 Axes>"
            ],
            "image/png": "[encoded data removed]"
          },
          "metadata": {}
        }
      ]
    },
    {
      "cell_type": "code",
      "source": [
        "plt.imshow(X_new[2].reshape(28, 28))\n",
        "plt.show()"
      ],
      "metadata": {
        "colab": {
          "base_uri": "https://localhost:8080/",
          "height": 430
        },
        "id": "tYjsDAtFRmma",
        "outputId": "96ee9ec9-fe40-4d88-a324-3ff323777c6d"
      },
      "execution_count": 26,
      "outputs": [
        {
          "output_type": "display_data",
          "data": {
            "text/plain": [
              "<Figure size 640x480 with 1 Axes>"
            ],
            "image/png": "[encoded data removed]"
          },
          "metadata": {}
        }
      ]
    }
  ]
}