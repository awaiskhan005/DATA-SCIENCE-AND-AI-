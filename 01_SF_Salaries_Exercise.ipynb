# Import pandas as pd.
import pandas as pd

# Read Salaries.csv as a dataframe called sal.
sal = pd.read_csv('/content/sample_data/Salaries.csv')

# Check the head of the DataFrame.
sal.head(5)

# Use the .info() method to find out how many entries there are.
sal.info()

# What is the average BasePay ?
