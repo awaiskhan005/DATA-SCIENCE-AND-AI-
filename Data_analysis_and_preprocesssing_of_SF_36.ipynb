{
  "nbformat": 4,
  "nbformat_minor": 0,
  "metadata": {
    "colab": {
      "provenance": [],
      "authorship_tag": "ABX9TyPxhPRYp3S2NXhULxssqKIU",
      "include_colab_link": true
    },
    "kernelspec": {
      "name": "python3",
      "display_name": "Python 3"
    },
    "language_info": {
      "name": "python"
    }
  },
  "cells": [
    {
      "cell_type": "markdown",
      "metadata": {
        "id": "view-in-github",
        "colab_type": "text"
      },
      "source": [
        "<a href=\"https://colab.research.google.com/github/awaiskhan005/DATA-SCIENCE-AND-AI-/blob/main/Data_analysis_and_preprocesssing_of_SF_36.ipynb\" target=\"_parent\"><img src=\"https://colab.research.google.com/assets/colab-badge.svg\" alt=\"Open In Colab\"/></a>"
      ]
    },
    {
      "cell_type": "markdown",
      "source": [
        "# **Introduction**\n",
        "\n",
        "The clinical study aimed to investigate the safety and efficacy of cannabigerol (CBG) consumption in healthy adults. The study's null hypothesis posited that CBG has no effect on the measured metrics. Data was collected from three sources: bloodwork results, MSQ survey results, and SF-36 survey results. Due to a high percentage of missing data (around 57%), the focus was on imputing and validating the SF-36 dataset to prepare it for final data analysis."
      ],
      "metadata": {
        "id": "gaoTrAaJS6vT"
      }
    },
    {
      "cell_type": "markdown",
      "source": [
        "# **Data Analysis Plan**\n",
        "\n",
        "The data analysis involved several key steps.\n",
        "\n",
        "Loading the Dataset: Importing the SF-36 dataset into the analysis environment.\n",
        "\n",
        "Exploring the Dataset: Understanding the structure and extent of missing data.\n",
        "Imputation of Missing Data: Using MICE, KNN, and GBR methods to impute missing values.\n",
        "\n",
        "Validation of Imputed Data: Ensuring the imputed data aligns well with the original dataset using statistical validation techniques.\n",
        "\n",
        "Checking for Remaining Missing Values: Verifying that the imputation process successfully handled all missing data."
      ],
      "metadata": {
        "id": "WKn9T_tZTDPu"
      }
    },
    {
      "cell_type": "markdown",
      "source": [
        "## *Import necessary libraries*"
      ],
      "metadata": {
        "id": "bM56GwxkTXVp"
      }
    },
    {
      "cell_type": "code",
      "source": [
        "import pandas as pd\n",
        "from sklearn.experimental import enable_iterative_imputer\n",
        "from sklearn.impute import IterativeImputer\n",
        "from sklearn.impute import KNNImputer\n",
        "from sklearn.ensemble import GradientBoostingRegressor\n",
        "from sklearn.metrics import mean_squared_error\n",
        "import numpy as np"
      ],
      "metadata": {
        "id": "lDZUvDEaTTqe"
      },
      "execution_count": 7,
      "outputs": []
    },
    {
      "cell_type": "markdown",
      "source": [
        "# Load the dataset\n",
        "Display the first few rows of the dataset"
      ],
      "metadata": {
        "id": "3jKkJtgfTgdt"
      }
    },
    {
      "cell_type": "code",
      "source": [],
      "metadata": {
        "id": "-kBxPEQ5QQkC"
      },
      "execution_count": 7,
      "outputs": []
    },
    {
      "cell_type": "code",
      "execution_count": 8,
      "metadata": {
        "colab": {
          "base_uri": "https://localhost:8080/",
          "height": 226
        },
        "id": "g2JPDEO_K0gG",
        "outputId": "8145cd42-8a2e-4142-d7ab-bdaacc3332a0"
      },
      "outputs": [
        {
          "output_type": "execute_result",
          "data": {
            "text/plain": [
              "    NEW_PID  RESPONSE  PHYSICAL_FUNCTIONING  PHYSICAL_LIMITATIONS  \\\n",
              "0  79801449         1                 100.0                 100.0   \n",
              "1  79801449         2                  95.0                 100.0   \n",
              "2  79801449         3                  95.0                 100.0   \n",
              "3  79801449         4                   NaN                   NaN   \n",
              "4  79801449         5                  95.0                 100.0   \n",
              "\n",
              "   EMOTIONAL_LIMITATIONS  ENERGY_FATIGUE  EMOTIONAL_WB  SOCIAL_FUNCTIONING  \\\n",
              "0                  100.0            70.0          92.0                90.0   \n",
              "1                  100.0            40.0          84.0                80.0   \n",
              "2                  100.0            55.0          84.0                80.0   \n",
              "3                    NaN             NaN           NaN                 NaN   \n",
              "4                  100.0            60.0          88.0                90.0   \n",
              "\n",
              "   PAIN  GENERAL_HEALTH  TOTAL_SF_36  \n",
              "0  90.0            85.0       90.875  \n",
              "1  80.0            70.0       81.125  \n",
              "2  80.0            65.0       82.375  \n",
              "3   NaN             NaN          NaN  \n",
              "4  90.0            80.0       87.875  "
            ],
            "text/html": [
              "\n",
              "  <div id=\"df-c69d5136-56e9-4f6c-a059-39f61f08d413\" class=\"colab-df-container\">\n",
              "    <div>\n",
              "<style scoped>\n",
              "    .dataframe tbody tr th:only-of-type {\n",
              "        vertical-align: middle;\n",
              "    }\n",
              "\n",
              "    .dataframe tbody tr th {\n",
              "        vertical-align: top;\n",
              "    }\n",
              "\n",
              "    .dataframe thead th {\n",
              "        text-align: right;\n",
              "    }\n",
              "</style>\n",
              "<table border=\"1\" class=\"dataframe\">\n",
              "  <thead>\n",
              "    <tr style=\"text-align: right;\">\n",
              "      <th></th>\n",
              "      <th>NEW_PID</th>\n",
              "      <th>RESPONSE</th>\n",
              "      <th>PHYSICAL_FUNCTIONING</th>\n",
              "      <th>PHYSICAL_LIMITATIONS</th>\n",
              "      <th>EMOTIONAL_LIMITATIONS</th>\n",
              "      <th>ENERGY_FATIGUE</th>\n",
              "      <th>EMOTIONAL_WB</th>\n",
              "      <th>SOCIAL_FUNCTIONING</th>\n",
              "      <th>PAIN</th>\n",
              "      <th>GENERAL_HEALTH</th>\n",
              "      <th>TOTAL_SF_36</th>\n",
              "    </tr>\n",
              "  </thead>\n",
              "  <tbody>\n",
              "    <tr>\n",
              "      <th>0</th>\n",
              "      <td>79801449</td>\n",
              "      <td>1</td>\n",
              "      <td>100.0</td>\n",
              "      <td>100.0</td>\n",
              "      <td>100.0</td>\n",
              "      <td>70.0</td>\n",
              "      <td>92.0</td>\n",
              "      <td>90.0</td>\n",
              "      <td>90.0</td>\n",
              "      <td>85.0</td>\n",
              "      <td>90.875</td>\n",
              "    </tr>\n",
              "    <tr>\n",
              "      <th>1</th>\n",
              "      <td>79801449</td>\n",
              "      <td>2</td>\n",
              "      <td>95.0</td>\n",
              "      <td>100.0</td>\n",
              "      <td>100.0</td>\n",
              "      <td>40.0</td>\n",
              "      <td>84.0</td>\n",
              "      <td>80.0</td>\n",
              "      <td>80.0</td>\n",
              "      <td>70.0</td>\n",
              "      <td>81.125</td>\n",
              "    </tr>\n",
              "    <tr>\n",
              "      <th>2</th>\n",
              "      <td>79801449</td>\n",
              "      <td>3</td>\n",
              "      <td>95.0</td>\n",
              "      <td>100.0</td>\n",
              "      <td>100.0</td>\n",
              "      <td>55.0</td>\n",
              "      <td>84.0</td>\n",
              "      <td>80.0</td>\n",
              "      <td>80.0</td>\n",
              "      <td>65.0</td>\n",
              "      <td>82.375</td>\n",
              "    </tr>\n",
              "    <tr>\n",
              "      <th>3</th>\n",
              "      <td>79801449</td>\n",
              "      <td>4</td>\n",
              "      <td>NaN</td>\n",
              "      <td>NaN</td>\n",
              "      <td>NaN</td>\n",
              "      <td>NaN</td>\n",
              "      <td>NaN</td>\n",
              "      <td>NaN</td>\n",
              "      <td>NaN</td>\n",
              "      <td>NaN</td>\n",
              "      <td>NaN</td>\n",
              "    </tr>\n",
              "    <tr>\n",
              "      <th>4</th>\n",
              "      <td>79801449</td>\n",
              "      <td>5</td>\n",
              "      <td>95.0</td>\n",
              "      <td>100.0</td>\n",
              "      <td>100.0</td>\n",
              "      <td>60.0</td>\n",
              "      <td>88.0</td>\n",
              "      <td>90.0</td>\n",
              "      <td>90.0</td>\n",
              "      <td>80.0</td>\n",
              "      <td>87.875</td>\n",
              "    </tr>\n",
              "  </tbody>\n",
              "</table>\n",
              "</div>\n",
              "    <div class=\"colab-df-buttons\">\n",
              "\n",
              "  <div class=\"colab-df-container\">\n",
              "    <button class=\"colab-df-convert\" onclick=\"convertToInteractive('df-c69d5136-56e9-4f6c-a059-39f61f08d413')\"\n",
              "            title=\"Convert this dataframe to an interactive table.\"\n",
              "            style=\"display:none;\">\n",
              "\n",
              "  <svg xmlns=\"http://www.w3.org/2000/svg\" height=\"24px\" viewBox=\"0 -960 960 960\">\n",
              "    <path d=\"M120-120v-720h720v720H120Zm60-500h600v-160H180v160Zm220 220h160v-160H400v160Zm0 220h160v-160H400v160ZM180-400h160v-160H180v160Zm440 0h160v-160H620v160ZM180-180h160v-160H180v160Zm440 0h160v-160H620v160Z\"/>\n",
              "  </svg>\n",
              "    </button>\n",
              "\n",
              "  <style>\n",
              "    .colab-df-container {\n",
              "      display:flex;\n",
              "      gap: 12px;\n",
              "    }\n",
              "\n",
              "    .colab-df-convert {\n",
              "      background-color: #E8F0FE;\n",
              "      border: none;\n",
              "      border-radius: 50%;\n",
              "      cursor: pointer;\n",
              "      display: none;\n",
              "      fill: #1967D2;\n",
              "      height: 32px;\n",
              "      padding: 0 0 0 0;\n",
              "      width: 32px;\n",
              "    }\n",
              "\n",
              "    .colab-df-convert:hover {\n",
              "      background-color: #E2EBFA;\n",
              "      box-shadow: 0px 1px 2px rgba(60, 64, 67, 0.3), 0px 1px 3px 1px rgba(60, 64, 67, 0.15);\n",
              "      fill: #174EA6;\n",
              "    }\n",
              "\n",
              "    .colab-df-buttons div {\n",
              "      margin-bottom: 4px;\n",
              "    }\n",
              "\n",
              "    [theme=dark] .colab-df-convert {\n",
              "      background-color: #3B4455;\n",
              "      fill: #D2E3FC;\n",
              "    }\n",
              "\n",
              "    [theme=dark] .colab-df-convert:hover {\n",
              "      background-color: #434B5C;\n",
              "      box-shadow: 0px 1px 3px 1px rgba(0, 0, 0, 0.15);\n",
              "      filter: drop-shadow(0px 1px 2px rgba(0, 0, 0, 0.3));\n",
              "      fill: #FFFFFF;\n",
              "    }\n",
              "  </style>\n",
              "\n",
              "    <script>\n",
              "      const buttonEl =\n",
              "        document.querySelector('#df-c69d5136-56e9-4f6c-a059-39f61f08d413 button.colab-df-convert');\n",
              "      buttonEl.style.display =\n",
              "        google.colab.kernel.accessAllowed ? 'block' : 'none';\n",
              "\n",
              "      async function convertToInteractive(key) {\n",
              "        const element = document.querySelector('#df-c69d5136-56e9-4f6c-a059-39f61f08d413');\n",
              "        const dataTable =\n",
              "          await google.colab.kernel.invokeFunction('convertToInteractive',\n",
              "                                                    [key], {});\n",
              "        if (!dataTable) return;\n",
              "\n",
              "        const docLinkHtml = 'Like what you see? Visit the ' +\n",
              "          '<a target=\"_blank\" href=https://colab.research.google.com/notebooks/data_table.ipynb>data table notebook</a>'\n",
              "          + ' to learn more about interactive tables.';\n",
              "        element.innerHTML = '';\n",
              "        dataTable['output_type'] = 'display_data';\n",
              "        await google.colab.output.renderOutput(dataTable, element);\n",
              "        const docLink = document.createElement('div');\n",
              "        docLink.innerHTML = docLinkHtml;\n",
              "        element.appendChild(docLink);\n",
              "      }\n",
              "    </script>\n",
              "  </div>\n",
              "\n",
              "\n",
              "<div id=\"df-5c450726-8bed-40d6-9ea0-26406cf6d3b8\">\n",
              "  <button class=\"colab-df-quickchart\" onclick=\"quickchart('df-5c450726-8bed-40d6-9ea0-26406cf6d3b8')\"\n",
              "            title=\"Suggest charts\"\n",
              "            style=\"display:none;\">\n",
              "\n",
              "<svg xmlns=\"http://www.w3.org/2000/svg\" height=\"24px\"viewBox=\"0 0 24 24\"\n",
              "     width=\"24px\">\n",
              "    <g>\n",
              "        <path d=\"M19 3H5c-1.1 0-2 .9-2 2v14c0 1.1.9 2 2 2h14c1.1 0 2-.9 2-2V5c0-1.1-.9-2-2-2zM9 17H7v-7h2v7zm4 0h-2V7h2v10zm4 0h-2v-4h2v4z\"/>\n",
              "    </g>\n",
              "</svg>\n",
              "  </button>\n",
              "\n",
              "<style>\n",
              "  .colab-df-quickchart {\n",
              "      --bg-color: #E8F0FE;\n",
              "      --fill-color: #1967D2;\n",
              "      --hover-bg-color: #E2EBFA;\n",
              "      --hover-fill-color: #174EA6;\n",
              "      --disabled-fill-color: #AAA;\n",
              "      --disabled-bg-color: #DDD;\n",
              "  }\n",
              "\n",
              "  [theme=dark] .colab-df-quickchart {\n",
              "      --bg-color: #3B4455;\n",
              "      --fill-color: #D2E3FC;\n",
              "      --hover-bg-color: #434B5C;\n",
              "      --hover-fill-color: #FFFFFF;\n",
              "      --disabled-bg-color: #3B4455;\n",
              "      --disabled-fill-color: #666;\n",
              "  }\n",
              "\n",
              "  .colab-df-quickchart {\n",
              "    background-color: var(--bg-color);\n",
              "    border: none;\n",
              "    border-radius: 50%;\n",
              "    cursor: pointer;\n",
              "    display: none;\n",
              "    fill: var(--fill-color);\n",
              "    height: 32px;\n",
              "    padding: 0;\n",
              "    width: 32px;\n",
              "  }\n",
              "\n",
              "  .colab-df-quickchart:hover {\n",
              "    background-color: var(--hover-bg-color);\n",
              "    box-shadow: 0 1px 2px rgba(60, 64, 67, 0.3), 0 1px 3px 1px rgba(60, 64, 67, 0.15);\n",
              "    fill: var(--button-hover-fill-color);\n",
              "  }\n",
              "\n",
              "  .colab-df-quickchart-complete:disabled,\n",
              "  .colab-df-quickchart-complete:disabled:hover {\n",
              "    background-color: var(--disabled-bg-color);\n",
              "    fill: var(--disabled-fill-color);\n",
              "    box-shadow: none;\n",
              "  }\n",
              "\n",
              "  .colab-df-spinner {\n",
              "    border: 2px solid var(--fill-color);\n",
              "    border-color: transparent;\n",
              "    border-bottom-color: var(--fill-color);\n",
              "    animation:\n",
              "      spin 1s steps(1) infinite;\n",
              "  }\n",
              "\n",
              "  @keyframes spin {\n",
              "    0% {\n",
              "      border-color: transparent;\n",
              "      border-bottom-color: var(--fill-color);\n",
              "      border-left-color: var(--fill-color);\n",
              "    }\n",
              "    20% {\n",
              "      border-color: transparent;\n",
              "      border-left-color: var(--fill-color);\n",
              "      border-top-color: var(--fill-color);\n",
              "    }\n",
              "    30% {\n",
              "      border-color: transparent;\n",
              "      border-left-color: var(--fill-color);\n",
              "      border-top-color: var(--fill-color);\n",
              "      border-right-color: var(--fill-color);\n",
              "    }\n",
              "    40% {\n",
              "      border-color: transparent;\n",
              "      border-right-color: var(--fill-color);\n",
              "      border-top-color: var(--fill-color);\n",
              "    }\n",
              "    60% {\n",
              "      border-color: transparent;\n",
              "      border-right-color: var(--fill-color);\n",
              "    }\n",
              "    80% {\n",
              "      border-color: transparent;\n",
              "      border-right-color: var(--fill-color);\n",
              "      border-bottom-color: var(--fill-color);\n",
              "    }\n",
              "    90% {\n",
              "      border-color: transparent;\n",
              "      border-bottom-color: var(--fill-color);\n",
              "    }\n",
              "  }\n",
              "</style>\n",
              "\n",
              "  <script>\n",
              "    async function quickchart(key) {\n",
              "      const quickchartButtonEl =\n",
              "        document.querySelector('#' + key + ' button');\n",
              "      quickchartButtonEl.disabled = true;  // To prevent multiple clicks.\n",
              "      quickchartButtonEl.classList.add('colab-df-spinner');\n",
              "      try {\n",
              "        const charts = await google.colab.kernel.invokeFunction(\n",
              "            'suggestCharts', [key], {});\n",
              "      } catch (error) {\n",
              "        console.error('Error during call to suggestCharts:', error);\n",
              "      }\n",
              "      quickchartButtonEl.classList.remove('colab-df-spinner');\n",
              "      quickchartButtonEl.classList.add('colab-df-quickchart-complete');\n",
              "    }\n",
              "    (() => {\n",
              "      let quickchartButtonEl =\n",
              "        document.querySelector('#df-5c450726-8bed-40d6-9ea0-26406cf6d3b8 button');\n",
              "      quickchartButtonEl.style.display =\n",
              "        google.colab.kernel.accessAllowed ? 'block' : 'none';\n",
              "    })();\n",
              "  </script>\n",
              "</div>\n",
              "\n",
              "    </div>\n",
              "  </div>\n"
            ],
            "application/vnd.google.colaboratory.intrinsic+json": {
              "type": "dataframe",
              "variable_name": "sf36_data",
              "summary": "{\n  \"name\": \"sf36_data\",\n  \"rows\": 601,\n  \"fields\": [\n    {\n      \"column\": \"NEW_PID\",\n      \"properties\": {\n        \"dtype\": \"number\",\n        \"std\": 35513910,\n        \"min\": 503452,\n        \"max\": 99901442,\n        \"num_unique_values\": 75,\n        \"samples\": [\n          79905449,\n          13555455,\n          14112459\n        ],\n        \"semantic_type\": \"\",\n        \"description\": \"\"\n      }\n    },\n    {\n      \"column\": \"RESPONSE\",\n      \"properties\": {\n        \"dtype\": \"number\",\n        \"std\": 2,\n        \"min\": 1,\n        \"max\": 8,\n        \"num_unique_values\": 8,\n        \"samples\": [\n          2,\n          6,\n          1\n        ],\n        \"semantic_type\": \"\",\n        \"description\": \"\"\n      }\n    },\n    {\n      \"column\": \"PHYSICAL_FUNCTIONING\",\n      \"properties\": {\n        \"dtype\": \"number\",\n        \"std\": 19.316359527725563,\n        \"min\": 0.0,\n        \"max\": 100.0,\n        \"num_unique_values\": 19,\n        \"samples\": [\n          100.0,\n          75.0,\n          15.0\n        ],\n        \"semantic_type\": \"\",\n        \"description\": \"\"\n      }\n    },\n    {\n      \"column\": \"PHYSICAL_LIMITATIONS\",\n      \"properties\": {\n        \"dtype\": \"number\",\n        \"std\": 32.48587457926712,\n        \"min\": 0.0,\n        \"max\": 100.0,\n        \"num_unique_values\": 5,\n        \"samples\": [\n          75.0,\n          50.0,\n          25.0\n        ],\n        \"semantic_type\": \"\",\n        \"description\": \"\"\n      }\n    },\n    {\n      \"column\": \"EMOTIONAL_LIMITATIONS\",\n      \"properties\": {\n        \"dtype\": \"number\",\n        \"std\": 32.917179727830515,\n        \"min\": 0.0,\n        \"max\": 100.0,\n        \"num_unique_values\": 4,\n        \"samples\": [\n          66.66666667,\n          33.33333333,\n          100.0\n        ],\n        \"semantic_type\": \"\",\n        \"description\": \"\"\n      }\n    },\n    {\n      \"column\": \"ENERGY_FATIGUE\",\n      \"properties\": {\n        \"dtype\": \"number\",\n        \"std\": 22.2140528618958,\n        \"min\": 0.0,\n        \"max\": 100.0,\n        \"num_unique_values\": 21,\n        \"samples\": [\n          70.0,\n          15.0,\n          35.0\n        ],\n        \"semantic_type\": \"\",\n        \"description\": \"\"\n      }\n    },\n    {\n      \"column\": \"EMOTIONAL_WB\",\n      \"properties\": {\n        \"dtype\": \"number\",\n        \"std\": 16.43764346607694,\n        \"min\": 24.0,\n        \"max\": 100.0,\n        \"num_unique_values\": 20,\n        \"samples\": [\n          92.0,\n          28.0,\n          40.0\n        ],\n        \"semantic_type\": \"\",\n        \"description\": \"\"\n      }\n    },\n    {\n      \"column\": \"SOCIAL_FUNCTIONING\",\n      \"properties\": {\n        \"dtype\": \"number\",\n        \"std\": 18.221650698421737,\n        \"min\": 22.5,\n        \"max\": 100.0,\n        \"num_unique_values\": 20,\n        \"samples\": [\n          90.0,\n          30.0,\n          42.5\n        ],\n        \"semantic_type\": \"\",\n        \"description\": \"\"\n      }\n    },\n    {\n      \"column\": \"PAIN\",\n      \"properties\": {\n        \"dtype\": \"number\",\n        \"std\": 18.26592697892782,\n        \"min\": 22.5,\n        \"max\": 100.0,\n        \"num_unique_values\": 14,\n        \"samples\": [\n          22.5,\n          32.5,\n          90.0\n        ],\n        \"semantic_type\": \"\",\n        \"description\": \"\"\n      }\n    },\n    {\n      \"column\": \"GENERAL_HEALTH\",\n      \"properties\": {\n        \"dtype\": \"number\",\n        \"std\": 15.545429963412053,\n        \"min\": 20.0,\n        \"max\": 100.0,\n        \"num_unique_values\": 17,\n        \"samples\": [\n          85.0,\n          70.0,\n          100.0\n        ],\n        \"semantic_type\": \"\",\n        \"description\": \"\"\n      }\n    },\n    {\n      \"column\": \"TOTAL_SF_36\",\n      \"properties\": {\n        \"dtype\": \"number\",\n        \"std\": 15.721568360594997,\n        \"min\": 29.5,\n        \"max\": 98.75,\n        \"num_unique_values\": 217,\n        \"samples\": [\n          58.875,\n          72.9375,\n          41.60416667\n        ],\n        \"semantic_type\": \"\",\n        \"description\": \"\"\n      }\n    }\n  ]\n}"
            }
          },
          "metadata": {},
          "execution_count": 8
        }
      ],
      "source": [
        "import pandas as pd\n",
        "file_path = '/content/sample_data/SF_36_DATA.csv'\n",
        "sf36_data = pd.read_csv(file_path)\n",
        "sf36_data.head()"
      ]
    },
    {
      "cell_type": "markdown",
      "source": [
        "# Demographies of variables"
      ],
      "metadata": {
        "id": "VsqRGETGTkZD"
      }
    },
    {
      "cell_type": "code",
      "source": [
        "sf36_data.info()"
      ],
      "metadata": {
        "colab": {
          "base_uri": "https://localhost:8080/"
        },
        "id": "CsCpxkc-MSw_",
        "outputId": "36df635a-2edc-4384-fc5f-3b15116d679a"
      },
      "execution_count": 9,
      "outputs": [
        {
          "output_type": "stream",
          "name": "stdout",
          "text": [
            "<class 'pandas.core.frame.DataFrame'>\n",
            "RangeIndex: 601 entries, 0 to 600\n",
            "Data columns (total 11 columns):\n",
            " #   Column                 Non-Null Count  Dtype  \n",
            "---  ------                 --------------  -----  \n",
            " 0   NEW_PID                601 non-null    int64  \n",
            " 1   RESPONSE               601 non-null    int64  \n",
            " 2   PHYSICAL_FUNCTIONING   253 non-null    float64\n",
            " 3   PHYSICAL_LIMITATIONS   253 non-null    float64\n",
            " 4   EMOTIONAL_LIMITATIONS  253 non-null    float64\n",
            " 5   ENERGY_FATIGUE         253 non-null    float64\n",
            " 6   EMOTIONAL_WB           253 non-null    float64\n",
            " 7   SOCIAL_FUNCTIONING     253 non-null    float64\n",
            " 8   PAIN                   253 non-null    float64\n",
            " 9   GENERAL_HEALTH         253 non-null    float64\n",
            " 10  TOTAL_SF_36            253 non-null    float64\n",
            "dtypes: float64(9), int64(2)\n",
            "memory usage: 51.8 KB\n"
          ]
        }
      ]
    },
    {
      "cell_type": "markdown",
      "source": [
        "# visualize the null values of data using matplotlib and plotly other than heatmap with labels"
      ],
      "metadata": {
        "id": "ZAxzZAfBHApg"
      }
    },
    {
      "cell_type": "code",
      "source": [
        "import matplotlib.pyplot as plt\n",
        "import plotly.express as px"
      ],
      "metadata": {
        "id": "COhezmcutHCh"
      },
      "execution_count": 10,
      "outputs": []
    },
    {
      "cell_type": "code",
      "source": [
        "# Calculate missing value counts for each column\n",
        "missing_values = sf36_data.isnull().sum()\n",
        "\n",
        "# Matplotlib bar plot\n",
        "plt.figure(figsize=(12, 6))\n",
        "missing_values.plot(kind='bar')\n",
        "plt.xlabel('Columns')\n",
        "plt.ylabel('Number of Missing Values')\n",
        "plt.title('Missing Values by Column (Matplotlib)')\n",
        "plt.xticks(rotation=45, ha='right')\n",
        "plt.tight_layout()\n",
        "plt.show()\n",
        "\n",
        "# Plotly bar plot\n",
        "fig = px.bar(x=missing_values.index, y=missing_values.values,\n",
        "             labels={'x': 'Columns', 'y': 'Number of Missing Values'})\n",
        "fig.update_layout(title='Missing Values by Column (Plotly)',\n",
        "                  xaxis_tickangle=-45)\n",
        "fig.show()\n"
      ],
      "metadata": {
        "colab": {
          "base_uri": "https://localhost:8080/",
          "height": 1000
        },
        "id": "H0yhq6zvGp6y",
        "outputId": "a90cf8ef-add3-4c95-9240-86e332977fa7"
      },
      "execution_count": 11,
      "outputs": [
        {
          "output_type": "display_data",
          "data": {
            "text/plain": [
              "<Figure size 1200x600 with 1 Axes>"
            ],
            "image/png": "[encoded data removed]"
          },
          "metadata": {}
        },
        {
          "output_type": "display_data",
          "data": {
            "text/html": [
              "<html>\n",
              "<head><meta charset=\"utf-8\" /></head>\n",
              "<body>\n",
              "    <div>            <script src=\"https://cdnjs.cloudflare.com/ajax/libs/mathjax/2.7.5/MathJax.js?config=TeX-AMS-MML_SVG\"></script><script type=\"text/javascript\">if (window.MathJax && window.MathJax.Hub && window.MathJax.Hub.Config) {window.MathJax.Hub.Config({SVG: {font: \"STIX-Web\"}});}</script>                <script type=\"text/javascript\">window.PlotlyConfig = {MathJaxConfig: 'local'};</script>\n",
              "        <script charset=\"utf-8\" src=\"https://cdn.plot.ly/plotly-2.24.1.min.js\"></script>                <div id=\"65d5bbe8-8096-4d25-838f-260865ffe44b\" class=\"plotly-graph-div\" style=\"height:525px; width:100%;\"></div>            <script type=\"text/javascript\">                                    window.PLOTLYENV=window.PLOTLYENV || {};                                    if (document.getElementById(\"65d5bbe8-8096-4d25-838f-260865ffe44b\")) {                    Plotly.newPlot(                        \"65d5bbe8-8096-4d25-838f-260865ffe44b\",                        [{\"alignmentgroup\":\"True\",\"hovertemplate\":\"Columns=%{x}\\u003cbr\\u003eNumber of Missing Values=%{y}\\u003cextra\\u003e\\u003c\\u002fextra\\u003e\",\"legendgroup\":\"\",\"marker\":{\"color\":\"#636efa\",\"pattern\":{\"shape\":\"\"}},\"name\":\"\",\"offsetgroup\":\"\",\"orientation\":\"v\",\"showlegend\":false,\"textposition\":\"auto\",\"x\":[\"NEW_PID\",\"RESPONSE\",\"PHYSICAL_FUNCTIONING\",\"PHYSICAL_LIMITATIONS\",\"EMOTIONAL_LIMITATIONS\",\"ENERGY_FATIGUE\",\"EMOTIONAL_WB\",\"SOCIAL_FUNCTIONING\",\"PAIN\",\"GENERAL_HEALTH\",\"TOTAL_SF_36\"],\"xaxis\":\"x\",\"y\":[0,0,348,348,348,348,348,348,348,348,348],\"yaxis\":\"y\",\"type\":\"bar\"}],                        {\"template\":{\"data\":{\"histogram2dcontour\":[{\"type\":\"histogram2dcontour\",\"colorbar\":{\"outlinewidth\":0,\"ticks\":\"\"},\"colorscale\":[[0.0,\"#0d0887\"],[0.1111111111111111,\"#46039f\"],[0.2222222222222222,\"#7201a8\"],[0.3333333333333333,\"#9c179e\"],[0.4444444444444444,\"#bd3786\"],[0.5555555555555556,\"#d8576b\"],[0.6666666666666666,\"#ed7953\"],[0.7777777777777778,\"#fb9f3a\"],[0.8888888888888888,\"#fdca26\"],[1.0,\"#f0f921\"]]}],\"choropleth\":[{\"type\":\"choropleth\",\"colorbar\":{\"outlinewidth\":0,\"ticks\":\"\"}}],\"histogram2d\":[{\"type\":\"histogram2d\",\"colorbar\":{\"outlinewidth\":0,\"ticks\":\"\"},\"colorscale\":[[0.0,\"#0d0887\"],[0.1111111111111111,\"#46039f\"],[0.2222222222222222,\"#7201a8\"],[0.3333333333333333,\"#9c179e\"],[0.4444444444444444,\"#bd3786\"],[0.5555555555555556,\"#d8576b\"],[0.6666666666666666,\"#ed7953\"],[0.7777777777777778,\"#fb9f3a\"],[0.8888888888888888,\"#fdca26\"],[1.0,\"#f0f921\"]]}],\"heatmap\":[{\"type\":\"heatmap\",\"colorbar\":{\"outlinewidth\":0,\"ticks\":\"\"},\"colorscale\":[[0.0,\"#0d0887\"],[0.1111111111111111,\"#46039f\"],[0.2222222222222222,\"#7201a8\"],[0.3333333333333333,\"#9c179e\"],[0.4444444444444444,\"#bd3786\"],[0.5555555555555556,\"#d8576b\"],[0.6666666666666666,\"#ed7953\"],[0.7777777777777778,\"#fb9f3a\"],[0.8888888888888888,\"#fdca26\"],[1.0,\"#f0f921\"]]}],\"heatmapgl\":[{\"type\":\"heatmapgl\",\"colorbar\":{\"outlinewidth\":0,\"ticks\":\"\"},\"colorscale\":[[0.0,\"#0d0887\"],[0.1111111111111111,\"#46039f\"],[0.2222222222222222,\"#7201a8\"],[0.3333333333333333,\"#9c179e\"],[0.4444444444444444,\"#bd3786\"],[0.5555555555555556,\"#d8576b\"],[0.6666666666666666,\"#ed7953\"],[0.7777777777777778,\"#fb9f3a\"],[0.8888888888888888,\"#fdca26\"],[1.0,\"#f0f921\"]]}],\"contourcarpet\":[{\"type\":\"contourcarpet\",\"colorbar\":{\"outlinewidth\":0,\"ticks\":\"\"}}],\"contour\":[{\"type\":\"contour\",\"colorbar\":{\"outlinewidth\":0,\"ticks\":\"\"},\"colorscale\":[[0.0,\"#0d0887\"],[0.1111111111111111,\"#46039f\"],[0.2222222222222222,\"#7201a8\"],[0.3333333333333333,\"#9c179e\"],[0.4444444444444444,\"#bd3786\"],[0.5555555555555556,\"#d8576b\"],[0.6666666666666666,\"#ed7953\"],[0.7777777777777778,\"#fb9f3a\"],[0.8888888888888888,\"#fdca26\"],[1.0,\"#f0f921\"]]}],\"surface\":[{\"type\":\"surface\",\"colorbar\":{\"outlinewidth\":0,\"ticks\":\"\"},\"colorscale\":[[0.0,\"#0d0887\"],[0.1111111111111111,\"#46039f\"],[0.2222222222222222,\"#7201a8\"],[0.3333333333333333,\"#9c179e\"],[0.4444444444444444,\"#bd3786\"],[0.5555555555555556,\"#d8576b\"],[0.6666666666666666,\"#ed7953\"],[0.7777777777777778,\"#fb9f3a\"],[0.8888888888888888,\"#fdca26\"],[1.0,\"#f0f921\"]]}],\"mesh3d\":[{\"type\":\"mesh3d\",\"colorbar\":{\"outlinewidth\":0,\"ticks\":\"\"}}],\"scatter\":[{\"fillpattern\":{\"fillmode\":\"overlay\",\"size\":10,\"solidity\":0.2},\"type\":\"scatter\"}],\"parcoords\":[{\"type\":\"parcoords\",\"line\":{\"colorbar\":{\"outlinewidth\":0,\"ticks\":\"\"}}}],\"scatterpolargl\":[{\"type\":\"scatterpolargl\",\"marker\":{\"colorbar\":{\"outlinewidth\":0,\"ticks\":\"\"}}}],\"bar\":[{\"error_x\":{\"color\":\"#2a3f5f\"},\"error_y\":{\"color\":\"#2a3f5f\"},\"marker\":{\"line\":{\"color\":\"#E5ECF6\",\"width\":0.5},\"pattern\":{\"fillmode\":\"overlay\",\"size\":10,\"solidity\":0.2}},\"type\":\"bar\"}],\"scattergeo\":[{\"type\":\"scattergeo\",\"marker\":{\"colorbar\":{\"outlinewidth\":0,\"ticks\":\"\"}}}],\"scatterpolar\":[{\"type\":\"scatterpolar\",\"marker\":{\"colorbar\":{\"outlinewidth\":0,\"ticks\":\"\"}}}],\"histogram\":[{\"marker\":{\"pattern\":{\"fillmode\":\"overlay\",\"size\":10,\"solidity\":0.2}},\"type\":\"histogram\"}],\"scattergl\":[{\"type\":\"scattergl\",\"marker\":{\"colorbar\":{\"outlinewidth\":0,\"ticks\":\"\"}}}],\"scatter3d\":[{\"type\":\"scatter3d\",\"line\":{\"colorbar\":{\"outlinewidth\":0,\"ticks\":\"\"}},\"marker\":{\"colorbar\":{\"outlinewidth\":0,\"ticks\":\"\"}}}],\"scattermapbox\":[{\"type\":\"scattermapbox\",\"marker\":{\"colorbar\":{\"outlinewidth\":0,\"ticks\":\"\"}}}],\"scatterternary\":[{\"type\":\"scatterternary\",\"marker\":{\"colorbar\":{\"outlinewidth\":0,\"ticks\":\"\"}}}],\"scattercarpet\":[{\"type\":\"scattercarpet\",\"marker\":{\"colorbar\":{\"outlinewidth\":0,\"ticks\":\"\"}}}],\"carpet\":[{\"aaxis\":{\"endlinecolor\":\"#2a3f5f\",\"gridcolor\":\"white\",\"linecolor\":\"white\",\"minorgridcolor\":\"white\",\"startlinecolor\":\"#2a3f5f\"},\"baxis\":{\"endlinecolor\":\"#2a3f5f\",\"gridcolor\":\"white\",\"linecolor\":\"white\",\"minorgridcolor\":\"white\",\"startlinecolor\":\"#2a3f5f\"},\"type\":\"carpet\"}],\"table\":[{\"cells\":{\"fill\":{\"color\":\"#EBF0F8\"},\"line\":{\"color\":\"white\"}},\"header\":{\"fill\":{\"color\":\"#C8D4E3\"},\"line\":{\"color\":\"white\"}},\"type\":\"table\"}],\"barpolar\":[{\"marker\":{\"line\":{\"color\":\"#E5ECF6\",\"width\":0.5},\"pattern\":{\"fillmode\":\"overlay\",\"size\":10,\"solidity\":0.2}},\"type\":\"barpolar\"}],\"pie\":[{\"automargin\":true,\"type\":\"pie\"}]},\"layout\":{\"autotypenumbers\":\"strict\",\"colorway\":[\"#636efa\",\"#EF553B\",\"#00cc96\",\"#ab63fa\",\"#FFA15A\",\"#19d3f3\",\"#FF6692\",\"#B6E880\",\"#FF97FF\",\"#FECB52\"],\"font\":{\"color\":\"#2a3f5f\"},\"hovermode\":\"closest\",\"hoverlabel\":{\"align\":\"left\"},\"paper_bgcolor\":\"white\",\"plot_bgcolor\":\"#E5ECF6\",\"polar\":{\"bgcolor\":\"#E5ECF6\",\"angularaxis\":{\"gridcolor\":\"white\",\"linecolor\":\"white\",\"ticks\":\"\"},\"radialaxis\":{\"gridcolor\":\"white\",\"linecolor\":\"white\",\"ticks\":\"\"}},\"ternary\":{\"bgcolor\":\"#E5ECF6\",\"aaxis\":{\"gridcolor\":\"white\",\"linecolor\":\"white\",\"ticks\":\"\"},\"baxis\":{\"gridcolor\":\"white\",\"linecolor\":\"white\",\"ticks\":\"\"},\"caxis\":{\"gridcolor\":\"white\",\"linecolor\":\"white\",\"ticks\":\"\"}},\"coloraxis\":{\"colorbar\":{\"outlinewidth\":0,\"ticks\":\"\"}},\"colorscale\":{\"sequential\":[[0.0,\"#0d0887\"],[0.1111111111111111,\"#46039f\"],[0.2222222222222222,\"#7201a8\"],[0.3333333333333333,\"#9c179e\"],[0.4444444444444444,\"#bd3786\"],[0.5555555555555556,\"#d8576b\"],[0.6666666666666666,\"#ed7953\"],[0.7777777777777778,\"#fb9f3a\"],[0.8888888888888888,\"#fdca26\"],[1.0,\"#f0f921\"]],\"sequentialminus\":[[0.0,\"#0d0887\"],[0.1111111111111111,\"#46039f\"],[0.2222222222222222,\"#7201a8\"],[0.3333333333333333,\"#9c179e\"],[0.4444444444444444,\"#bd3786\"],[0.5555555555555556,\"#d8576b\"],[0.6666666666666666,\"#ed7953\"],[0.7777777777777778,\"#fb9f3a\"],[0.8888888888888888,\"#fdca26\"],[1.0,\"#f0f921\"]],\"diverging\":[[0,\"#8e0152\"],[0.1,\"#c51b7d\"],[0.2,\"#de77ae\"],[0.3,\"#f1b6da\"],[0.4,\"#fde0ef\"],[0.5,\"#f7f7f7\"],[0.6,\"#e6f5d0\"],[0.7,\"#b8e186\"],[0.8,\"#7fbc41\"],[0.9,\"#4d9221\"],[1,\"#276419\"]]},\"xaxis\":{\"gridcolor\":\"white\",\"linecolor\":\"white\",\"ticks\":\"\",\"title\":{\"standoff\":15},\"zerolinecolor\":\"white\",\"automargin\":true,\"zerolinewidth\":2},\"yaxis\":{\"gridcolor\":\"white\",\"linecolor\":\"white\",\"ticks\":\"\",\"title\":{\"standoff\":15},\"zerolinecolor\":\"white\",\"automargin\":true,\"zerolinewidth\":2},\"scene\":{\"xaxis\":{\"backgroundcolor\":\"#E5ECF6\",\"gridcolor\":\"white\",\"linecolor\":\"white\",\"showbackground\":true,\"ticks\":\"\",\"zerolinecolor\":\"white\",\"gridwidth\":2},\"yaxis\":{\"backgroundcolor\":\"#E5ECF6\",\"gridcolor\":\"white\",\"linecolor\":\"white\",\"showbackground\":true,\"ticks\":\"\",\"zerolinecolor\":\"white\",\"gridwidth\":2},\"zaxis\":{\"backgroundcolor\":\"#E5ECF6\",\"gridcolor\":\"white\",\"linecolor\":\"white\",\"showbackground\":true,\"ticks\":\"\",\"zerolinecolor\":\"white\",\"gridwidth\":2}},\"shapedefaults\":{\"line\":{\"color\":\"#2a3f5f\"}},\"annotationdefaults\":{\"arrowcolor\":\"#2a3f5f\",\"arrowhead\":0,\"arrowwidth\":1},\"geo\":{\"bgcolor\":\"white\",\"landcolor\":\"#E5ECF6\",\"subunitcolor\":\"white\",\"showland\":true,\"showlakes\":true,\"lakecolor\":\"white\"},\"title\":{\"x\":0.05},\"mapbox\":{\"style\":\"light\"}}},\"xaxis\":{\"anchor\":\"y\",\"domain\":[0.0,1.0],\"title\":{\"text\":\"Columns\"},\"tickangle\":-45},\"yaxis\":{\"anchor\":\"x\",\"domain\":[0.0,1.0],\"title\":{\"text\":\"Number of Missing Values\"}},\"legend\":{\"tracegroupgap\":0},\"margin\":{\"t\":60},\"barmode\":\"relative\",\"title\":{\"text\":\"Missing Values by Column (Plotly)\"}},                        {\"responsive\": true}                    ).then(function(){\n",
              "                            \n",
              "var gd = document.getElementById('65d5bbe8-8096-4d25-838f-260865ffe44b');\n",
              "var x = new MutationObserver(function (mutations, observer) {{\n",
              "        var display = window.getComputedStyle(gd).display;\n",
              "        if (!display || display === 'none') {{\n",
              "            console.log([gd, 'removed!']);\n",
              "            Plotly.purge(gd);\n",
              "            observer.disconnect();\n",
              "        }}\n",
              "}});\n",
              "\n",
              "// Listen for the removal of the full notebook cells\n",
              "var notebookContainer = gd.closest('#notebook-container');\n",
              "if (notebookContainer) {{\n",
              "    x.observe(notebookContainer, {childList: true});\n",
              "}}\n",
              "\n",
              "// Listen for the clearing of the current output cell\n",
              "var outputEl = gd.closest('.output');\n",
              "if (outputEl) {{\n",
              "    x.observe(outputEl, {childList: true});\n",
              "}}\n",
              "\n",
              "                        })                };                            </script>        </div>\n",
              "</body>\n",
              "</html>"
            ]
          },
          "metadata": {}
        }
      ]
    },
    {
      "cell_type": "markdown",
      "source": [
        "# Mathematical stats to describe the dataset"
      ],
      "metadata": {
        "id": "uGAcceEOTtD-"
      }
    },
    {
      "cell_type": "code",
      "source": [
        "sf36_data.describe()"
      ],
      "metadata": {
        "colab": {
          "base_uri": "https://localhost:8080/",
          "height": 320
        },
        "id": "wm7Qby1fMXPH",
        "outputId": "46c1959d-4a25-4e9f-af80-e7f4c00cac97"
      },
      "execution_count": 12,
      "outputs": [
        {
          "output_type": "execute_result",
          "data": {
            "text/plain": [
              "            NEW_PID    RESPONSE  PHYSICAL_FUNCTIONING  PHYSICAL_LIMITATIONS  \\\n",
              "count  6.010000e+02  601.000000            253.000000            253.000000   \n",
              "mean   5.574510e+07    4.494176             86.600791             79.841897   \n",
              "std    3.551391e+07    2.295731             19.316360             32.485875   \n",
              "min    5.034520e+05    1.000000              0.000000              0.000000   \n",
              "25%    1.470146e+07    2.000000             85.000000             75.000000   \n",
              "50%    7.990645e+07    4.000000             95.000000            100.000000   \n",
              "75%    8.811144e+07    6.000000            100.000000            100.000000   \n",
              "max    9.990144e+07    8.000000            100.000000            100.000000   \n",
              "\n",
              "       EMOTIONAL_LIMITATIONS  ENERGY_FATIGUE  EMOTIONAL_WB  \\\n",
              "count             253.000000      253.000000    253.000000   \n",
              "mean               80.764163       55.988142     78.324111   \n",
              "std                32.917180       22.214053     16.437643   \n",
              "min                 0.000000        0.000000     24.000000   \n",
              "25%                66.666667       40.000000     68.000000   \n",
              "50%               100.000000       55.000000     80.000000   \n",
              "75%               100.000000       75.000000     92.000000   \n",
              "max               100.000000      100.000000    100.000000   \n",
              "\n",
              "       SOCIAL_FUNCTIONING        PAIN  GENERAL_HEALTH  TOTAL_SF_36  \n",
              "count          253.000000  253.000000      253.000000   253.000000  \n",
              "mean            75.869565   77.747036       74.920949    76.257082  \n",
              "std             18.221651   18.265927       15.545430    15.721568  \n",
              "min             22.500000   22.500000       20.000000    29.500000  \n",
              "25%             65.000000   67.500000       65.000000    65.625000  \n",
              "50%             80.000000   80.000000       75.000000    79.125000  \n",
              "75%             90.000000   90.000000       85.000000    89.500000  \n",
              "max            100.000000  100.000000      100.000000    98.750000  "
            ],
            "text/html": [
              "\n",
              "  <div id=\"df-92ff8130-c7d9-4ec1-b231-6bedfccb0528\" class=\"colab-df-container\">\n",
              "    <div>\n",
              "<style scoped>\n",
              "    .dataframe tbody tr th:only-of-type {\n",
              "        vertical-align: middle;\n",
              "    }\n",
              "\n",
              "    .dataframe tbody tr th {\n",
              "        vertical-align: top;\n",
              "    }\n",
              "\n",
              "    .dataframe thead th {\n",
              "        text-align: right;\n",
              "    }\n",
              "</style>\n",
              "<table border=\"1\" class=\"dataframe\">\n",
              "  <thead>\n",
              "    <tr style=\"text-align: right;\">\n",
              "      <th></th>\n",
              "      <th>NEW_PID</th>\n",
              "      <th>RESPONSE</th>\n",
              "      <th>PHYSICAL_FUNCTIONING</th>\n",
              "      <th>PHYSICAL_LIMITATIONS</th>\n",
              "      <th>EMOTIONAL_LIMITATIONS</th>\n",
              "      <th>ENERGY_FATIGUE</th>\n",
              "      <th>EMOTIONAL_WB</th>\n",
              "      <th>SOCIAL_FUNCTIONING</th>\n",
              "      <th>PAIN</th>\n",
              "      <th>GENERAL_HEALTH</th>\n",
              "      <th>TOTAL_SF_36</th>\n",
              "    </tr>\n",
              "  </thead>\n",
              "  <tbody>\n",
              "    <tr>\n",
              "      <th>count</th>\n",
              "      <td>6.010000e+02</td>\n",
              "      <td>601.000000</td>\n",
              "      <td>253.000000</td>\n",
              "      <td>253.000000</td>\n",
              "      <td>253.000000</td>\n",
              "      <td>253.000000</td>\n",
              "      <td>253.000000</td>\n",
              "      <td>253.000000</td>\n",
              "      <td>253.000000</td>\n",
              "      <td>253.000000</td>\n",
              "      <td>253.000000</td>\n",
              "    </tr>\n",
              "    <tr>\n",
              "      <th>mean</th>\n",
              "      <td>5.574510e+07</td>\n",
              "      <td>4.494176</td>\n",
              "      <td>86.600791</td>\n",
              "      <td>79.841897</td>\n",
              "      <td>80.764163</td>\n",
              "      <td>55.988142</td>\n",
              "      <td>78.324111</td>\n",
              "      <td>75.869565</td>\n",
              "      <td>77.747036</td>\n",
              "      <td>74.920949</td>\n",
              "      <td>76.257082</td>\n",
              "    </tr>\n",
              "    <tr>\n",
              "      <th>std</th>\n",
              "      <td>3.551391e+07</td>\n",
              "      <td>2.295731</td>\n",
              "      <td>19.316360</td>\n",
              "      <td>32.485875</td>\n",
              "      <td>32.917180</td>\n",
              "      <td>22.214053</td>\n",
              "      <td>16.437643</td>\n",
              "      <td>18.221651</td>\n",
              "      <td>18.265927</td>\n",
              "      <td>15.545430</td>\n",
              "      <td>15.721568</td>\n",
              "    </tr>\n",
              "    <tr>\n",
              "      <th>min</th>\n",
              "      <td>5.034520e+05</td>\n",
              "      <td>1.000000</td>\n",
              "      <td>0.000000</td>\n",
              "      <td>0.000000</td>\n",
              "      <td>0.000000</td>\n",
              "      <td>0.000000</td>\n",
              "      <td>24.000000</td>\n",
              "      <td>22.500000</td>\n",
              "      <td>22.500000</td>\n",
              "      <td>20.000000</td>\n",
              "      <td>29.500000</td>\n",
              "    </tr>\n",
              "    <tr>\n",
              "      <th>25%</th>\n",
              "      <td>1.470146e+07</td>\n",
              "      <td>2.000000</td>\n",
              "      <td>85.000000</td>\n",
              "      <td>75.000000</td>\n",
              "      <td>66.666667</td>\n",
              "      <td>40.000000</td>\n",
              "      <td>68.000000</td>\n",
              "      <td>65.000000</td>\n",
              "      <td>67.500000</td>\n",
              "      <td>65.000000</td>\n",
              "      <td>65.625000</td>\n",
              "    </tr>\n",
              "    <tr>\n",
              "      <th>50%</th>\n",
              "      <td>7.990645e+07</td>\n",
              "      <td>4.000000</td>\n",
              "      <td>95.000000</td>\n",
              "      <td>100.000000</td>\n",
              "      <td>100.000000</td>\n",
              "      <td>55.000000</td>\n",
              "      <td>80.000000</td>\n",
              "      <td>80.000000</td>\n",
              "      <td>80.000000</td>\n",
              "      <td>75.000000</td>\n",
              "      <td>79.125000</td>\n",
              "    </tr>\n",
              "    <tr>\n",
              "      <th>75%</th>\n",
              "      <td>8.811144e+07</td>\n",
              "      <td>6.000000</td>\n",
              "      <td>100.000000</td>\n",
              "      <td>100.000000</td>\n",
              "      <td>100.000000</td>\n",
              "      <td>75.000000</td>\n",
              "      <td>92.000000</td>\n",
              "      <td>90.000000</td>\n",
              "      <td>90.000000</td>\n",
              "      <td>85.000000</td>\n",
              "      <td>89.500000</td>\n",
              "    </tr>\n",
              "    <tr>\n",
              "      <th>max</th>\n",
              "      <td>9.990144e+07</td>\n",
              "      <td>8.000000</td>\n",
              "      <td>100.000000</td>\n",
              "      <td>100.000000</td>\n",
              "      <td>100.000000</td>\n",
              "      <td>100.000000</td>\n",
              "      <td>100.000000</td>\n",
              "      <td>100.000000</td>\n",
              "      <td>100.000000</td>\n",
              "      <td>100.000000</td>\n",
              "      <td>98.750000</td>\n",
              "    </tr>\n",
              "  </tbody>\n",
              "</table>\n",
              "</div>\n",
              "    <div class=\"colab-df-buttons\">\n",
              "\n",
              "  <div class=\"colab-df-container\">\n",
              "    <button class=\"colab-df-convert\" onclick=\"convertToInteractive('df-92ff8130-c7d9-4ec1-b231-6bedfccb0528')\"\n",
              "            title=\"Convert this dataframe to an interactive table.\"\n",
              "            style=\"display:none;\">\n",
              "\n",
              "  <svg xmlns=\"http://www.w3.org/2000/svg\" height=\"24px\" viewBox=\"0 -960 960 960\">\n",
              "    <path d=\"M120-120v-720h720v720H120Zm60-500h600v-160H180v160Zm220 220h160v-160H400v160Zm0 220h160v-160H400v160ZM180-400h160v-160H180v160Zm440 0h160v-160H620v160ZM180-180h160v-160H180v160Zm440 0h160v-160H620v160Z\"/>\n",
              "  </svg>\n",
              "    </button>\n",
              "\n",
              "  <style>\n",
              "    .colab-df-container {\n",
              "      display:flex;\n",
              "      gap: 12px;\n",
              "    }\n",
              "\n",
              "    .colab-df-convert {\n",
              "      background-color: #E8F0FE;\n",
              "      border: none;\n",
              "      border-radius: 50%;\n",
              "      cursor: pointer;\n",
              "      display: none;\n",
              "      fill: #1967D2;\n",
              "      height: 32px;\n",
              "      padding: 0 0 0 0;\n",
              "      width: 32px;\n",
              "    }\n",
              "\n",
              "    .colab-df-convert:hover {\n",
              "      background-color: #E2EBFA;\n",
              "      box-shadow: 0px 1px 2px rgba(60, 64, 67, 0.3), 0px 1px 3px 1px rgba(60, 64, 67, 0.15);\n",
              "      fill: #174EA6;\n",
              "    }\n",
              "\n",
              "    .colab-df-buttons div {\n",
              "      margin-bottom: 4px;\n",
              "    }\n",
              "\n",
              "    [theme=dark] .colab-df-convert {\n",
              "      background-color: #3B4455;\n",
              "      fill: #D2E3FC;\n",
              "    }\n",
              "\n",
              "    [theme=dark] .colab-df-convert:hover {\n",
              "      background-color: #434B5C;\n",
              "      box-shadow: 0px 1px 3px 1px rgba(0, 0, 0, 0.15);\n",
              "      filter: drop-shadow(0px 1px 2px rgba(0, 0, 0, 0.3));\n",
              "      fill: #FFFFFF;\n",
              "    }\n",
              "  </style>\n",
              "\n",
              "    <script>\n",
              "      const buttonEl =\n",
              "        document.querySelector('#df-92ff8130-c7d9-4ec1-b231-6bedfccb0528 button.colab-df-convert');\n",
              "      buttonEl.style.display =\n",
              "        google.colab.kernel.accessAllowed ? 'block' : 'none';\n",
              "\n",
              "      async function convertToInteractive(key) {\n",
              "        const element = document.querySelector('#df-92ff8130-c7d9-4ec1-b231-6bedfccb0528');\n",
              "        const dataTable =\n",
              "          await google.colab.kernel.invokeFunction('convertToInteractive',\n",
              "                                                    [key], {});\n",
              "        if (!dataTable) return;\n",
              "\n",
              "        const docLinkHtml = 'Like what you see? Visit the ' +\n",
              "          '<a target=\"_blank\" href=https://colab.research.google.com/notebooks/data_table.ipynb>data table notebook</a>'\n",
              "          + ' to learn more about interactive tables.';\n",
              "        element.innerHTML = '';\n",
              "        dataTable['output_type'] = 'display_data';\n",
              "        await google.colab.output.renderOutput(dataTable, element);\n",
              "        const docLink = document.createElement('div');\n",
              "        docLink.innerHTML = docLinkHtml;\n",
              "        element.appendChild(docLink);\n",
              "      }\n",
              "    </script>\n",
              "  </div>\n",
              "\n",
              "\n",
              "<div id=\"df-950a8c58-d236-4ac9-ab0e-c53cececd758\">\n",
              "  <button class=\"colab-df-quickchart\" onclick=\"quickchart('df-950a8c58-d236-4ac9-ab0e-c53cececd758')\"\n",
              "            title=\"Suggest charts\"\n",
              "            style=\"display:none;\">\n",
              "\n",
              "<svg xmlns=\"http://www.w3.org/2000/svg\" height=\"24px\"viewBox=\"0 0 24 24\"\n",
              "     width=\"24px\">\n",
              "    <g>\n",
              "        <path d=\"M19 3H5c-1.1 0-2 .9-2 2v14c0 1.1.9 2 2 2h14c1.1 0 2-.9 2-2V5c0-1.1-.9-2-2-2zM9 17H7v-7h2v7zm4 0h-2V7h2v10zm4 0h-2v-4h2v4z\"/>\n",
              "    </g>\n",
              "</svg>\n",
              "  </button>\n",
              "\n",
              "<style>\n",
              "  .colab-df-quickchart {\n",
              "      --bg-color: #E8F0FE;\n",
              "      --fill-color: #1967D2;\n",
              "      --hover-bg-color: #E2EBFA;\n",
              "      --hover-fill-color: #174EA6;\n",
              "      --disabled-fill-color: #AAA;\n",
              "      --disabled-bg-color: #DDD;\n",
              "  }\n",
              "\n",
              "  [theme=dark] .colab-df-quickchart {\n",
              "      --bg-color: #3B4455;\n",
              "      --fill-color: #D2E3FC;\n",
              "      --hover-bg-color: #434B5C;\n",
              "      --hover-fill-color: #FFFFFF;\n",
              "      --disabled-bg-color: #3B4455;\n",
              "      --disabled-fill-color: #666;\n",
              "  }\n",
              "\n",
              "  .colab-df-quickchart {\n",
              "    background-color: var(--bg-color);\n",
              "    border: none;\n",
              "    border-radius: 50%;\n",
              "    cursor: pointer;\n",
              "    display: none;\n",
              "    fill: var(--fill-color);\n",
              "    height: 32px;\n",
              "    padding: 0;\n",
              "    width: 32px;\n",
              "  }\n",
              "\n",
              "  .colab-df-quickchart:hover {\n",
              "    background-color: var(--hover-bg-color);\n",
              "    box-shadow: 0 1px 2px rgba(60, 64, 67, 0.3), 0 1px 3px 1px rgba(60, 64, 67, 0.15);\n",
              "    fill: var(--button-hover-fill-color);\n",
              "  }\n",
              "\n",
              "  .colab-df-quickchart-complete:disabled,\n",
              "  .colab-df-quickchart-complete:disabled:hover {\n",
              "    background-color: var(--disabled-bg-color);\n",
              "    fill: var(--disabled-fill-color);\n",
              "    box-shadow: none;\n",
              "  }\n",
              "\n",
              "  .colab-df-spinner {\n",
              "    border: 2px solid var(--fill-color);\n",
              "    border-color: transparent;\n",
              "    border-bottom-color: var(--fill-color);\n",
              "    animation:\n",
              "      spin 1s steps(1) infinite;\n",
              "  }\n",
              "\n",
              "  @keyframes spin {\n",
              "    0% {\n",
              "      border-color: transparent;\n",
              "      border-bottom-color: var(--fill-color);\n",
              "      border-left-color: var(--fill-color);\n",
              "    }\n",
              "    20% {\n",
              "      border-color: transparent;\n",
              "      border-left-color: var(--fill-color);\n",
              "      border-top-color: var(--fill-color);\n",
              "    }\n",
              "    30% {\n",
              "      border-color: transparent;\n",
              "      border-left-color: var(--fill-color);\n",
              "      border-top-color: var(--fill-color);\n",
              "      border-right-color: var(--fill-color);\n",
              "    }\n",
              "    40% {\n",
              "      border-color: transparent;\n",
              "      border-right-color: var(--fill-color);\n",
              "      border-top-color: var(--fill-color);\n",
              "    }\n",
              "    60% {\n",
              "      border-color: transparent;\n",
              "      border-right-color: var(--fill-color);\n",
              "    }\n",
              "    80% {\n",
              "      border-color: transparent;\n",
              "      border-right-color: var(--fill-color);\n",
              "      border-bottom-color: var(--fill-color);\n",
              "    }\n",
              "    90% {\n",
              "      border-color: transparent;\n",
              "      border-bottom-color: var(--fill-color);\n",
              "    }\n",
              "  }\n",
              "</style>\n",
              "\n",
              "  <script>\n",
              "    async function quickchart(key) {\n",
              "      const quickchartButtonEl =\n",
              "        document.querySelector('#' + key + ' button');\n",
              "      quickchartButtonEl.disabled = true;  // To prevent multiple clicks.\n",
              "      quickchartButtonEl.classList.add('colab-df-spinner');\n",
              "      try {\n",
              "        const charts = await google.colab.kernel.invokeFunction(\n",
              "            'suggestCharts', [key], {});\n",
              "      } catch (error) {\n",
              "        console.error('Error during call to suggestCharts:', error);\n",
              "      }\n",
              "      quickchartButtonEl.classList.remove('colab-df-spinner');\n",
              "      quickchartButtonEl.classList.add('colab-df-quickchart-complete');\n",
              "    }\n",
              "    (() => {\n",
              "      let quickchartButtonEl =\n",
              "        document.querySelector('#df-950a8c58-d236-4ac9-ab0e-c53cececd758 button');\n",
              "      quickchartButtonEl.style.display =\n",
              "        google.colab.kernel.accessAllowed ? 'block' : 'none';\n",
              "    })();\n",
              "  </script>\n",
              "</div>\n",
              "\n",
              "    </div>\n",
              "  </div>\n"
            ],
            "application/vnd.google.colaboratory.intrinsic+json": {
              "type": "dataframe",
              "summary": "{\n  \"name\": \"sf36_data\",\n  \"rows\": 8,\n  \"fields\": [\n    {\n      \"column\": \"NEW_PID\",\n      \"properties\": {\n        \"dtype\": \"number\",\n        \"std\": 39988742.832287736,\n        \"min\": 601.0,\n        \"max\": 99901442.0,\n        \"num_unique_values\": 8,\n        \"samples\": [\n          55745103.326123126,\n          79906449.0,\n          601.0\n        ],\n        \"semantic_type\": \"\",\n        \"description\": \"\"\n      }\n    },\n    {\n      \"column\": \"RESPONSE\",\n      \"properties\": {\n        \"dtype\": \"number\",\n        \"std\": 211.09421542056904,\n        \"min\": 1.0,\n        \"max\": 601.0,\n        \"num_unique_values\": 8,\n        \"samples\": [\n          4.494176372712146,\n          4.0,\n          601.0\n        ],\n        \"semantic_type\": \"\",\n        \"description\": \"\"\n      }\n    },\n    {\n      \"column\": \"PHYSICAL_FUNCTIONING\",\n      \"properties\": {\n        \"dtype\": \"number\",\n        \"std\": 75.48131210044428,\n        \"min\": 0.0,\n        \"max\": 253.0,\n        \"num_unique_values\": 7,\n        \"samples\": [\n          253.0,\n          86.60079051383399,\n          95.0\n        ],\n        \"semantic_type\": \"\",\n        \"description\": \"\"\n      }\n    },\n    {\n      \"column\": \"PHYSICAL_LIMITATIONS\",\n      \"properties\": {\n        \"dtype\": \"number\",\n        \"std\": 74.21340790139817,\n        \"min\": 0.0,\n        \"max\": 253.0,\n        \"num_unique_values\": 6,\n        \"samples\": [\n          253.0,\n          79.84189723320158,\n          100.0\n        ],\n        \"semantic_type\": \"\",\n        \"description\": \"\"\n      }\n    },\n    {\n      \"column\": \"EMOTIONAL_LIMITATIONS\",\n      \"properties\": {\n        \"dtype\": \"number\",\n        \"std\": 74.48386433325975,\n        \"min\": 0.0,\n        \"max\": 253.0,\n        \"num_unique_values\": 6,\n        \"samples\": [\n          253.0,\n          80.76416337304347,\n          100.0\n        ],\n        \"semantic_type\": \"\",\n        \"description\": \"\"\n      }\n    },\n    {\n      \"column\": \"ENERGY_FATIGUE\",\n      \"properties\": {\n        \"dtype\": \"number\",\n        \"std\": 78.10855659145956,\n        \"min\": 0.0,\n        \"max\": 253.0,\n        \"num_unique_values\": 8,\n        \"samples\": [\n          55.98814229249012,\n          55.0,\n          253.0\n        ],\n        \"semantic_type\": \"\",\n        \"description\": \"\"\n      }\n    },\n    {\n      \"column\": \"EMOTIONAL_WB\",\n      \"properties\": {\n        \"dtype\": \"number\",\n        \"std\": 72.85235862792725,\n        \"min\": 16.43764346607694,\n        \"max\": 253.0,\n        \"num_unique_values\": 8,\n        \"samples\": [\n          78.32411067193677,\n          80.0,\n          253.0\n        ],\n        \"semantic_type\": \"\",\n        \"description\": \"\"\n      }\n    },\n    {\n      \"column\": \"SOCIAL_FUNCTIONING\",\n      \"properties\": {\n        \"dtype\": \"number\",\n        \"std\": 72.97002494883557,\n        \"min\": 18.221650698421737,\n        \"max\": 253.0,\n        \"num_unique_values\": 8,\n        \"samples\": [\n          75.8695652173913,\n          80.0,\n          253.0\n        ],\n        \"semantic_type\": \"\",\n        \"description\": \"\"\n      }\n    },\n    {\n      \"column\": \"PAIN\",\n      \"properties\": {\n        \"dtype\": \"number\",\n        \"std\": 72.81318855758158,\n        \"min\": 18.26592697892782,\n        \"max\": 253.0,\n        \"num_unique_values\": 8,\n        \"samples\": [\n          77.74703557312253,\n          80.0,\n          253.0\n        ],\n        \"semantic_type\": \"\",\n        \"description\": \"\"\n      }\n    },\n    {\n      \"column\": \"GENERAL_HEALTH\",\n      \"properties\": {\n        \"dtype\": \"number\",\n        \"std\": 73.76658615425704,\n        \"min\": 15.545429963412053,\n        \"max\": 253.0,\n        \"num_unique_values\": 8,\n        \"samples\": [\n          74.9209486166008,\n          75.0,\n          253.0\n        ],\n        \"semantic_type\": \"\",\n        \"description\": \"\"\n      }\n    },\n    {\n      \"column\": \"TOTAL_SF_36\",\n      \"properties\": {\n        \"dtype\": \"number\",\n        \"std\": 72.41253239500853,\n        \"min\": 15.721568360594997,\n        \"max\": 253.0,\n        \"num_unique_values\": 8,\n        \"samples\": [\n          76.25708168624506,\n          79.125,\n          253.0\n        ],\n        \"semantic_type\": \"\",\n        \"description\": \"\"\n      }\n    }\n  ]\n}"
            }
          },
          "metadata": {},
          "execution_count": 12
        }
      ]
    },
    {
      "cell_type": "markdown",
      "source": [
        "# Check for missing values in the original dataset & missing %\n"
      ],
      "metadata": {
        "id": "jGO3NPO9UCl0"
      }
    },
    {
      "cell_type": "code",
      "source": [
        "missing_data = sf36_data.isnull().sum()\n",
        "print(\"Missing data per column:\\n\", missing_data)\n",
        "\n",
        "missing_percentage = sf36_data.isnull().mean() * 100\n",
        "print(\"Percentage of missing data per column:\\n\", missing_percentage)"
      ],
      "metadata": {
        "colab": {
          "base_uri": "https://localhost:8080/"
        },
        "id": "knvFRpqMMFuE",
        "outputId": "eb59324f-15a0-4010-abed-ab5a48081f26"
      },
      "execution_count": 13,
      "outputs": [
        {
          "output_type": "stream",
          "name": "stdout",
          "text": [
            "Missing data per column:\n",
            " NEW_PID                    0\n",
            "RESPONSE                   0\n",
            "PHYSICAL_FUNCTIONING     348\n",
            "PHYSICAL_LIMITATIONS     348\n",
            "EMOTIONAL_LIMITATIONS    348\n",
            "ENERGY_FATIGUE           348\n",
            "EMOTIONAL_WB             348\n",
            "SOCIAL_FUNCTIONING       348\n",
            "PAIN                     348\n",
            "GENERAL_HEALTH           348\n",
            "TOTAL_SF_36              348\n",
            "dtype: int64\n",
            "Percentage of missing data per column:\n",
            " NEW_PID                   0.000000\n",
            "RESPONSE                  0.000000\n",
            "PHYSICAL_FUNCTIONING     57.903494\n",
            "PHYSICAL_LIMITATIONS     57.903494\n",
            "EMOTIONAL_LIMITATIONS    57.903494\n",
            "ENERGY_FATIGUE           57.903494\n",
            "EMOTIONAL_WB             57.903494\n",
            "SOCIAL_FUNCTIONING       57.903494\n",
            "PAIN                     57.903494\n",
            "GENERAL_HEALTH           57.903494\n",
            "TOTAL_SF_36              57.903494\n",
            "dtype: float64\n"
          ]
        }
      ]
    },
    {
      "cell_type": "markdown",
      "source": [
        "# *Impute the missing data using various methods*\n",
        "\n",
        "1.   USING MICE (Multiple Imputation by Chained Equations) Imputer\n",
        "\n",
        "\n",
        "\n",
        "\n"
      ],
      "metadata": {
        "id": "QprqiNboUUzA"
      }
    },
    {
      "cell_type": "code",
      "source": [
        "from sklearn.experimental import enable_iterative_imputer\n",
        "from sklearn.impute import IterativeImputer\n",
        "\n",
        "mice_imputer = IterativeImputer(random_state=42)\n",
        "sf36_data_mice_imputed = mice_imputer.fit_transform(sf36_data)\n",
        "sf36_data_mice_imputed = pd.DataFrame(sf36_data_mice_imputed, columns=sf36_data.columns)"
      ],
      "metadata": {
        "id": "zhtVXb10Mihp"
      },
      "execution_count": 14,
      "outputs": []
    },
    {
      "cell_type": "markdown",
      "source": [
        "2.   KNN (K-Nearest Neighbors) Imputer\n",
        "\n"
      ],
      "metadata": {
        "id": "dwCHSRJfUoyv"
      }
    },
    {
      "cell_type": "code",
      "source": [
        "from sklearn.impute import KNNImputer\n",
        "knn_imputer = KNNImputer(n_neighbors=5)\n",
        "sf36_data_knn_imputed = knn_imputer.fit_transform(sf36_data)\n",
        "sf36_data_knn_imputed = pd.DataFrame(sf36_data_knn_imputed, columns=sf36_data.columns)"
      ],
      "metadata": {
        "id": "2pT4Hn7FMzpt"
      },
      "execution_count": 15,
      "outputs": []
    },
    {
      "cell_type": "markdown",
      "source": [
        "3. GBR (Gradient Boosting Regressor) Imputer"
      ],
      "metadata": {
        "id": "zPGFXOnhUwpE"
      }
    },
    {
      "cell_type": "code",
      "source": [
        "from sklearn.ensemble import GradientBoostingRegressor\n",
        "from sklearn.experimental import enable_iterative_imputer\n",
        "from sklearn.impute import IterativeImputer\n",
        "gbr_imputer = IterativeImputer(estimator=GradientBoostingRegressor(), random_state=42)\n",
        "sf36_data_gbr_imputed = gbr_imputer.fit_transform(sf36_data)\n",
        "sf36_data_gbr_imputed = pd.DataFrame(sf36_data_gbr_imputed, columns=sf36_data.columns)"
      ],
      "metadata": {
        "id": "gYGvUVwgM4ZB"
      },
      "execution_count": 16,
      "outputs": []
    },
    {
      "cell_type": "markdown",
      "source": [
        "# Step 4: Validate the imputed data using RMSE (Root Mean Squared Error)\n",
        "\n",
        "# Function to calculate RMSE for validation"
      ],
      "metadata": {
        "id": "4XgGIWitU7RY"
      }
    },
    {
      "cell_type": "code",
      "source": [
        "from sklearn.metrics import mean_squared_error\n",
        "import numpy as np\n",
        "\n",
        "# Function to calculate RMSE for validation\n",
        "def calculate_rmse(original, imputed):\n",
        "    mask = ~np.isnan(original)  # Only compare where original data is not NaN\n",
        "    return np.sqrt(mean_squared_error(original[mask], imputed[mask]))\n",
        "\n",
        "# Calculate RMSE for each imputed dataset\n",
        "rmse_mice = calculate_rmse(sf36_data.values, sf36_data_mice_imputed.values)\n",
        "rmse_knn = calculate_rmse(sf36_data.values, sf36_data_knn_imputed.values)\n",
        "rmse_gbr = calculate_rmse(sf36_data.values, sf36_data_gbr_imputed.values)\n",
        "\n",
        "print(f\"RMSE for MICE imputation: {rmse_mice}\")\n",
        "print(f\"RMSE for KNN imputation: {rmse_knn}\")\n",
        "print(f\"RMSE for GBR imputation: {rmse_gbr}\")\n"
      ],
      "metadata": {
        "colab": {
          "base_uri": "https://localhost:8080/"
        },
        "id": "h8BKFdX5M5oF",
        "outputId": "4f5f7438-2227-4570-f12c-eaeab76f2444"
      },
      "execution_count": 17,
      "outputs": [
        {
          "output_type": "stream",
          "name": "stdout",
          "text": [
            "RMSE for MICE imputation: 0.0\n",
            "RMSE for KNN imputation: 0.0\n",
            "RMSE for GBR imputation: 0.0\n"
          ]
        }
      ]
    },
    {
      "cell_type": "code",
      "source": [
        "print(\"\\nMissing values in the imputed datasets:\")"
      ],
      "metadata": {
        "colab": {
          "base_uri": "https://localhost:8080/"
        },
        "id": "S9w14sKJNWdx",
        "outputId": "28f34010-89ff-41e3-82e1-e355e6234ee5"
      },
      "execution_count": 18,
      "outputs": [
        {
          "output_type": "stream",
          "name": "stdout",
          "text": [
            "\n",
            "Missing values in the imputed datasets:\n"
          ]
        }
      ]
    },
    {
      "cell_type": "markdown",
      "source": [
        "# Step 5: Check for missing values after imputation"
      ],
      "metadata": {
        "id": "n-vrWogSVMEQ"
      }
    },
    {
      "cell_type": "markdown",
      "source": [
        "# MICE imputed dataset"
      ],
      "metadata": {
        "id": "7DwgBuauVPPB"
      }
    },
    {
      "cell_type": "code",
      "source": [
        "missing_mice_imputed = sf36_data_mice_imputed.isnull().sum()\n",
        "print(\"\\nMissing values per column in MICE imputed dataset:\\n\", missing_mice_imputed)"
      ],
      "metadata": {
        "colab": {
          "base_uri": "https://localhost:8080/"
        },
        "id": "2IjnJzueN7ZA",
        "outputId": "42beb193-748b-407a-8c3f-48dd841aad98"
      },
      "execution_count": 19,
      "outputs": [
        {
          "output_type": "stream",
          "name": "stdout",
          "text": [
            "\n",
            "Missing values per column in MICE imputed dataset:\n",
            " NEW_PID                  0\n",
            "RESPONSE                 0\n",
            "PHYSICAL_FUNCTIONING     0\n",
            "PHYSICAL_LIMITATIONS     0\n",
            "EMOTIONAL_LIMITATIONS    0\n",
            "ENERGY_FATIGUE           0\n",
            "EMOTIONAL_WB             0\n",
            "SOCIAL_FUNCTIONING       0\n",
            "PAIN                     0\n",
            "GENERAL_HEALTH           0\n",
            "TOTAL_SF_36              0\n",
            "dtype: int64\n"
          ]
        }
      ]
    },
    {
      "cell_type": "markdown",
      "source": [
        "1. # KNN imputed dataset\n",
        "2. # GBR imputed dataset"
      ],
      "metadata": {
        "id": "E-OQw91US2rW"
      }
    },
    {
      "cell_type": "code",
      "source": [
        "missing_knn_imputed = sf36_data_knn_imputed.isnull().sum()\n",
        "print(\"\\nMissing values per column in KNN imputed dataset:\\n\", missing_knn_imputed)\n",
        "\n",
        "missing_gbr_imputed = sf36_data_gbr_imputed.isnull().sum()\n",
        "print(\"\\nMissing values per column in GBR imputed dataset:\\n\", missing_gbr_imputed)"
      ],
      "metadata": {
        "colab": {
          "base_uri": "https://localhost:8080/"
        },
        "id": "OUw1zLVsN_7j",
        "outputId": "53c9ff16-da1e-4cc8-93e8-4e5d1991dd43"
      },
      "execution_count": 20,
      "outputs": [
        {
          "output_type": "stream",
          "name": "stdout",
          "text": [
            "\n",
            "Missing values per column in KNN imputed dataset:\n",
            " NEW_PID                  0\n",
            "RESPONSE                 0\n",
            "PHYSICAL_FUNCTIONING     0\n",
            "PHYSICAL_LIMITATIONS     0\n",
            "EMOTIONAL_LIMITATIONS    0\n",
            "ENERGY_FATIGUE           0\n",
            "EMOTIONAL_WB             0\n",
            "SOCIAL_FUNCTIONING       0\n",
            "PAIN                     0\n",
            "GENERAL_HEALTH           0\n",
            "TOTAL_SF_36              0\n",
            "dtype: int64\n",
            "\n",
            "Missing values per column in GBR imputed dataset:\n",
            " NEW_PID                  0\n",
            "RESPONSE                 0\n",
            "PHYSICAL_FUNCTIONING     0\n",
            "PHYSICAL_LIMITATIONS     0\n",
            "EMOTIONAL_LIMITATIONS    0\n",
            "ENERGY_FATIGUE           0\n",
            "EMOTIONAL_WB             0\n",
            "SOCIAL_FUNCTIONING       0\n",
            "PAIN                     0\n",
            "GENERAL_HEALTH           0\n",
            "TOTAL_SF_36              0\n",
            "dtype: int64\n"
          ]
        }
      ]
    },
    {
      "cell_type": "markdown",
      "source": [
        "# Conclusion\n",
        "\n",
        "The above process outlines a comprehensive plan to handle missing data in the SF-36 dataset using multiple imputation methods. Each step is documented to ensure clarity and reproducibility. The final imputed datasets are validated and verified for any remaining missing values, preparing them for subsequent data analysis.\n",
        "\n"
      ],
      "metadata": {
        "id": "om9OuPaJVfuB"
      }
    },
    {
      "cell_type": "code",
      "source": [
        "sf36_data_mice_imputed.to_csv('SF_36_DATA_MICE_Imputed.csv', index=False)"
      ],
      "metadata": {
        "id": "--KZbeN6vi3q"
      },
      "execution_count": 26,
      "outputs": []
    },
    {
      "cell_type": "code",
      "source": [
        "import os\n",
        "\n",
        "# Check if the directory exists\n",
        "if not os.path.exists('/mnt/data'):\n",
        "    # Create the directory if it doesn't exist\n",
        "    os.makedirs('/mnt/data')\n",
        "\n",
        "# Now you can save the file\n",
        "sf36_data_mice_imputed.to_csv('/mnt/data/SF_36_DATA_MICE_Imputed.csv', index=False)"
      ],
      "metadata": {
        "id": "omdaLkjKt5GP"
      },
      "execution_count": 22,
      "outputs": []
    },
    {
      "cell_type": "code",
      "source": [
        "sf36_data_mice_imputed.to_csv('/mnt/data/SF_36_DATA_MICE_Imputed.csv', index=False)"
      ],
      "metadata": {
        "id": "sc1_4Ki1wX0P"
      },
      "execution_count": 28,
      "outputs": []
    }
  ]
}