{
  "nbformat": 4,
  "nbformat_minor": 0,
  "metadata": {
    "colab": {
      "provenance": [],
      "authorship_tag": "ABX9TyOI76Cpo1+UyI6mPAsnUo/9",
      "include_colab_link": true
    },
    "kernelspec": {
      "name": "python3",
      "display_name": "Python 3"
    },
    "language_info": {
      "name": "python"
    }
  },
  "cells": [
    {
      "cell_type": "markdown",
      "metadata": {
        "id": "view-in-github",
        "colab_type": "text"
      },
      "source": [
        "<a href=\"https://colab.research.google.com/github/awaiskhan005/DATA-SCIENCE-AND-AI-/blob/main/Franklinn_XGboast_project.ipynb\" target=\"_parent\"><img src=\"https://colab.research.google.com/assets/colab-badge.svg\" alt=\"Open In Colab\"/></a>"
      ]
    },
    {
      "cell_type": "code",
      "source": [
        "# Warning control\n",
        "import warnings\n",
        "warnings.filterwarnings('ignore')"
      ],
      "metadata": {
        "id": "FxvdA4QhUpGv"
      },
      "execution_count": 3,
      "outputs": []
    },
    {
      "cell_type": "code",
      "execution_count": 5,
      "metadata": {
        "colab": {
          "base_uri": "https://localhost:8080/"
        },
        "id": "p5qWr002USOJ",
        "outputId": "073c728e-8ac2-461b-b28d-5b4bc4ea57c3"
      },
      "outputs": [
        {
          "output_type": "stream",
          "name": "stdout",
          "text": [
            "Requirement already satisfied: ta in /usr/local/lib/python3.11/dist-packages (0.11.0)\n",
            "Requirement already satisfied: numpy in /usr/local/lib/python3.11/dist-packages (from ta) (1.26.4)\n",
            "Requirement already satisfied: pandas in /usr/local/lib/python3.11/dist-packages (from ta) (2.2.2)\n",
            "Requirement already satisfied: python-dateutil>=2.8.2 in /usr/local/lib/python3.11/dist-packages (from pandas->ta) (2.8.2)\n",
            "Requirement already satisfied: pytz>=2020.1 in /usr/local/lib/python3.11/dist-packages (from pandas->ta) (2024.2)\n",
            "Requirement already satisfied: tzdata>=2022.7 in /usr/local/lib/python3.11/dist-packages (from pandas->ta) (2024.2)\n",
            "Requirement already satisfied: six>=1.5 in /usr/local/lib/python3.11/dist-packages (from python-dateutil>=2.8.2->pandas->ta) (1.17.0)\n",
            "Collecting python-binance\n",
            "  Downloading python_binance-1.0.27-py2.py3-none-any.whl.metadata (13 kB)\n",
            "Requirement already satisfied: requests in /usr/local/lib/python3.11/dist-packages (from python-binance) (2.32.3)\n",
            "Requirement already satisfied: six in /usr/local/lib/python3.11/dist-packages (from python-binance) (1.17.0)\n",
            "Collecting dateparser (from python-binance)\n",
            "  Downloading dateparser-1.2.0-py2.py3-none-any.whl.metadata (28 kB)\n",
            "Requirement already satisfied: aiohttp in /usr/local/lib/python3.11/dist-packages (from python-binance) (3.11.11)\n",
            "Requirement already satisfied: websockets in /usr/local/lib/python3.11/dist-packages (from python-binance) (14.1)\n",
            "Collecting pycryptodome (from python-binance)\n",
            "  Downloading pycryptodome-3.21.0-cp36-abi3-manylinux_2_17_x86_64.manylinux2014_x86_64.whl.metadata (3.4 kB)\n",
            "Requirement already satisfied: aiohappyeyeballs>=2.3.0 in /usr/local/lib/python3.11/dist-packages (from aiohttp->python-binance) (2.4.4)\n",
            "Requirement already satisfied: aiosignal>=1.1.2 in /usr/local/lib/python3.11/dist-packages (from aiohttp->python-binance) (1.3.2)\n",
            "Requirement already satisfied: attrs>=17.3.0 in /usr/local/lib/python3.11/dist-packages (from aiohttp->python-binance) (24.3.0)\n",
            "Requirement already satisfied: frozenlist>=1.1.1 in /usr/local/lib/python3.11/dist-packages (from aiohttp->python-binance) (1.5.0)\n",
            "Requirement already satisfied: multidict<7.0,>=4.5 in /usr/local/lib/python3.11/dist-packages (from aiohttp->python-binance) (6.1.0)\n",
            "Requirement already satisfied: propcache>=0.2.0 in /usr/local/lib/python3.11/dist-packages (from aiohttp->python-binance) (0.2.1)\n",
            "Requirement already satisfied: yarl<2.0,>=1.17.0 in /usr/local/lib/python3.11/dist-packages (from aiohttp->python-binance) (1.18.3)\n",
            "Requirement already satisfied: python-dateutil in /usr/local/lib/python3.11/dist-packages (from dateparser->python-binance) (2.8.2)\n",
            "Requirement already satisfied: pytz in /usr/local/lib/python3.11/dist-packages (from dateparser->python-binance) (2024.2)\n",
            "Requirement already satisfied: regex!=2019.02.19,!=2021.8.27 in /usr/local/lib/python3.11/dist-packages (from dateparser->python-binance) (2024.11.6)\n",
            "Requirement already satisfied: tzlocal in /usr/local/lib/python3.11/dist-packages (from dateparser->python-binance) (5.2)\n",
            "Requirement already satisfied: charset-normalizer<4,>=2 in /usr/local/lib/python3.11/dist-packages (from requests->python-binance) (3.4.1)\n",
            "Requirement already satisfied: idna<4,>=2.5 in /usr/local/lib/python3.11/dist-packages (from requests->python-binance) (3.10)\n",
            "Requirement already satisfied: urllib3<3,>=1.21.1 in /usr/local/lib/python3.11/dist-packages (from requests->python-binance) (2.3.0)\n",
            "Requirement already satisfied: certifi>=2017.4.17 in /usr/local/lib/python3.11/dist-packages (from requests->python-binance) (2024.12.14)\n",
            "Downloading python_binance-1.0.27-py2.py3-none-any.whl (113 kB)\n",
            "\u001b[2K   \u001b[90m━━━━━━━━━━━━━━━━━━━━━━━━━━━━━━━━━━━━━━━━\u001b[0m \u001b[32m113.7/113.7 kB\u001b[0m \u001b[31m4.5 MB/s\u001b[0m eta \u001b[36m0:00:00\u001b[0m\n",
            "\u001b[?25hDownloading dateparser-1.2.0-py2.py3-none-any.whl (294 kB)\n",
            "\u001b[2K   \u001b[90m━━━━━━━━━━━━━━━━━━━━━━━━━━━━━━━━━━━━━━━━\u001b[0m \u001b[32m295.0/295.0 kB\u001b[0m \u001b[31m12.6 MB/s\u001b[0m eta \u001b[36m0:00:00\u001b[0m\n",
            "\u001b[?25hDownloading pycryptodome-3.21.0-cp36-abi3-manylinux_2_17_x86_64.manylinux2014_x86_64.whl (2.3 MB)\n",
            "\u001b[2K   \u001b[90m━━━━━━━━━━━━━━━━━━━━━━━━━━━━━━━━━━━━━━━━\u001b[0m \u001b[32m2.3/2.3 MB\u001b[0m \u001b[31m47.1 MB/s\u001b[0m eta \u001b[36m0:00:00\u001b[0m\n",
            "\u001b[?25hInstalling collected packages: pycryptodome, dateparser, python-binance\n",
            "Successfully installed dateparser-1.2.0 pycryptodome-3.21.0 python-binance-1.0.27\n"
          ]
        }
      ],
      "source": [
        "# Import Required Libraries\n",
        "import os\n",
        "import joblib\n",
        "import pandas as pd\n",
        "import numpy as np\n",
        "from xgboost import XGBClassifier\n",
        "from sklearn.model_selection import train_test_split\n",
        "from sklearn.metrics import classification_report\n",
        "\n",
        "# Install the 'ta' library if it's not already installed\n",
        "!pip install ta\n",
        "\n",
        "# Install the 'python-binance' library if it's not already installed\n",
        "!pip install python-binance # This line is added to install the missing library\n",
        "\n",
        "# Now import from 'ta'\n",
        "from ta.momentum import RSIIndicator\n",
        "from ta.trend import MACD\n",
        "from ta.volatility import BollingerBands\n",
        "from ta.trend import EMAIndicator\n",
        "from binance.client import Client # This import should now work\n",
        "from datetime import datetime, timedelta, timezone\n",
        "import time"
      ]
    },
    {
      "cell_type": "code",
      "source": [
        "\n",
        "# Define Directories and Symbols\n",
        "model_dir = \"models\"\n",
        "os.makedirs(model_dir, exist_ok=True)\n",
        "\n",
        "symbols = [\"BTCUSDT\", \"ETHUSDT\", \"BNBUSDT\", \"SOLUSDT\"]"
      ],
      "metadata": {
        "id": "XKvfCbv9U6LI"
      },
      "execution_count": 7,
      "outputs": []
    },
    {
      "cell_type": "code",
      "source": [
        "# Fetch and Process Data\n",
        "def fetch_candles(symbol, interval, lookback):\n",
        "    candles = client.get_historical_klines(symbol, interval, lookback)\n",
        "    df = pd.DataFrame(candles, columns=[\n",
        "        'timestamp', 'open', 'high', 'low', 'close', 'volume',\n",
        "        'close_time', 'quote_asset_volume', 'number_of_trades',\n",
        "        'taker_buy_base_asset_volume', 'taker_buy_quote_asset_volume', 'ignore'\n",
        "    ])\n",
        "    df['timestamp'] = pd.to_datetime(df['timestamp'], unit='ms')\n",
        "    df.set_index('timestamp', inplace=True)\n",
        "\n",
        "    for col in ['open', 'high', 'low', 'close', 'volume', 'quote_asset_volume', 'taker_buy_base_asset_volume', 'taker_buy_quote_asset_volume']:\n",
        "        df[col] = pd.to_numeric(df[col], errors='coerce')\n",
        "    return df"
      ],
      "metadata": {
        "id": "XzdAbLYCU9ed"
      },
      "execution_count": 8,
      "outputs": []
    },
    {
      "cell_type": "code",
      "source": [
        "# Calculate Indicators\n",
        "def calculate_indicators(df):\n",
        "    bb = BollingerBands(df['close'], window=12, window_dev=2)\n",
        "    df['bb_low'] = bb.bollinger_lband()\n",
        "    df['bb_high'] = bb.bollinger_hband()\n",
        "    df['rsi'] = RSIIndicator(df['close'], window=14).rsi()\n",
        "    stoch_rsi = (df['rsi'] - df['rsi'].rolling(window=14).min()) / (df['rsi'].rolling(window=14).max() - df['rsi'].rolling(window=14).min())\n",
        "    df['stoch_rsi'] = stoch_rsi\n",
        "    df['fast_ema'] = EMAIndicator(close=df['close'], window=5).ema_indicator()\n",
        "    df['slow_ema'] = EMAIndicator(close=df['close'], window=15).ema_indicator()\n",
        "    df['sma_30'] = df['close'].rolling(window=30).mean()\n",
        "    return df"
      ],
      "metadata": {
        "id": "2Rx8o7LIVA-v"
      },
      "execution_count": 9,
      "outputs": []
    },
    {
      "cell_type": "code",
      "source": [
        "from binance.client import Client\n",
        "\n",
        "# Replace with your actual keys\n",
        "API_KEY = \"your_api_key\"\n",
        "API_SECRET = \"your_api_secret\"\n",
        "\n",
        "# Initialize Binance client\n",
        "client = Client(API_KEY, API_SECRET)\n"
      ],
      "metadata": {
        "id": "-6nmIO4Td5vy"
      },
      "execution_count": null,
      "outputs": []
    },
    {
      "cell_type": "code",
      "source": [
        "# Train Models for Each Symbol\n",
        "for symbol in symbols:\n",
        "    df = fetch_candles(symbol, Client.KLINE_INTERVAL_6HOUR, '500 days ago UTC')\n",
        "    df = calculate_indicators(df)\n",
        "    df['future_return'] = df['close'].shift(-80) / df['close'] - 1\n",
        "    df['target'] = (df['future_return'] > 0.6).astype(int)\n",
        "    df.dropna(inplace=True)"
      ],
      "metadata": {
        "colab": {
          "base_uri": "https://localhost:8080/",
          "height": 353
        },
        "id": "LrThaPYXVD5V",
        "outputId": "e21ca760-cd68-4607-8a59-46863403afd2"
      },
      "execution_count": 10,
      "outputs": [
        {
          "output_type": "error",
          "ename": "NameError",
          "evalue": "name 'client' is not defined",
          "traceback": [
            "\u001b[0;31m---------------------------------------------------------------------------\u001b[0m",
            "\u001b[0;31mNameError\u001b[0m                                 Traceback (most recent call last)",
            "\u001b[0;32m<ipython-input-10-a520522eaf1d>\u001b[0m in \u001b[0;36m<cell line: 0>\u001b[0;34m()\u001b[0m\n\u001b[1;32m      1\u001b[0m \u001b[0;31m# Train Models for Each Symbol\u001b[0m\u001b[0;34m\u001b[0m\u001b[0;34m\u001b[0m\u001b[0m\n\u001b[1;32m      2\u001b[0m \u001b[0;32mfor\u001b[0m \u001b[0msymbol\u001b[0m \u001b[0;32min\u001b[0m \u001b[0msymbols\u001b[0m\u001b[0;34m:\u001b[0m\u001b[0;34m\u001b[0m\u001b[0;34m\u001b[0m\u001b[0m\n\u001b[0;32m----> 3\u001b[0;31m     \u001b[0mdf\u001b[0m \u001b[0;34m=\u001b[0m \u001b[0mfetch_candles\u001b[0m\u001b[0;34m(\u001b[0m\u001b[0msymbol\u001b[0m\u001b[0;34m,\u001b[0m \u001b[0mClient\u001b[0m\u001b[0;34m.\u001b[0m\u001b[0mKLINE_INTERVAL_6HOUR\u001b[0m\u001b[0;34m,\u001b[0m \u001b[0;34m'500 days ago UTC'\u001b[0m\u001b[0;34m)\u001b[0m\u001b[0;34m\u001b[0m\u001b[0;34m\u001b[0m\u001b[0m\n\u001b[0m\u001b[1;32m      4\u001b[0m     \u001b[0mdf\u001b[0m \u001b[0;34m=\u001b[0m \u001b[0mcalculate_indicators\u001b[0m\u001b[0;34m(\u001b[0m\u001b[0mdf\u001b[0m\u001b[0;34m)\u001b[0m\u001b[0;34m\u001b[0m\u001b[0;34m\u001b[0m\u001b[0m\n\u001b[1;32m      5\u001b[0m     \u001b[0mdf\u001b[0m\u001b[0;34m[\u001b[0m\u001b[0;34m'future_return'\u001b[0m\u001b[0;34m]\u001b[0m \u001b[0;34m=\u001b[0m \u001b[0mdf\u001b[0m\u001b[0;34m[\u001b[0m\u001b[0;34m'close'\u001b[0m\u001b[0;34m]\u001b[0m\u001b[0;34m.\u001b[0m\u001b[0mshift\u001b[0m\u001b[0;34m(\u001b[0m\u001b[0;34m-\u001b[0m\u001b[0;36m80\u001b[0m\u001b[0;34m)\u001b[0m \u001b[0;34m/\u001b[0m \u001b[0mdf\u001b[0m\u001b[0;34m[\u001b[0m\u001b[0;34m'close'\u001b[0m\u001b[0;34m]\u001b[0m \u001b[0;34m-\u001b[0m \u001b[0;36m1\u001b[0m\u001b[0;34m\u001b[0m\u001b[0;34m\u001b[0m\u001b[0m\n",
            "\u001b[0;32m<ipython-input-8-ba76da623c13>\u001b[0m in \u001b[0;36mfetch_candles\u001b[0;34m(symbol, interval, lookback)\u001b[0m\n\u001b[1;32m      1\u001b[0m \u001b[0;31m# Fetch and Process Data\u001b[0m\u001b[0;34m\u001b[0m\u001b[0;34m\u001b[0m\u001b[0m\n\u001b[1;32m      2\u001b[0m \u001b[0;32mdef\u001b[0m \u001b[0mfetch_candles\u001b[0m\u001b[0;34m(\u001b[0m\u001b[0msymbol\u001b[0m\u001b[0;34m,\u001b[0m \u001b[0minterval\u001b[0m\u001b[0;34m,\u001b[0m \u001b[0mlookback\u001b[0m\u001b[0;34m)\u001b[0m\u001b[0;34m:\u001b[0m\u001b[0;34m\u001b[0m\u001b[0;34m\u001b[0m\u001b[0m\n\u001b[0;32m----> 3\u001b[0;31m     \u001b[0mcandles\u001b[0m \u001b[0;34m=\u001b[0m \u001b[0mclient\u001b[0m\u001b[0;34m.\u001b[0m\u001b[0mget_historical_klines\u001b[0m\u001b[0;34m(\u001b[0m\u001b[0msymbol\u001b[0m\u001b[0;34m,\u001b[0m \u001b[0minterval\u001b[0m\u001b[0;34m,\u001b[0m \u001b[0mlookback\u001b[0m\u001b[0;34m)\u001b[0m\u001b[0;34m\u001b[0m\u001b[0;34m\u001b[0m\u001b[0m\n\u001b[0m\u001b[1;32m      4\u001b[0m     df = pd.DataFrame(candles, columns=[\n\u001b[1;32m      5\u001b[0m         \u001b[0;34m'timestamp'\u001b[0m\u001b[0;34m,\u001b[0m \u001b[0;34m'open'\u001b[0m\u001b[0;34m,\u001b[0m \u001b[0;34m'high'\u001b[0m\u001b[0;34m,\u001b[0m \u001b[0;34m'low'\u001b[0m\u001b[0;34m,\u001b[0m \u001b[0;34m'close'\u001b[0m\u001b[0;34m,\u001b[0m \u001b[0;34m'volume'\u001b[0m\u001b[0;34m,\u001b[0m\u001b[0;34m\u001b[0m\u001b[0;34m\u001b[0m\u001b[0m\n",
            "\u001b[0;31mNameError\u001b[0m: name 'client' is not defined"
          ]
        }
      ]
    },
    {
      "cell_type": "code",
      "source": [
        "\n",
        "  # Split Data into Train/Test\n",
        "    features = df.drop(columns=['target'])\n",
        "    target = df['target']\n",
        "    X_train, X_test, y_train, y_test = train_test_split(features, target, test_size=0.2, random_state=42)\n",
        "\n",
        "    # Train XGBoost Model\n",
        "    model = XGBClassifier(use_label_encoder=False, eval_metric='logloss')\n",
        "    model.fit(X_train, y_train)\n"
      ],
      "metadata": {
        "id": "HDuaDPRTd7Lj"
      },
      "execution_count": null,
      "outputs": []
    },
    {
      "cell_type": "code",
      "source": [
        "  # Save Model\n",
        "    model_path = os.path.join(model_dir, f\"{symbol}_xgboost_model.pkl\")\n",
        "    joblib.dump(model, model_path)\n",
        "\n",
        "    # Evaluate Model\n",
        "    y_pred = model.predict(X_test)\n",
        "    print(f\"Model for {symbol}:\")\n",
        "    print(classification_report(y_test, y_pred))"
      ],
      "metadata": {
        "id": "lGPXrTtHfT_F"
      },
      "execution_count": null,
      "outputs": []
    },
    {
      "cell_type": "code",
      "source": [
        "# Use Trained Models to Predict Probabilities\n",
        "\n",
        "def predict_with_trained_models():\n",
        "    results = {}\n",
        "    for symbol in symbols:\n",
        "        model_path = os.path.join(model_dir, f\"{symbol}_xgboost_model.pkl\")\n",
        "        if os.path.exists(model_path):\n",
        "            model = joblib.load(model_path)\n",
        "            df = fetch_candles(symbol, Client.KLINE_INTERVAL_6HOUR, '80 candles ago UTC')\n",
        "            df = calculate_indicators(df)\n",
        "            features = df.iloc[-1:].drop(columns=['target'], errors='ignore')\n",
        "            probabilities = model.predict_proba(features)\n",
        "            percentage_chances = probabilities[:, 1] * 100\n",
        "            results[symbol] = percentage_chances[0]\n",
        "    return results\n",
        "\n",
        "results = predict_with_trained_models()\n",
        "for symbol, prob in results.items():\n",
        "    print(f\"Probability of price increase >60% for {symbol}: {prob:.2f}%\")"
      ],
      "metadata": {
        "id": "_814mUBdfWy3"
      },
      "execution_count": null,
      "outputs": []
    },
    {
      "cell_type": "code",
      "source": [
        "# Integration with Trading System\n",
        "\n",
        "def execute_buy_order_with_model(client, symbol, usdt_to_use):\n",
        "    results = predict_with_trained_models()\n",
        "    probability = results.get(symbol, 0)\n",
        "    if probability > 60:\n",
        "        print(f\"Executing buy order for {symbol} with {usdt_to_use} USDT. Probability: {probability:.2f}%\")\n",
        "        execute_buy_order(client, symbol, usdt_to_use)\n",
        "    else:\n",
        "        print(f\"Buy signal not strong enough for {symbol}. Probability: {probability:.2f}%\")\n"
      ],
      "metadata": {
        "id": "vlp5e8-gfaUl"
      },
      "execution_count": null,
      "outputs": []
    }
  ]
}