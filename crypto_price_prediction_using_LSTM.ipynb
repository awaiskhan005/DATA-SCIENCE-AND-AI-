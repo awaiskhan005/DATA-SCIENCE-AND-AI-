{
  "nbformat": 4,
  "nbformat_minor": 0,
  "metadata": {
    "colab": {
      "provenance": [],
      "authorship_tag": "ABX9TyPK53J2I+mBsO5Ev41u5eLe",
      "include_colab_link": true
    },
    "kernelspec": {
      "name": "python3",
      "display_name": "Python 3"
    },
    "language_info": {
      "name": "python"
    }
  },
  "cells": [
    {
      "cell_type": "markdown",
      "metadata": {
        "id": "view-in-github",
        "colab_type": "text"
      },
      "source": [
        "<a href=\"https://colab.research.google.com/github/awaiskhan005/DATA-SCIENCE-AND-AI-/blob/main/crypto_price_prediction_using_LSTM.ipynb\" target=\"_parent\"><img src=\"https://colab.research.google.com/assets/colab-badge.svg\" alt=\"Open In Colab\"/></a>"
      ]
    },
    {
      "cell_type": "code",
      "execution_count": 3,
      "metadata": {
        "id": "YP7PfctnHpY2"
      },
      "outputs": [],
      "source": [
        "import yfinance as yf\n",
        "import pandas as pd\n",
        "import numpy as np\n",
        "from sklearn.preprocessing import MinMaxScaler\n",
        "from tensorflow.keras.models import Sequential\n",
        "from tensorflow.keras.layers import LSTM, Dense\n",
        "import matplotlib.pyplot as plt"
      ]
    },
    {
      "cell_type": "code",
      "source": [
        "import yfinance as yf\n",
        "import pandas as pd\n",
        "import numpy as np\n",
        "from sklearn.preprocessing import MinMaxScaler\n",
        "from tensorflow.keras.models import Sequential\n",
        "from tensorflow.keras.layers import LSTM, Dense"
      ],
      "metadata": {
        "id": "2AAv-7HsIdQv"
      },
      "execution_count": 4,
      "outputs": []
    },
    {
      "cell_type": "code",
      "source": [
        "# Function to fetch and prepare data for multiple tickers\n",
        "def fetch_and_prepare_data(tickers, start_date, end_date):\n",
        "    combined_data = pd.DataFrame()\n",
        "\n",
        "    for ticker in tickers:\n",
        "        data = yf.download(ticker, start=start_date, end=end_date)\n",
        "        data.ffill(inplace=True)  # Forward fill any null values\n",
        "        data = data[['Close']].rename(columns={'Close': ticker})\n",
        "\n",
        "        if combined_data.empty:\n",
        "            combined_data = data\n",
        "        else:\n",
        "            combined_data = combined_data.join(data, how='outer')\n",
        "\n",
        "    combined_data.ffill(inplace=True)  # Forward fill any remaining null values after join\n",
        "    return combined_data\n"
      ],
      "metadata": {
        "id": "jBcgdojRIpG3"
      },
      "execution_count": 5,
      "outputs": []
    },
    {
      "cell_type": "code",
      "source": [
        "# Example usage\n",
        "tickers = ['BTC-USD', 'ETH-USD', 'LTC-USD']\n",
        "start_date = '2020-01-01'\n",
        "end_date = '2024-07-28'\n",
        "data = fetch_and_prepare_data(tickers, start_date, end_date)"
      ],
      "metadata": {
        "colab": {
          "base_uri": "https://localhost:8080/"
        },
        "id": "YxlFgtLwIxVx",
        "outputId": "cd878593-1fb7-487f-b0e9-d4d5a69f9890"
      },
      "execution_count": 6,
      "outputs": [
        {
          "output_type": "stream",
          "name": "stderr",
          "text": [
            "[*********************100%%**********************]  1 of 1 completed\n",
            "[*********************100%%**********************]  1 of 1 completed\n",
            "[*********************100%%**********************]  1 of 1 completed\n"
          ]
        }
      ]
    },
    {
      "cell_type": "code",
      "source": [
        "# Function to normalize data\n",
        "def normalize_data(data):\n",
        "    scaler = MinMaxScaler()\n",
        "    normalized_data = scaler.fit_transform(data)\n",
        "    return normalized_data, scaler\n",
        "\n",
        "# Normalize data\n",
        "normalized_data, scaler = normalize_data(data)\n"
      ],
      "metadata": {
        "id": "H24V3J6KI81G"
      },
      "execution_count": 7,
      "outputs": []
    },
    {
      "cell_type": "code",
      "source": [
        "# Function to create a dataset for LSTM\n",
        "def create_dataset(data, time_step=1):\n",
        "    X, Y = [], []\n",
        "    for i in range(len(data) - time_step - 1):\n",
        "        X.append(data[i:(i + time_step)])\n",
        "        Y.append(data[i + time_step, 0])  # Predict the first coin (e.g., BTC-USD)\n",
        "    return np.array(X), np.array(Y)\n",
        "\n",
        "# Create dataset\n",
        "time_step = 60\n",
        "X, Y = create_dataset(normalized_data, time_step)\n",
        "X = X.reshape(X.shape[0], X.shape[1], len(tickers))  # Reshape for LSTM input\n"
      ],
      "metadata": {
        "id": "tfoJqHHAJAJD"
      },
      "execution_count": 8,
      "outputs": []
    },
    {
      "cell_type": "code",
      "source": [
        "# Function to build LSTM model\n",
        "def build_model(input_shape):\n",
        "    model = Sequential()\n",
        "    model.add(LSTM(50, return_sequences=True, input_shape=input_shape))\n",
        "    model.add(LSTM(50, return_sequences=False))\n",
        "    model.add(Dense(25))\n",
        "    model.add(Dense(1))  # Predict the price of the first coin\n",
        "    model.compile(optimizer='adam', loss='mean_squared_error')\n",
        "    return model\n",
        "\n",
        "# Build and train the model\n",
        "model = build_model((time_step, len(tickers)))\n",
        "model.fit(X, Y, batch_size=1, epochs=1)\n"
      ],
      "metadata": {
        "colab": {
          "base_uri": "https://localhost:8080/"
        },
        "id": "bzBbk-BwJD4Q",
        "outputId": "c6c03a1e-09e7-42f2-d460-4ecf2724ffd9"
      },
      "execution_count": 9,
      "outputs": [
        {
          "output_type": "stream",
          "name": "stdout",
          "text": [
            "1609/1609 [==============================] - 55s 32ms/step - loss: 0.0027\n"
          ]
        },
        {
          "output_type": "execute_result",
          "data": {
            "text/plain": [
              "<keras.src.callbacks.History at 0x7df554305fc0>"
            ]
          },
          "metadata": {},
          "execution_count": 9
        }
      ]
    },
    {
      "cell_type": "code",
      "source": [
        "def update_model_with_real_time_data(model, scaler, tickers, time_step=60):\n",
        "    new_data = {}\n",
        "\n",
        "    for ticker in tickers:\n",
        "        new_data[ticker] = yf.download(ticker, period='1d', interval='1m')['Close']\n",
        "\n",
        "    new_data = pd.DataFrame(new_data).ffill().values\n",
        "\n",
        "    if new_data.shape[0] <= time_step:\n",
        "        print(\"Not enough data to update the model.\")\n",
        "        return\n",
        "\n",
        "    normalized_new_data = scaler.transform(new_data)\n",
        "\n",
        "    for i in range(len(normalized_new_data) - time_step - 1):\n",
        "        x = normalized_new_data[i:(i + time_step)]\n",
        "        x = x.reshape(1, time_step, len(tickers))\n",
        "        y = normalized_new_data[i + time_step, 0]\n",
        "\n",
        "        model.train_on_batch(x, np.array([y]))\n",
        "\n",
        "# Example usage for real-time data update\n",
        "update_model_with_real_time_data(model, scaler, tickers)\n"
      ],
      "metadata": {
        "colab": {
          "base_uri": "https://localhost:8080/"
        },
        "id": "kYrtVFs6KOOQ",
        "outputId": "87825646-3b90-4f19-fea0-0fececc42013"
      },
      "execution_count": 12,
      "outputs": [
        {
          "output_type": "stream",
          "name": "stderr",
          "text": [
            "[*********************100%%**********************]  1 of 1 completed\n",
            "[*********************100%%**********************]  1 of 1 completed\n",
            "[*********************100%%**********************]  1 of 1 completed\n",
            "/usr/local/lib/python3.10/dist-packages/sklearn/base.py:465: UserWarning: X does not have valid feature names, but MinMaxScaler was fitted with feature names\n",
            "  warnings.warn(\n"
          ]
        }
      ]
    },
    {
      "cell_type": "code",
      "source": [
        "import time\n",
        "import numpy as np\n",
        "\n",
        "def make_trading_decision(model, scaler, tickers, time_step=60):\n",
        "    while True:\n",
        "        new_data = {}\n",
        "\n",
        "        for ticker in tickers:\n",
        "            new_data[ticker] = yf.download(ticker, period='1d', interval='1m')['Close']\n",
        "\n",
        "        new_data = pd.DataFrame(new_data).ffill().values\n",
        "\n",
        "        if new_data.shape[0] <= time_step:\n",
        "            print(\"Not enough data to make a prediction.\")\n",
        "            continue\n",
        "\n",
        "        normalized_new_data = scaler.transform(new_data)\n",
        "\n",
        "        # Predict the next price\n",
        "        x = normalized_new_data[-time_step:]\n",
        "        x = x.reshape(1, time_step, len(tickers))\n",
        "        predicted_price_normalized = model.predict(x)\n",
        "\n",
        "        # Reshape the predicted price to match scaler input shape\n",
        "        predicted_price_normalized = predicted_price_normalized.reshape(-1, 1)\n",
        "\n",
        "        # Inverse transform to get the actual price\n",
        "        predicted_price = scaler.inverse_transform(np.tile(predicted_price_normalized, (1, len(tickers))))\n",
        "\n",
        "        # Implement your trading logic here\n",
        "        print(f\"Predicted price for {tickers[0]}: {predicted_price[0][0]}\")\n",
        "\n",
        "        # Sleep for a minute before the next prediction\n",
        "        time.sleep(60)\n",
        "\n",
        "# Start the trading bot\n",
        "make_trading_decision(model, scaler, tickers)\n"
      ],
      "metadata": {
        "colab": {
          "base_uri": "https://localhost:8080/"
        },
        "id": "1Piib4EvLCw4",
        "outputId": "c9a66d44-44af-43eb-f359-e3055d0096ee"
      },
      "execution_count": null,
      "outputs": [
        {
          "output_type": "stream",
          "name": "stderr",
          "text": [
            "[*********************100%%**********************]  1 of 1 completed\n",
            "[*********************100%%**********************]  1 of 1 completed\n",
            "[*********************100%%**********************]  1 of 1 completed\n",
            "/usr/local/lib/python3.10/dist-packages/sklearn/base.py:465: UserWarning: X does not have valid feature names, but MinMaxScaler was fitted with feature names\n",
            "  warnings.warn(\n"
          ]
        },
        {
          "output_type": "stream",
          "name": "stdout",
          "text": [
            "1/1 [==============================] - 0s 40ms/step\n",
            "Predicted price for BTC-USD: 67145.8828125\n"
          ]
        },
        {
          "output_type": "stream",
          "name": "stderr",
          "text": [
            "[*********************100%%**********************]  1 of 1 completed\n",
            "[*********************100%%**********************]  1 of 1 completed\n",
            "[*********************100%%**********************]  1 of 1 completed\n",
            "/usr/local/lib/python3.10/dist-packages/sklearn/base.py:465: UserWarning: X does not have valid feature names, but MinMaxScaler was fitted with feature names\n",
            "  warnings.warn(\n"
          ]
        },
        {
          "output_type": "stream",
          "name": "stdout",
          "text": [
            "1/1 [==============================] - 0s 26ms/step\n",
            "Predicted price for BTC-USD: 67137.6015625\n"
          ]
        },
        {
          "output_type": "stream",
          "name": "stderr",
          "text": [
            "[*********************100%%**********************]  1 of 1 completed\n",
            "[*********************100%%**********************]  1 of 1 completed\n",
            "[*********************100%%**********************]  1 of 1 completed"
          ]
        },
        {
          "output_type": "stream",
          "name": "stdout",
          "text": [
            "1/1 [==============================] - 0s 28ms/step\n"
          ]
        },
        {
          "output_type": "stream",
          "name": "stderr",
          "text": [
            "\n",
            "/usr/local/lib/python3.10/dist-packages/sklearn/base.py:465: UserWarning: X does not have valid feature names, but MinMaxScaler was fitted with feature names\n",
            "  warnings.warn(\n"
          ]
        },
        {
          "output_type": "stream",
          "name": "stdout",
          "text": [
            "Predicted price for BTC-USD: 67132.9140625\n"
          ]
        },
        {
          "output_type": "stream",
          "name": "stderr",
          "text": [
            "[*********************100%%**********************]  1 of 1 completed\n",
            "[*********************100%%**********************]  1 of 1 completed\n",
            "[*********************100%%**********************]  1 of 1 completed\n",
            "/usr/local/lib/python3.10/dist-packages/sklearn/base.py:465: UserWarning: X does not have valid feature names, but MinMaxScaler was fitted with feature names\n",
            "  warnings.warn(\n"
          ]
        },
        {
          "output_type": "stream",
          "name": "stdout",
          "text": [
            "1/1 [==============================] - 0s 28ms/step\n",
            "Predicted price for BTC-USD: 67129.328125\n"
          ]
        },
        {
          "output_type": "stream",
          "name": "stderr",
          "text": [
            "[*********************100%%**********************]  1 of 1 completed\n",
            "[*********************100%%**********************]  1 of 1 completed\n",
            "[*********************100%%**********************]  1 of 1 completed\n",
            "/usr/local/lib/python3.10/dist-packages/sklearn/base.py:465: UserWarning: X does not have valid feature names, but MinMaxScaler was fitted with feature names\n",
            "  warnings.warn(\n"
          ]
        },
        {
          "output_type": "stream",
          "name": "stdout",
          "text": [
            "1/1 [==============================] - 0s 30ms/step\n",
            "Predicted price for BTC-USD: 67135.6484375\n"
          ]
        },
        {
          "output_type": "stream",
          "name": "stderr",
          "text": [
            "[*********************100%%**********************]  1 of 1 completed\n",
            "[*********************100%%**********************]  1 of 1 completed\n",
            "[*********************100%%**********************]  1 of 1 completed\n",
            "/usr/local/lib/python3.10/dist-packages/sklearn/base.py:465: UserWarning: X does not have valid feature names, but MinMaxScaler was fitted with feature names\n",
            "  warnings.warn(\n"
          ]
        },
        {
          "output_type": "stream",
          "name": "stdout",
          "text": [
            "1/1 [==============================] - 0s 54ms/step\n",
            "Predicted price for BTC-USD: 67140.5703125\n"
          ]
        },
        {
          "output_type": "stream",
          "name": "stderr",
          "text": [
            "[*********************100%%**********************]  1 of 1 completed\n",
            "[*********************100%%**********************]  1 of 1 completed\n",
            "[*********************100%%**********************]  1 of 1 completed\n",
            "/usr/local/lib/python3.10/dist-packages/sklearn/base.py:465: UserWarning: X does not have valid feature names, but MinMaxScaler was fitted with feature names\n",
            "  warnings.warn(\n"
          ]
        },
        {
          "output_type": "stream",
          "name": "stdout",
          "text": [
            "1/1 [==============================] - 0s 65ms/step\n",
            "Predicted price for BTC-USD: 67133.515625\n"
          ]
        },
        {
          "output_type": "stream",
          "name": "stderr",
          "text": [
            "[*********************100%%**********************]  1 of 1 completed\n",
            "[*********************100%%**********************]  1 of 1 completed\n",
            "[*********************100%%**********************]  1 of 1 completed\n",
            "/usr/local/lib/python3.10/dist-packages/sklearn/base.py:465: UserWarning: X does not have valid feature names, but MinMaxScaler was fitted with feature names\n",
            "  warnings.warn(\n"
          ]
        },
        {
          "output_type": "stream",
          "name": "stdout",
          "text": [
            "1/1 [==============================] - 0s 29ms/step\n",
            "Predicted price for BTC-USD: 67127.5\n"
          ]
        },
        {
          "output_type": "stream",
          "name": "stderr",
          "text": [
            "[*********************100%%**********************]  1 of 1 completed\n",
            "[*********************100%%**********************]  1 of 1 completed\n",
            "[*********************100%%**********************]  1 of 1 completed\n",
            "/usr/local/lib/python3.10/dist-packages/sklearn/base.py:465: UserWarning: X does not have valid feature names, but MinMaxScaler was fitted with feature names\n",
            "  warnings.warn(\n"
          ]
        },
        {
          "output_type": "stream",
          "name": "stdout",
          "text": [
            "1/1 [==============================] - 0s 27ms/step\n",
            "Predicted price for BTC-USD: 67122.375\n"
          ]
        },
        {
          "output_type": "stream",
          "name": "stderr",
          "text": [
            "[*********************100%%**********************]  1 of 1 completed\n",
            "[*********************100%%**********************]  1 of 1 completed\n",
            "[*********************100%%**********************]  1 of 1 completed"
          ]
        },
        {
          "output_type": "stream",
          "name": "stdout",
          "text": [
            "1/1 [==============================] - 0s 27ms/step\n"
          ]
        },
        {
          "output_type": "stream",
          "name": "stderr",
          "text": [
            "\n",
            "/usr/local/lib/python3.10/dist-packages/sklearn/base.py:465: UserWarning: X does not have valid feature names, but MinMaxScaler was fitted with feature names\n",
            "  warnings.warn(\n"
          ]
        },
        {
          "output_type": "stream",
          "name": "stdout",
          "text": [
            "Predicted price for BTC-USD: 67120.4921875\n"
          ]
        }
      ]
    }
  ]
}