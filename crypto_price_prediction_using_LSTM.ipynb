{
  "nbformat": 4,
  "nbformat_minor": 0,
  "metadata": {
    "colab": {
      "provenance": [],
      "authorship_tag": "ABX9TyMrAiQP4ogqmzSPpHiNClr2",
      "include_colab_link": true
    },
    "kernelspec": {
      "name": "python3",
      "display_name": "Python 3"
    },
    "language_info": {
      "name": "python"
    }
  },
  "cells": [
    {
      "cell_type": "markdown",
      "metadata": {
        "id": "view-in-github",
        "colab_type": "text"
      },
      "source": [
        "<a href=\"https://colab.research.google.com/github/awaiskhan005/DATA-SCIENCE-AND-AI-/blob/main/crypto_price_prediction_using_LSTM.ipynb\" target=\"_parent\"><img src=\"https://colab.research.google.com/assets/colab-badge.svg\" alt=\"Open In Colab\"/></a>"
      ]
    },
    {
      "cell_type": "code",
      "execution_count": 21,
      "metadata": {
        "id": "YP7PfctnHpY2"
      },
      "outputs": [],
      "source": [
        "import yfinance as yf\n",
        "import pandas as pd\n",
        "import numpy as np\n",
        "from sklearn.preprocessing import MinMaxScaler\n",
        "from tensorflow.keras.models import Sequential\n",
        "from tensorflow.keras.layers import LSTM, Dense\n",
        "import matplotlib.pyplot as plt"
      ]
    },
    {
      "cell_type": "code",
      "source": [
        "import yfinance as yf\n",
        "import pandas as pd\n",
        "import numpy as np\n",
        "from sklearn.preprocessing import MinMaxScaler\n",
        "from tensorflow.keras.models import Sequential\n",
        "from tensorflow.keras.layers import LSTM, Dense"
      ],
      "metadata": {
        "id": "2AAv-7HsIdQv"
      },
      "execution_count": 22,
      "outputs": []
    },
    {
      "cell_type": "code",
      "source": [
        "# Function to fetch and prepare data for multiple tickers\n",
        "def fetch_and_prepare_data(tickers, start_date, end_date):\n",
        "    combined_data = pd.DataFrame()\n",
        "\n",
        "    for ticker in tickers:\n",
        "        data = yf.download(ticker, start=start_date, end=end_date)\n",
        "        data.ffill(inplace=True)  # Forward fill any null values\n",
        "        data = data[['Close']].rename(columns={'Close': ticker})\n",
        "\n",
        "        if combined_data.empty:\n",
        "            combined_data = data\n",
        "        else:\n",
        "            combined_data = combined_data.join(data, how='outer')\n",
        "\n",
        "    combined_data.ffill(inplace=True)  # Forward fill any remaining null values after join\n",
        "    return combined_data\n"
      ],
      "metadata": {
        "id": "jBcgdojRIpG3"
      },
      "execution_count": 23,
      "outputs": []
    },
    {
      "cell_type": "code",
      "source": [
        "# Example usage\n",
        "tickers = ['BTC-USD', 'ETH-USD', 'LTC-USD']\n",
        "start_date = '2020-01-01'\n",
        "end_date = '2024-07-30'\n",
        "data = fetch_and_prepare_data(tickers, start_date, end_date)"
      ],
      "metadata": {
        "colab": {
          "base_uri": "https://localhost:8080/"
        },
        "id": "YxlFgtLwIxVx",
        "outputId": "2539c3fe-86f1-412a-9830-315c359e8b80"
      },
      "execution_count": 24,
      "outputs": [
        {
          "output_type": "stream",
          "name": "stderr",
          "text": [
            "[*********************100%%**********************]  1 of 1 completed\n",
            "[*********************100%%**********************]  1 of 1 completed\n",
            "[*********************100%%**********************]  1 of 1 completed\n"
          ]
        }
      ]
    },
    {
      "cell_type": "code",
      "source": [
        "# Function to normalize data\n",
        "def normalize_data(data):\n",
        "    scaler = MinMaxScaler()\n",
        "    normalized_data = scaler.fit_transform(data)\n",
        "    return normalized_data, scaler\n",
        "\n",
        "# Normalize data\n",
        "normalized_data, scaler = normalize_data(data)\n"
      ],
      "metadata": {
        "id": "H24V3J6KI81G"
      },
      "execution_count": 25,
      "outputs": []
    },
    {
      "cell_type": "code",
      "source": [
        "# Function to create a dataset for LSTM\n",
        "def create_dataset(data, time_step=1):\n",
        "    X, Y = [], []\n",
        "    for i in range(len(data) - time_step - 1):\n",
        "        X.append(data[i:(i + time_step)])\n",
        "        Y.append(data[i + time_step, 0])  # Predict the first coin (e.g., BTC-USD)\n",
        "    return np.array(X), np.array(Y)\n",
        "\n",
        "# Create dataset\n",
        "time_step = 60\n",
        "X, Y = create_dataset(normalized_data, time_step)\n",
        "X = X.reshape(X.shape[0], X.shape[1], len(tickers))  # Reshape for LSTM input\n"
      ],
      "metadata": {
        "id": "tfoJqHHAJAJD"
      },
      "execution_count": 26,
      "outputs": []
    },
    {
      "cell_type": "code",
      "source": [
        "# Function to build LSTM model\n",
        "def build_model(input_shape):\n",
        "    model = Sequential()\n",
        "    model.add(LSTM(50, return_sequences=True, input_shape=input_shape))\n",
        "    model.add(LSTM(50, return_sequences=False))\n",
        "    model.add(Dense(25))\n",
        "    model.add(Dense(1))  # Predict the price of the first coin\n",
        "    model.compile(optimizer='adam', loss='mean_squared_error')\n",
        "    return model\n",
        "\n",
        "# Build and train the model\n",
        "model = build_model((time_step, len(tickers)))\n",
        "model.fit(X, Y, batch_size=1, epochs=50)\n"
      ],
      "metadata": {
        "colab": {
          "base_uri": "https://localhost:8080/"
        },
        "id": "bzBbk-BwJD4Q",
        "outputId": "352625c9-2ac6-47ef-9f44-8202e9ce112a"
      },
      "execution_count": 27,
      "outputs": [
        {
          "output_type": "stream",
          "name": "stdout",
          "text": [
            "1611/1611 [==============================] - 58s 34ms/step - loss: 0.0035\n"
          ]
        },
        {
          "output_type": "execute_result",
          "data": {
            "text/plain": [
              "<keras.src.callbacks.History at 0x7df54c2a5a50>"
            ]
          },
          "metadata": {},
          "execution_count": 27
        }
      ]
    },
    {
      "cell_type": "code",
      "source": [
        "def update_model_with_real_time_data(model, scaler, tickers, time_step=60):\n",
        "    new_data = {}\n",
        "\n",
        "    for ticker in tickers:\n",
        "        new_data[ticker] = yf.download(ticker, period='1d', interval='1m')['Close']\n",
        "\n",
        "    new_data = pd.DataFrame(new_data).ffill().values\n",
        "\n",
        "    if new_data.shape[0] <= time_step:\n",
        "        print(\"Not enough data to update the model.\")\n",
        "        return\n",
        "\n",
        "    normalized_new_data = scaler.transform(new_data)\n",
        "\n",
        "    for i in range(len(normalized_new_data) - time_step - 1):\n",
        "        x = normalized_new_data[i:(i + time_step)]\n",
        "        x = x.reshape(1, time_step, len(tickers))\n",
        "        y = normalized_new_data[i + time_step, 0]\n",
        "\n",
        "        model.train_on_batch(x, np.array([y]))\n",
        "\n",
        "# Example usage for real-time data update\n",
        "update_model_with_real_time_data(model, scaler, tickers)\n"
      ],
      "metadata": {
        "colab": {
          "base_uri": "https://localhost:8080/"
        },
        "id": "kYrtVFs6KOOQ",
        "outputId": "fc951135-8126-4e83-b35e-ba26b32e8d5c"
      },
      "execution_count": 28,
      "outputs": [
        {
          "output_type": "stream",
          "name": "stderr",
          "text": [
            "[*********************100%%**********************]  1 of 1 completed\n",
            "[*********************100%%**********************]  1 of 1 completed\n",
            "[*********************100%%**********************]  1 of 1 completed\n",
            "/usr/local/lib/python3.10/dist-packages/sklearn/base.py:465: UserWarning:\n",
            "\n",
            "X does not have valid feature names, but MinMaxScaler was fitted with feature names\n",
            "\n"
          ]
        }
      ]
    },
    {
      "cell_type": "code",
      "source": [
        "# prompt: can we make a live visual fro the above prediction with should indicate live predicted values\n",
        "\n",
        "import yfinance as yf\n",
        "import pandas as pd\n",
        "import numpy as np\n",
        "from sklearn.preprocessing import MinMaxScaler\n",
        "from tensorflow.keras.models import Sequential\n",
        "from tensorflow.keras.layers import LSTM, Dense\n",
        "import matplotlib.pyplot as plt\n",
        "import time\n",
        "\n",
        "# ... (Your existing code for fetching, preparing, normalizing data, building and training the model) ...\n",
        "\n",
        "def make_trading_decision(model, scaler, tickers, time_step=60):\n",
        "    plt.ion()  # Turn on interactive mode for live plotting\n",
        "    fig, ax = plt.subplots()\n",
        "    line, = ax.plot([], [], 'r-')  # Initialize an empty plot\n",
        "    ax.set_xlabel('Time')\n",
        "    ax.set_ylabel('Price')\n",
        "    ax.set_title(f'Live Predicted Price for {tickers[0]}')\n",
        "    x_data = []\n",
        "    y_data = []\n",
        "\n",
        "    while True:\n",
        "        new_data = {}\n",
        "\n",
        "        for ticker in tickers:\n",
        "            new_data[ticker] = yf.download(ticker, period='1d', interval='1m')['Close']\n",
        "\n",
        "        new_data = pd.DataFrame(new_data).ffill().values\n",
        "\n",
        "        if new_data.shape[0] <= time_step:\n",
        "            print(\"Not enough data to make a prediction.\")\n",
        "            continue\n",
        "\n",
        "        normalized_new_data = scaler.transform(new_data)\n",
        "\n",
        "        # Predict the next price\n",
        "        x = normalized_new_data[-time_step:]\n",
        "        x = x.reshape(1, time_step, len(tickers))\n",
        "        predicted_price_normalized = model.predict(x)\n",
        "\n",
        "        # Reshape the predicted price to match scaler input shape\n",
        "        predicted_price_normalized = predicted_price_normalized.reshape(-1, 1)\n",
        "\n",
        "        # Inverse transform to get the actual price\n",
        "        predicted_price = scaler.inverse_transform(np.tile(predicted_price_normalized, (1, len(tickers))))\n",
        "\n",
        "        # Update plot data\n",
        "        x_data.append(time.time())  # Use timestamp for x-axis\n",
        "        y_data.append(predicted_price[0][0])\n",
        "\n",
        "        # Update the plot\n",
        "        line.set_data(x_data, y_data)\n",
        "        ax.relim()  # Recalculate limits\n",
        "        ax.autoscale_view()  # Autoscale the view\n",
        "        fig.canvas.draw()\n",
        "        fig.canvas.flush_events()  # Update the plot on the screen\n",
        "\n",
        "        print(f\"Predicted price for {tickers[0]}: {predicted_price[0][0]}\")\n",
        "\n",
        "        # Sleep for a minute before the next prediction\n",
        "        time.sleep(60)\n",
        "\n",
        "# Start the trading bot with live visualization\n",
        "make_trading_decision(model, scaler, tickers)\n"
      ],
      "metadata": {
        "id": "AndWEzk0bSXV",
        "outputId": "324f56d0-0dc6-4c84-c1a9-a205a38cb905",
        "colab": {
          "base_uri": "https://localhost:8080/",
          "height": 1000
        }
      },
      "execution_count": 29,
      "outputs": [
        {
          "output_type": "stream",
          "name": "stderr",
          "text": [
            "[*********************100%%**********************]  1 of 1 completed\n",
            "[*********************100%%**********************]  1 of 1 completed\n",
            "[*********************100%%**********************]  1 of 1 completed\n",
            "/usr/local/lib/python3.10/dist-packages/sklearn/base.py:465: UserWarning:\n",
            "\n",
            "X does not have valid feature names, but MinMaxScaler was fitted with feature names\n",
            "\n"
          ]
        },
        {
          "output_type": "stream",
          "name": "stdout",
          "text": [
            "1/1 [==============================] - 1s 1s/step\n",
            "Predicted price for BTC-USD: 67185.265625\n"
          ]
        },
        {
          "output_type": "stream",
          "name": "stderr",
          "text": [
            "[*********************100%%**********************]  1 of 1 completed\n",
            "[*********************100%%**********************]  1 of 1 completed\n",
            "[*********************100%%**********************]  1 of 1 completed\n",
            "/usr/local/lib/python3.10/dist-packages/sklearn/base.py:465: UserWarning:\n",
            "\n",
            "X does not have valid feature names, but MinMaxScaler was fitted with feature names\n",
            "\n"
          ]
        },
        {
          "output_type": "stream",
          "name": "stdout",
          "text": [
            "1/1 [==============================] - 0s 36ms/step\n",
            "Predicted price for BTC-USD: 67176.9765625\n"
          ]
        },
        {
          "output_type": "error",
          "ename": "KeyboardInterrupt",
          "evalue": "",
          "traceback": [
            "\u001b[0;31m---------------------------------------------------------------------------\u001b[0m",
            "\u001b[0;31mKeyboardInterrupt\u001b[0m                         Traceback (most recent call last)",
            "\u001b[0;32m<ipython-input-29-459d920e9ec7>\u001b[0m in \u001b[0;36m<cell line: 66>\u001b[0;34m()\u001b[0m\n\u001b[1;32m     64\u001b[0m \u001b[0;34m\u001b[0m\u001b[0m\n\u001b[1;32m     65\u001b[0m \u001b[0;31m# Start the trading bot with live visualization\u001b[0m\u001b[0;34m\u001b[0m\u001b[0;34m\u001b[0m\u001b[0m\n\u001b[0;32m---> 66\u001b[0;31m \u001b[0mmake_trading_decision\u001b[0m\u001b[0;34m(\u001b[0m\u001b[0mmodel\u001b[0m\u001b[0;34m,\u001b[0m \u001b[0mscaler\u001b[0m\u001b[0;34m,\u001b[0m \u001b[0mtickers\u001b[0m\u001b[0;34m)\u001b[0m\u001b[0;34m\u001b[0m\u001b[0;34m\u001b[0m\u001b[0m\n\u001b[0m",
            "\u001b[0;32m<ipython-input-29-459d920e9ec7>\u001b[0m in \u001b[0;36mmake_trading_decision\u001b[0;34m(model, scaler, tickers, time_step)\u001b[0m\n\u001b[1;32m     61\u001b[0m \u001b[0;34m\u001b[0m\u001b[0m\n\u001b[1;32m     62\u001b[0m         \u001b[0;31m# Sleep for a minute before the next prediction\u001b[0m\u001b[0;34m\u001b[0m\u001b[0;34m\u001b[0m\u001b[0m\n\u001b[0;32m---> 63\u001b[0;31m         \u001b[0mtime\u001b[0m\u001b[0;34m.\u001b[0m\u001b[0msleep\u001b[0m\u001b[0;34m(\u001b[0m\u001b[0;36m60\u001b[0m\u001b[0;34m)\u001b[0m\u001b[0;34m\u001b[0m\u001b[0;34m\u001b[0m\u001b[0m\n\u001b[0m\u001b[1;32m     64\u001b[0m \u001b[0;34m\u001b[0m\u001b[0m\n\u001b[1;32m     65\u001b[0m \u001b[0;31m# Start the trading bot with live visualization\u001b[0m\u001b[0;34m\u001b[0m\u001b[0;34m\u001b[0m\u001b[0m\n",
            "\u001b[0;31mKeyboardInterrupt\u001b[0m: "
          ]
        },
        {
          "output_type": "display_data",
          "data": {
            "text/plain": [
              "<Figure size 640x480 with 1 Axes>"
            ],
            "image/png": "[encoded data removed]"
          },
          "metadata": {}
        }
      ]
    },
    {
      "cell_type": "code",
      "source": [
        "# prompt: live visual is not shown\n",
        "\n",
        "import yfinance as yf\n",
        "import pandas as pd\n",
        "import numpy as np\n",
        "from sklearn.preprocessing import MinMaxScaler\n",
        "from tensorflow.keras.models import Sequential\n",
        "from tensorflow.keras.layers import LSTM, Dense\n",
        "import time\n",
        "import plotly.graph_objects as go\n",
        "from plotly.subplots import make_subplots\n",
        "import datetime\n",
        "\n",
        "# ... (Your existing code for fetching, preparing, normalizing data, building and training the model) ...\n",
        "\n",
        "def make_trading_decision(model, scaler, tickers, time_step=60):\n",
        "    fig = go.Figure()\n",
        "\n",
        "    # Initial trace (empty)\n",
        "    fig.add_trace(\n",
        "        go.Scatter(x=[], y=[], mode='lines', name='Predicted Price')\n",
        "    )\n",
        "\n",
        "    fig.update_layout(title=f'Live Predicted Price for {tickers[0]}',\n",
        "                      xaxis_title='Time',\n",
        "                      yaxis_title='Price')\n",
        "\n",
        "    # Display the figure\n",
        "    fig.show(renderer=\"colab\")  # Use 'colab' renderer for Google Colab\n",
        "\n",
        "    x_data = []\n",
        "    y_data = []\n",
        "\n",
        "    while True:\n",
        "        new_data = {}\n",
        "\n",
        "        for ticker in tickers:\n",
        "            new_data[ticker] = yf.download(ticker, period='1d', interval='1m')['Close']\n",
        "\n",
        "        new_data = pd.DataFrame(new_data).ffill().values\n",
        "\n",
        "        if new_data.shape[0] <= time_step:\n",
        "            print(\"Not enough data to make a prediction.\")\n",
        "            continue\n",
        "\n",
        "        normalized_new_data = scaler.transform(new_data)\n",
        "\n",
        "        # Predict the next price\n",
        "        x = normalized_new_data[-time_step:]\n",
        "        x = x.reshape(1, time_step, len(tickers))\n",
        "        predicted_price_normalized = model.predict(x)\n",
        "\n",
        "        # Reshape the predicted price to match scaler input shape\n",
        "        predicted_price_normalized = predicted_price_normalized.reshape(-1, 1)\n",
        "\n",
        "        # Inverse transform to get the actual price\n",
        "        predicted_price = scaler.inverse_transform(np.tile(predicted_price_normalized, (1, len(tickers))))\n",
        "\n",
        "        # Update plot data\n",
        "        x_data.append(datetime.datetime.now())  # Use datetime object for x-axis\n",
        "        y_data.append(predicted_price[0][0])\n",
        "\n",
        "        # Update the plot\n",
        "        with fig.batch_update():\n",
        "            fig.data[0].x = x_data\n",
        "            fig.data[0].y = y_data\n",
        "\n",
        "        print(f\"Predicted price for {tickers[0]}: {predicted_price[0][0]}\")\n",
        "\n",
        "        # Sleep for a minute before the next prediction\n",
        "        time.sleep(60)\n",
        "\n",
        "# Start the trading bot with live visualization using Plotly\n",
        "make_trading_decision(model, scaler, tickers)\n"
      ],
      "metadata": {
        "id": "Fe-dzKdVpGx4"
      },
      "execution_count": null,
      "outputs": []
    }
  ]
}